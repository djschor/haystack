{
 "cells": [
  {
   "cell_type": "code",
   "execution_count": 4,
   "metadata": {},
   "outputs": [
    {
     "data": {
      "text/plain": [
       "{'UserID': '3',\n",
       " 'Password': 'snappybart',\n",
       " 'Email': 'kschorin@comcast.net',\n",
       " 'Username': 'kschor',\n",
       " 'Name': 'Kathleen Schorin'}"
      ]
     },
     "execution_count": 4,
     "metadata": {},
     "output_type": "execute_result"
    }
   ],
   "source": [
    "import boto3\n",
    "import os\n",
    "from datetime import datetime\n",
    "from uuid import uuid4\n",
    "\n",
    "# dynamo_client = boto3.client('dynamodb')\n",
    "\n",
    "# def get_items():\n",
    "#     return dynamo_client.scan(\n",
    "#         TableName='YourTestTable'\n",
    "#     )\n",
    "\n",
    "\n",
    "\n",
    "DDB_TABLE_NAME = 'Users'\n",
    "ddb_res = boto3.resource('dynamodb')\n",
    "ddb_table = ddb_res.Table(DDB_TABLE_NAME)\n",
    "\n",
    "def create_user(item: dict) -> dict:\n",
    "    '''Transform item to put into DDB'''\n",
    "    dt = datetime.utcnow()\n",
    "    item['UserID'] = '3'\n",
    "    item['Username'] = 'kschor'\n",
    "    item['Name'] = 'Kathleen Schorin'\n",
    "    item['Password'] = 'snappybart'\n",
    "    item['Email'] = 'kschorin@comcast.net'\n",
    "    r = ddb_table.put_item(\n",
    "        Item=item\n",
    "    )\n",
    "    return {'user_id': item['UserID']}\n",
    "\n",
    "def retrieve_user(user_id: str) -> dict:\n",
    "    '''Get user item in DDB'''\n",
    "    r = ddb_table.get_item(\n",
    "        Key={\n",
    "            'UserID': user_id,\n",
    "        }\n",
    "    )\n",
    "    item = r.get('Item', {})\n",
    "\n",
    "    return itemb\n",
    "\n",
    "retrieve_user('3')"
   ]
  },
  {
   "cell_type": "code",
   "execution_count": 10,
   "metadata": {},
   "outputs": [
    {
     "name": "stdout",
     "output_type": "stream",
     "text": [
      "None\n"
     ]
    }
   ],
   "source": [
    "print(os.environ.get('FLASK_APP'))"
   ]
  },
  {
   "cell_type": "code",
   "execution_count": 12,
   "metadata": {},
   "outputs": [
    {
     "name": "stdout",
     "output_type": "stream",
     "text": [
      "User's Environment variable:\n",
      "{'Apple_PubSub_Socket_Render': '/private/tmp/com.apple.launchd.sJymaAtyug/Render',\n",
      " 'CLICOLOR': '1',\n",
      " 'CONDA_DEFAULT_ENV': 'bluechip',\n",
      " 'CONDA_EXE': '/Users/dschorin/miniconda3/bin/conda',\n",
      " 'CONDA_PREFIX': '/Users/dschorin/miniconda3/envs/bluechip',\n",
      " 'CONDA_PROMPT_MODIFIER': '(bluechip) ',\n",
      " 'CONDA_PYTHON_EXE': '/Users/dschorin/miniconda3/bin/python',\n",
      " 'CONDA_SHLVL': '1',\n",
      " 'GIT_PAGER': 'cat',\n",
      " 'HOME': '/Users/dschorin',\n",
      " 'IGNITE': '/Users/dschorin/.ignite',\n",
      " 'JAVA_HOME': '/Library/Java/JavaVirtualMachines/jdk-11.0.4.jdk/Contents/Home',\n",
      " 'JPY_PARENT_PID': '62488',\n",
      " 'LANG': 'en_US.UTF-8',\n",
      " 'LOGNAME': 'dschorin',\n",
      " 'MPLBACKEND': 'module://ipykernel.pylab.backend_inline',\n",
      " 'OLDPWD': '/Users/dschorin/Documents/projects/PersonalFinance/BluechipAWSBackend/bluechip',\n",
      " 'PAGER': 'cat',\n",
      " 'PATH': '/Users/dschorin/miniconda3/envs/bluechip/bin:/Users/dschorin/bin:/usr/local/bin:/Users/dschorin/miniconda3/condabin:/usr/local/bin:/usr/bin:/bin:/usr/sbin:/sbin:/Applications/VMware '\n",
      "         'Fusion.app/Contents/Public',\n",
      " 'PWD': '/Users/dschorin/Documents/projects/PersonalFinance/BluechipAWSBackend/bluechip',\n",
      " 'SHELL': '/bin/bash',\n",
      " 'SHLVL': '1',\n",
      " 'SSH_AUTH_SOCK': '/private/tmp/com.apple.launchd.ar6ONCfcKZ/Listeners',\n",
      " 'TERM': 'xterm-color',\n",
      " 'TERM_PROGRAM': 'Apple_Terminal',\n",
      " 'TERM_PROGRAM_VERSION': '421.1.1',\n",
      " 'TERM_SESSION_ID': 'A1713C61-C962-49EA-A0BB-0B73F7E4D1FD',\n",
      " 'TMPDIR': '/var/folders/fs/_znd13q13hd19tx0gbv4g2hxv5bynm/T/',\n",
      " 'USER': 'dschorin',\n",
      " 'XPC_FLAGS': '0x0',\n",
      " 'XPC_SERVICE_NAME': '0',\n",
      " '_': '/Users/dschorin/miniconda3/envs/bluechip/bin/jupyter',\n",
      " '_CE_CONDA': '',\n",
      " '_CE_M': ''}\n"
     ]
    }
   ],
   "source": [
    "# Get the list of user's \n",
    "# environment variables \n",
    "env_var = os.environ \n",
    "import pprint  \n",
    "# Print the list of user's \n",
    "# environment variables \n",
    "print(\"User's Environment variable:\") \n",
    "pprint.pprint(dict(env_var), width = 1) \n"
   ]
  },
  {
   "cell_type": "code",
   "execution_count": null,
   "metadata": {},
   "outputs": [],
   "source": []
  }
 ],
 "metadata": {
  "kernelspec": {
   "display_name": "Python 3",
   "language": "python",
   "name": "python3"
  },
  "language_info": {
   "codemirror_mode": {
    "name": "ipython",
    "version": 3
   },
   "file_extension": ".py",
   "mimetype": "text/x-python",
   "name": "python",
   "nbconvert_exporter": "python",
   "pygments_lexer": "ipython3",
   "version": "3.8.5"
  }
 },
 "nbformat": 4,
 "nbformat_minor": 4
}
