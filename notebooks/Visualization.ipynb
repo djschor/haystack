{
 "cells": [
  {
   "cell_type": "code",
   "execution_count": 26,
   "metadata": {},
   "outputs": [],
   "source": [
    "import pandas as pd \n",
    "import pickle \n",
    "import plotly \n",
    "import plotly.express as px\n"
   ]
  },
  {
   "cell_type": "code",
   "execution_count": 35,
   "metadata": {},
   "outputs": [],
   "source": [
    "df = pd.read_pickle('../pickles/stock_att.pkl')\n",
    "df.loc[(df.sector == 'Industrial Goods'),'sector']='N/A'\n",
    "df.loc[(df.sector == 'Consumer Goods'),'sector']='N/A'\n",
    "df.loc[(df.sector == 'Conglomerates'),'sector']='N/A'\n",
    "df.loc[(df.sector == 'Financial'),'sector']='Financial Services'\n",
    "df.loc[(df.sector == ''),'sector']='N/A'\n",
    "sector_count = pd.DataFrame(df['sector'].value_counts()).reset_index()\n",
    "sector_count.columns = ['sector', 'sector_count']"
   ]
  },
  {
   "cell_type": "code",
   "execution_count": 36,
   "metadata": {
    "scrolled": true
   },
   "outputs": [
    {
     "data": {
      "text/html": [
       "<div>\n",
       "<style scoped>\n",
       "    .dataframe tbody tr th:only-of-type {\n",
       "        vertical-align: middle;\n",
       "    }\n",
       "\n",
       "    .dataframe tbody tr th {\n",
       "        vertical-align: top;\n",
       "    }\n",
       "\n",
       "    .dataframe thead th {\n",
       "        text-align: right;\n",
       "    }\n",
       "</style>\n",
       "<table border=\"1\" class=\"dataframe\">\n",
       "  <thead>\n",
       "    <tr style=\"text-align: right;\">\n",
       "      <th></th>\n",
       "      <th>sector</th>\n",
       "      <th>sector_count</th>\n",
       "    </tr>\n",
       "  </thead>\n",
       "  <tbody>\n",
       "    <tr>\n",
       "      <th>0</th>\n",
       "      <td>Financial Services</td>\n",
       "      <td>1993</td>\n",
       "    </tr>\n",
       "    <tr>\n",
       "      <th>1</th>\n",
       "      <td>Healthcare</td>\n",
       "      <td>1535</td>\n",
       "    </tr>\n",
       "    <tr>\n",
       "      <th>2</th>\n",
       "      <td>Technology</td>\n",
       "      <td>1467</td>\n",
       "    </tr>\n",
       "    <tr>\n",
       "      <th>3</th>\n",
       "      <td>Industrials</td>\n",
       "      <td>1219</td>\n",
       "    </tr>\n",
       "    <tr>\n",
       "      <th>4</th>\n",
       "      <td>Consumer Cyclical</td>\n",
       "      <td>917</td>\n",
       "    </tr>\n",
       "    <tr>\n",
       "      <th>5</th>\n",
       "      <td>Real Estate</td>\n",
       "      <td>846</td>\n",
       "    </tr>\n",
       "    <tr>\n",
       "      <th>6</th>\n",
       "      <td>Basic Materials</td>\n",
       "      <td>651</td>\n",
       "    </tr>\n",
       "    <tr>\n",
       "      <th>7</th>\n",
       "      <td>Energy</td>\n",
       "      <td>579</td>\n",
       "    </tr>\n",
       "    <tr>\n",
       "      <th>8</th>\n",
       "      <td>Communication Services</td>\n",
       "      <td>455</td>\n",
       "    </tr>\n",
       "    <tr>\n",
       "      <th>9</th>\n",
       "      <td>N/A</td>\n",
       "      <td>451</td>\n",
       "    </tr>\n",
       "    <tr>\n",
       "      <th>10</th>\n",
       "      <td>Consumer Defensive</td>\n",
       "      <td>413</td>\n",
       "    </tr>\n",
       "    <tr>\n",
       "      <th>11</th>\n",
       "      <td>Utilities</td>\n",
       "      <td>359</td>\n",
       "    </tr>\n",
       "    <tr>\n",
       "      <th>12</th>\n",
       "      <td>Metals &amp; Mining</td>\n",
       "      <td>291</td>\n",
       "    </tr>\n",
       "    <tr>\n",
       "      <th>13</th>\n",
       "      <td>Construction</td>\n",
       "      <td>268</td>\n",
       "    </tr>\n",
       "    <tr>\n",
       "      <th>14</th>\n",
       "      <td>Media</td>\n",
       "      <td>250</td>\n",
       "    </tr>\n",
       "    <tr>\n",
       "      <th>15</th>\n",
       "      <td>Electrical Equipment</td>\n",
       "      <td>244</td>\n",
       "    </tr>\n",
       "    <tr>\n",
       "      <th>16</th>\n",
       "      <td>Textiles, Apparel &amp; Luxury Goods</td>\n",
       "      <td>227</td>\n",
       "    </tr>\n",
       "    <tr>\n",
       "      <th>17</th>\n",
       "      <td>Chemicals</td>\n",
       "      <td>219</td>\n",
       "    </tr>\n",
       "    <tr>\n",
       "      <th>18</th>\n",
       "      <td>Retail</td>\n",
       "      <td>214</td>\n",
       "    </tr>\n",
       "    <tr>\n",
       "      <th>19</th>\n",
       "      <td>Machinery</td>\n",
       "      <td>206</td>\n",
       "    </tr>\n",
       "    <tr>\n",
       "      <th>20</th>\n",
       "      <td>Energy</td>\n",
       "      <td>178</td>\n",
       "    </tr>\n",
       "    <tr>\n",
       "      <th>21</th>\n",
       "      <td>Food Products</td>\n",
       "      <td>176</td>\n",
       "    </tr>\n",
       "    <tr>\n",
       "      <th>22</th>\n",
       "      <td>Health Care</td>\n",
       "      <td>164</td>\n",
       "    </tr>\n",
       "    <tr>\n",
       "      <th>23</th>\n",
       "      <td>Hotels, Restaurants &amp; Leisure</td>\n",
       "      <td>159</td>\n",
       "    </tr>\n",
       "    <tr>\n",
       "      <th>24</th>\n",
       "      <td>Banking</td>\n",
       "      <td>156</td>\n",
       "    </tr>\n",
       "    <tr>\n",
       "      <th>25</th>\n",
       "      <td>Pharmaceuticals</td>\n",
       "      <td>149</td>\n",
       "    </tr>\n",
       "    <tr>\n",
       "      <th>26</th>\n",
       "      <td>Consumer products</td>\n",
       "      <td>134</td>\n",
       "    </tr>\n",
       "    <tr>\n",
       "      <th>27</th>\n",
       "      <td>Auto Components</td>\n",
       "      <td>118</td>\n",
       "    </tr>\n",
       "    <tr>\n",
       "      <th>28</th>\n",
       "      <td>Commercial Services &amp; Supplies</td>\n",
       "      <td>105</td>\n",
       "    </tr>\n",
       "    <tr>\n",
       "      <th>29</th>\n",
       "      <td>Trading Companies &amp; Distributors</td>\n",
       "      <td>89</td>\n",
       "    </tr>\n",
       "    <tr>\n",
       "      <th>30</th>\n",
       "      <td>Biotechnology</td>\n",
       "      <td>86</td>\n",
       "    </tr>\n",
       "    <tr>\n",
       "      <th>31</th>\n",
       "      <td>Semiconductors</td>\n",
       "      <td>77</td>\n",
       "    </tr>\n",
       "    <tr>\n",
       "      <th>32</th>\n",
       "      <td>Insurance</td>\n",
       "      <td>68</td>\n",
       "    </tr>\n",
       "    <tr>\n",
       "      <th>33</th>\n",
       "      <td>Diversified Consumer Services</td>\n",
       "      <td>66</td>\n",
       "    </tr>\n",
       "    <tr>\n",
       "      <th>34</th>\n",
       "      <td>Professional Services</td>\n",
       "      <td>63</td>\n",
       "    </tr>\n",
       "    <tr>\n",
       "      <th>35</th>\n",
       "      <td>Telecommunication</td>\n",
       "      <td>62</td>\n",
       "    </tr>\n",
       "    <tr>\n",
       "      <th>36</th>\n",
       "      <td>Building</td>\n",
       "      <td>55</td>\n",
       "    </tr>\n",
       "    <tr>\n",
       "      <th>37</th>\n",
       "      <td>Communications</td>\n",
       "      <td>52</td>\n",
       "    </tr>\n",
       "    <tr>\n",
       "      <th>38</th>\n",
       "      <td>Packaging</td>\n",
       "      <td>49</td>\n",
       "    </tr>\n",
       "    <tr>\n",
       "      <th>39</th>\n",
       "      <td>Beverages</td>\n",
       "      <td>43</td>\n",
       "    </tr>\n",
       "    <tr>\n",
       "      <th>40</th>\n",
       "      <td>Automobiles</td>\n",
       "      <td>41</td>\n",
       "    </tr>\n",
       "    <tr>\n",
       "      <th>41</th>\n",
       "      <td>Paper &amp; Forest</td>\n",
       "      <td>40</td>\n",
       "    </tr>\n",
       "    <tr>\n",
       "      <th>42</th>\n",
       "      <td>Transportation Infrastructure</td>\n",
       "      <td>39</td>\n",
       "    </tr>\n",
       "    <tr>\n",
       "      <th>43</th>\n",
       "      <td>Life Sciences Tools &amp; Services</td>\n",
       "      <td>37</td>\n",
       "    </tr>\n",
       "    <tr>\n",
       "      <th>44</th>\n",
       "      <td>Logistics &amp; Transportation</td>\n",
       "      <td>35</td>\n",
       "    </tr>\n",
       "    <tr>\n",
       "      <th>45</th>\n",
       "      <td>Aerospace &amp; Defense</td>\n",
       "      <td>33</td>\n",
       "    </tr>\n",
       "    <tr>\n",
       "      <th>46</th>\n",
       "      <td>Industrial Conglomerates</td>\n",
       "      <td>31</td>\n",
       "    </tr>\n",
       "    <tr>\n",
       "      <th>47</th>\n",
       "      <td>Marine</td>\n",
       "      <td>28</td>\n",
       "    </tr>\n",
       "    <tr>\n",
       "      <th>48</th>\n",
       "      <td>Road &amp; Rail</td>\n",
       "      <td>23</td>\n",
       "    </tr>\n",
       "    <tr>\n",
       "      <th>49</th>\n",
       "      <td>Distributors</td>\n",
       "      <td>20</td>\n",
       "    </tr>\n",
       "    <tr>\n",
       "      <th>50</th>\n",
       "      <td>Airlines</td>\n",
       "      <td>18</td>\n",
       "    </tr>\n",
       "    <tr>\n",
       "      <th>51</th>\n",
       "      <td>Leisure Products</td>\n",
       "      <td>17</td>\n",
       "    </tr>\n",
       "    <tr>\n",
       "      <th>52</th>\n",
       "      <td>Tobacco</td>\n",
       "      <td>11</td>\n",
       "    </tr>\n",
       "  </tbody>\n",
       "</table>\n",
       "</div>"
      ],
      "text/plain": [
       "                              sector  sector_count\n",
       "0                 Financial Services          1993\n",
       "1                         Healthcare          1535\n",
       "2                         Technology          1467\n",
       "3                        Industrials          1219\n",
       "4                  Consumer Cyclical           917\n",
       "5                        Real Estate           846\n",
       "6                    Basic Materials           651\n",
       "7                             Energy           579\n",
       "8             Communication Services           455\n",
       "9                                N/A           451\n",
       "10                Consumer Defensive           413\n",
       "11                         Utilities           359\n",
       "12                   Metals & Mining           291\n",
       "13                      Construction           268\n",
       "14                             Media           250\n",
       "15              Electrical Equipment           244\n",
       "16  Textiles, Apparel & Luxury Goods           227\n",
       "17                         Chemicals           219\n",
       "18                            Retail           214\n",
       "19                         Machinery           206\n",
       "20                           Energy            178\n",
       "21                     Food Products           176\n",
       "22                       Health Care           164\n",
       "23     Hotels, Restaurants & Leisure           159\n",
       "24                           Banking           156\n",
       "25                   Pharmaceuticals           149\n",
       "26                 Consumer products           134\n",
       "27                   Auto Components           118\n",
       "28    Commercial Services & Supplies           105\n",
       "29  Trading Companies & Distributors            89\n",
       "30                     Biotechnology            86\n",
       "31                    Semiconductors            77\n",
       "32                         Insurance            68\n",
       "33     Diversified Consumer Services            66\n",
       "34             Professional Services            63\n",
       "35                 Telecommunication            62\n",
       "36                          Building            55\n",
       "37                    Communications            52\n",
       "38                         Packaging            49\n",
       "39                         Beverages            43\n",
       "40                       Automobiles            41\n",
       "41                    Paper & Forest            40\n",
       "42     Transportation Infrastructure            39\n",
       "43    Life Sciences Tools & Services            37\n",
       "44        Logistics & Transportation            35\n",
       "45               Aerospace & Defense            33\n",
       "46          Industrial Conglomerates            31\n",
       "47                            Marine            28\n",
       "48                       Road & Rail            23\n",
       "49                      Distributors            20\n",
       "50                          Airlines            18\n",
       "51                  Leisure Products            17\n",
       "52                           Tobacco            11"
      ]
     },
     "execution_count": 36,
     "metadata": {},
     "output_type": "execute_result"
    }
   ],
   "source": [
    "sector_count\n"
   ]
  },
  {
   "cell_type": "code",
   "execution_count": 43,
   "metadata": {},
   "outputs": [
    {
     "data": {
      "application/vnd.plotly.v1+json": {
       "config": {
        "plotlyServerURL": "https://plot.ly"
       },
       "data": [
        {
         "alignmentgroup": "True",
         "hovertemplate": "sector=%{x}<br>Symbols in Sector=%{marker.color}<extra></extra>",
         "legendgroup": "",
         "marker": {
          "color": [
           1993,
           1535,
           1467,
           1219,
           917,
           846,
           651,
           579,
           455,
           451,
           413,
           359,
           291,
           268,
           250,
           244,
           227,
           219,
           214,
           206,
           178,
           176,
           164,
           159,
           156,
           149,
           134,
           118,
           105,
           89,
           86,
           77,
           68,
           66,
           63,
           62,
           55,
           52,
           49,
           43,
           41,
           40,
           39,
           37,
           35,
           33,
           31,
           28,
           23,
           20,
           18,
           17,
           11
          ],
          "coloraxis": "coloraxis"
         },
         "name": "",
         "offsetgroup": "",
         "orientation": "v",
         "showlegend": false,
         "textposition": "auto",
         "type": "bar",
         "x": [
          "Financial Services",
          "Healthcare",
          "Technology",
          "Industrials",
          "Consumer Cyclical",
          "Real Estate",
          "Basic Materials",
          "Energy",
          "Communication Services",
          "N/A",
          "Consumer Defensive",
          "Utilities",
          "Metals & Mining",
          "Construction",
          "Media",
          "Electrical Equipment",
          "Textiles, Apparel & Luxury Goods",
          "Chemicals",
          "Retail",
          "Machinery",
          "Energy ",
          "Food Products",
          "Health Care",
          "Hotels, Restaurants & Leisure",
          "Banking",
          "Pharmaceuticals",
          "Consumer products",
          "Auto Components",
          "Commercial Services & Supplies",
          "Trading Companies & Distributors",
          "Biotechnology",
          "Semiconductors",
          "Insurance",
          "Diversified Consumer Services",
          "Professional Services",
          "Telecommunication",
          "Building",
          "Communications",
          "Packaging",
          "Beverages",
          "Automobiles",
          "Paper & Forest",
          "Transportation Infrastructure",
          "Life Sciences Tools & Services",
          "Logistics & Transportation",
          "Aerospace & Defense",
          "Industrial Conglomerates",
          "Marine",
          "Road & Rail",
          "Distributors",
          "Airlines",
          "Leisure Products",
          "Tobacco"
         ],
         "xaxis": "x",
         "y": [
          1993,
          1535,
          1467,
          1219,
          917,
          846,
          651,
          579,
          455,
          451,
          413,
          359,
          291,
          268,
          250,
          244,
          227,
          219,
          214,
          206,
          178,
          176,
          164,
          159,
          156,
          149,
          134,
          118,
          105,
          89,
          86,
          77,
          68,
          66,
          63,
          62,
          55,
          52,
          49,
          43,
          41,
          40,
          39,
          37,
          35,
          33,
          31,
          28,
          23,
          20,
          18,
          17,
          11
         ],
         "yaxis": "y"
        }
       ],
       "layout": {
        "barmode": "group",
        "coloraxis": {
         "colorbar": {
          "title": {
           "text": "Symbols in Sector"
          }
         },
         "colorscale": [
          [
           0,
           "#0d0887"
          ],
          [
           0.1111111111111111,
           "#46039f"
          ],
          [
           0.2222222222222222,
           "#7201a8"
          ],
          [
           0.3333333333333333,
           "#9c179e"
          ],
          [
           0.4444444444444444,
           "#bd3786"
          ],
          [
           0.5555555555555556,
           "#d8576b"
          ],
          [
           0.6666666666666666,
           "#ed7953"
          ],
          [
           0.7777777777777778,
           "#fb9f3a"
          ],
          [
           0.8888888888888888,
           "#fdca26"
          ],
          [
           1,
           "#f0f921"
          ]
         ]
        },
        "height": 600,
        "legend": {
         "tracegroupgap": 0
        },
        "margin": {
         "t": 60
        },
        "template": {
         "data": {
          "bar": [
           {
            "error_x": {
             "color": "#2a3f5f"
            },
            "error_y": {
             "color": "#2a3f5f"
            },
            "marker": {
             "line": {
              "color": "#E5ECF6",
              "width": 0.5
             }
            },
            "type": "bar"
           }
          ],
          "barpolar": [
           {
            "marker": {
             "line": {
              "color": "#E5ECF6",
              "width": 0.5
             }
            },
            "type": "barpolar"
           }
          ],
          "carpet": [
           {
            "aaxis": {
             "endlinecolor": "#2a3f5f",
             "gridcolor": "white",
             "linecolor": "white",
             "minorgridcolor": "white",
             "startlinecolor": "#2a3f5f"
            },
            "baxis": {
             "endlinecolor": "#2a3f5f",
             "gridcolor": "white",
             "linecolor": "white",
             "minorgridcolor": "white",
             "startlinecolor": "#2a3f5f"
            },
            "type": "carpet"
           }
          ],
          "choropleth": [
           {
            "colorbar": {
             "outlinewidth": 0,
             "ticks": ""
            },
            "type": "choropleth"
           }
          ],
          "contour": [
           {
            "colorbar": {
             "outlinewidth": 0,
             "ticks": ""
            },
            "colorscale": [
             [
              0,
              "#0d0887"
             ],
             [
              0.1111111111111111,
              "#46039f"
             ],
             [
              0.2222222222222222,
              "#7201a8"
             ],
             [
              0.3333333333333333,
              "#9c179e"
             ],
             [
              0.4444444444444444,
              "#bd3786"
             ],
             [
              0.5555555555555556,
              "#d8576b"
             ],
             [
              0.6666666666666666,
              "#ed7953"
             ],
             [
              0.7777777777777778,
              "#fb9f3a"
             ],
             [
              0.8888888888888888,
              "#fdca26"
             ],
             [
              1,
              "#f0f921"
             ]
            ],
            "type": "contour"
           }
          ],
          "contourcarpet": [
           {
            "colorbar": {
             "outlinewidth": 0,
             "ticks": ""
            },
            "type": "contourcarpet"
           }
          ],
          "heatmap": [
           {
            "colorbar": {
             "outlinewidth": 0,
             "ticks": ""
            },
            "colorscale": [
             [
              0,
              "#0d0887"
             ],
             [
              0.1111111111111111,
              "#46039f"
             ],
             [
              0.2222222222222222,
              "#7201a8"
             ],
             [
              0.3333333333333333,
              "#9c179e"
             ],
             [
              0.4444444444444444,
              "#bd3786"
             ],
             [
              0.5555555555555556,
              "#d8576b"
             ],
             [
              0.6666666666666666,
              "#ed7953"
             ],
             [
              0.7777777777777778,
              "#fb9f3a"
             ],
             [
              0.8888888888888888,
              "#fdca26"
             ],
             [
              1,
              "#f0f921"
             ]
            ],
            "type": "heatmap"
           }
          ],
          "heatmapgl": [
           {
            "colorbar": {
             "outlinewidth": 0,
             "ticks": ""
            },
            "colorscale": [
             [
              0,
              "#0d0887"
             ],
             [
              0.1111111111111111,
              "#46039f"
             ],
             [
              0.2222222222222222,
              "#7201a8"
             ],
             [
              0.3333333333333333,
              "#9c179e"
             ],
             [
              0.4444444444444444,
              "#bd3786"
             ],
             [
              0.5555555555555556,
              "#d8576b"
             ],
             [
              0.6666666666666666,
              "#ed7953"
             ],
             [
              0.7777777777777778,
              "#fb9f3a"
             ],
             [
              0.8888888888888888,
              "#fdca26"
             ],
             [
              1,
              "#f0f921"
             ]
            ],
            "type": "heatmapgl"
           }
          ],
          "histogram": [
           {
            "marker": {
             "colorbar": {
              "outlinewidth": 0,
              "ticks": ""
             }
            },
            "type": "histogram"
           }
          ],
          "histogram2d": [
           {
            "colorbar": {
             "outlinewidth": 0,
             "ticks": ""
            },
            "colorscale": [
             [
              0,
              "#0d0887"
             ],
             [
              0.1111111111111111,
              "#46039f"
             ],
             [
              0.2222222222222222,
              "#7201a8"
             ],
             [
              0.3333333333333333,
              "#9c179e"
             ],
             [
              0.4444444444444444,
              "#bd3786"
             ],
             [
              0.5555555555555556,
              "#d8576b"
             ],
             [
              0.6666666666666666,
              "#ed7953"
             ],
             [
              0.7777777777777778,
              "#fb9f3a"
             ],
             [
              0.8888888888888888,
              "#fdca26"
             ],
             [
              1,
              "#f0f921"
             ]
            ],
            "type": "histogram2d"
           }
          ],
          "histogram2dcontour": [
           {
            "colorbar": {
             "outlinewidth": 0,
             "ticks": ""
            },
            "colorscale": [
             [
              0,
              "#0d0887"
             ],
             [
              0.1111111111111111,
              "#46039f"
             ],
             [
              0.2222222222222222,
              "#7201a8"
             ],
             [
              0.3333333333333333,
              "#9c179e"
             ],
             [
              0.4444444444444444,
              "#bd3786"
             ],
             [
              0.5555555555555556,
              "#d8576b"
             ],
             [
              0.6666666666666666,
              "#ed7953"
             ],
             [
              0.7777777777777778,
              "#fb9f3a"
             ],
             [
              0.8888888888888888,
              "#fdca26"
             ],
             [
              1,
              "#f0f921"
             ]
            ],
            "type": "histogram2dcontour"
           }
          ],
          "mesh3d": [
           {
            "colorbar": {
             "outlinewidth": 0,
             "ticks": ""
            },
            "type": "mesh3d"
           }
          ],
          "parcoords": [
           {
            "line": {
             "colorbar": {
              "outlinewidth": 0,
              "ticks": ""
             }
            },
            "type": "parcoords"
           }
          ],
          "pie": [
           {
            "automargin": true,
            "type": "pie"
           }
          ],
          "scatter": [
           {
            "marker": {
             "colorbar": {
              "outlinewidth": 0,
              "ticks": ""
             }
            },
            "type": "scatter"
           }
          ],
          "scatter3d": [
           {
            "line": {
             "colorbar": {
              "outlinewidth": 0,
              "ticks": ""
             }
            },
            "marker": {
             "colorbar": {
              "outlinewidth": 0,
              "ticks": ""
             }
            },
            "type": "scatter3d"
           }
          ],
          "scattercarpet": [
           {
            "marker": {
             "colorbar": {
              "outlinewidth": 0,
              "ticks": ""
             }
            },
            "type": "scattercarpet"
           }
          ],
          "scattergeo": [
           {
            "marker": {
             "colorbar": {
              "outlinewidth": 0,
              "ticks": ""
             }
            },
            "type": "scattergeo"
           }
          ],
          "scattergl": [
           {
            "marker": {
             "colorbar": {
              "outlinewidth": 0,
              "ticks": ""
             }
            },
            "type": "scattergl"
           }
          ],
          "scattermapbox": [
           {
            "marker": {
             "colorbar": {
              "outlinewidth": 0,
              "ticks": ""
             }
            },
            "type": "scattermapbox"
           }
          ],
          "scatterpolar": [
           {
            "marker": {
             "colorbar": {
              "outlinewidth": 0,
              "ticks": ""
             }
            },
            "type": "scatterpolar"
           }
          ],
          "scatterpolargl": [
           {
            "marker": {
             "colorbar": {
              "outlinewidth": 0,
              "ticks": ""
             }
            },
            "type": "scatterpolargl"
           }
          ],
          "scatterternary": [
           {
            "marker": {
             "colorbar": {
              "outlinewidth": 0,
              "ticks": ""
             }
            },
            "type": "scatterternary"
           }
          ],
          "surface": [
           {
            "colorbar": {
             "outlinewidth": 0,
             "ticks": ""
            },
            "colorscale": [
             [
              0,
              "#0d0887"
             ],
             [
              0.1111111111111111,
              "#46039f"
             ],
             [
              0.2222222222222222,
              "#7201a8"
             ],
             [
              0.3333333333333333,
              "#9c179e"
             ],
             [
              0.4444444444444444,
              "#bd3786"
             ],
             [
              0.5555555555555556,
              "#d8576b"
             ],
             [
              0.6666666666666666,
              "#ed7953"
             ],
             [
              0.7777777777777778,
              "#fb9f3a"
             ],
             [
              0.8888888888888888,
              "#fdca26"
             ],
             [
              1,
              "#f0f921"
             ]
            ],
            "type": "surface"
           }
          ],
          "table": [
           {
            "cells": {
             "fill": {
              "color": "#EBF0F8"
             },
             "line": {
              "color": "white"
             }
            },
            "header": {
             "fill": {
              "color": "#C8D4E3"
             },
             "line": {
              "color": "white"
             }
            },
            "type": "table"
           }
          ]
         },
         "layout": {
          "annotationdefaults": {
           "arrowcolor": "#2a3f5f",
           "arrowhead": 0,
           "arrowwidth": 1
          },
          "autotypenumbers": "strict",
          "coloraxis": {
           "colorbar": {
            "outlinewidth": 0,
            "ticks": ""
           }
          },
          "colorscale": {
           "diverging": [
            [
             0,
             "#8e0152"
            ],
            [
             0.1,
             "#c51b7d"
            ],
            [
             0.2,
             "#de77ae"
            ],
            [
             0.3,
             "#f1b6da"
            ],
            [
             0.4,
             "#fde0ef"
            ],
            [
             0.5,
             "#f7f7f7"
            ],
            [
             0.6,
             "#e6f5d0"
            ],
            [
             0.7,
             "#b8e186"
            ],
            [
             0.8,
             "#7fbc41"
            ],
            [
             0.9,
             "#4d9221"
            ],
            [
             1,
             "#276419"
            ]
           ],
           "sequential": [
            [
             0,
             "#0d0887"
            ],
            [
             0.1111111111111111,
             "#46039f"
            ],
            [
             0.2222222222222222,
             "#7201a8"
            ],
            [
             0.3333333333333333,
             "#9c179e"
            ],
            [
             0.4444444444444444,
             "#bd3786"
            ],
            [
             0.5555555555555556,
             "#d8576b"
            ],
            [
             0.6666666666666666,
             "#ed7953"
            ],
            [
             0.7777777777777778,
             "#fb9f3a"
            ],
            [
             0.8888888888888888,
             "#fdca26"
            ],
            [
             1,
             "#f0f921"
            ]
           ],
           "sequentialminus": [
            [
             0,
             "#0d0887"
            ],
            [
             0.1111111111111111,
             "#46039f"
            ],
            [
             0.2222222222222222,
             "#7201a8"
            ],
            [
             0.3333333333333333,
             "#9c179e"
            ],
            [
             0.4444444444444444,
             "#bd3786"
            ],
            [
             0.5555555555555556,
             "#d8576b"
            ],
            [
             0.6666666666666666,
             "#ed7953"
            ],
            [
             0.7777777777777778,
             "#fb9f3a"
            ],
            [
             0.8888888888888888,
             "#fdca26"
            ],
            [
             1,
             "#f0f921"
            ]
           ]
          },
          "colorway": [
           "#636efa",
           "#EF553B",
           "#00cc96",
           "#ab63fa",
           "#FFA15A",
           "#19d3f3",
           "#FF6692",
           "#B6E880",
           "#FF97FF",
           "#FECB52"
          ],
          "font": {
           "color": "#2a3f5f"
          },
          "geo": {
           "bgcolor": "white",
           "lakecolor": "white",
           "landcolor": "#E5ECF6",
           "showlakes": true,
           "showland": true,
           "subunitcolor": "white"
          },
          "hoverlabel": {
           "align": "left"
          },
          "hovermode": "closest",
          "mapbox": {
           "style": "light"
          },
          "paper_bgcolor": "white",
          "plot_bgcolor": "#E5ECF6",
          "polar": {
           "angularaxis": {
            "gridcolor": "white",
            "linecolor": "white",
            "ticks": ""
           },
           "bgcolor": "#E5ECF6",
           "radialaxis": {
            "gridcolor": "white",
            "linecolor": "white",
            "ticks": ""
           }
          },
          "scene": {
           "xaxis": {
            "backgroundcolor": "#E5ECF6",
            "gridcolor": "white",
            "gridwidth": 2,
            "linecolor": "white",
            "showbackground": true,
            "ticks": "",
            "zerolinecolor": "white"
           },
           "yaxis": {
            "backgroundcolor": "#E5ECF6",
            "gridcolor": "white",
            "gridwidth": 2,
            "linecolor": "white",
            "showbackground": true,
            "ticks": "",
            "zerolinecolor": "white"
           },
           "zaxis": {
            "backgroundcolor": "#E5ECF6",
            "gridcolor": "white",
            "gridwidth": 2,
            "linecolor": "white",
            "showbackground": true,
            "ticks": "",
            "zerolinecolor": "white"
           }
          },
          "shapedefaults": {
           "line": {
            "color": "#2a3f5f"
           }
          },
          "ternary": {
           "aaxis": {
            "gridcolor": "white",
            "linecolor": "white",
            "ticks": ""
           },
           "baxis": {
            "gridcolor": "white",
            "linecolor": "white",
            "ticks": ""
           },
           "bgcolor": "#E5ECF6",
           "caxis": {
            "gridcolor": "white",
            "linecolor": "white",
            "ticks": ""
           }
          },
          "title": {
           "x": 0.05
          },
          "xaxis": {
           "automargin": true,
           "gridcolor": "white",
           "linecolor": "white",
           "ticks": "",
           "title": {
            "standoff": 15
           },
           "zerolinecolor": "white",
           "zerolinewidth": 2
          },
          "yaxis": {
           "automargin": true,
           "gridcolor": "white",
           "linecolor": "white",
           "ticks": "",
           "title": {
            "standoff": 15
           },
           "zerolinecolor": "white",
           "zerolinewidth": 2
          }
         }
        },
        "xaxis": {
         "anchor": "y",
         "domain": [
          0,
          1
         ],
         "tickangle": 30,
         "title": {
          "text": "sector"
         }
        },
        "yaxis": {
         "anchor": "x",
         "domain": [
          0,
          1
         ],
         "title": {
          "text": "Symbols in Sector"
         }
        }
       }
      },
      "text/html": [
       "<div>                            <div id=\"113c198f-5605-46e6-a7d7-71204dc25767\" class=\"plotly-graph-div\" style=\"height:600px; width:100%;\"></div>            <script type=\"text/javascript\">                require([\"plotly\"], function(Plotly) {                    window.PLOTLYENV=window.PLOTLYENV || {};                                    if (document.getElementById(\"113c198f-5605-46e6-a7d7-71204dc25767\")) {                    Plotly.newPlot(                        \"113c198f-5605-46e6-a7d7-71204dc25767\",                        [{\"alignmentgroup\": \"True\", \"hovertemplate\": \"sector=%{x}<br>Symbols in Sector=%{marker.color}<extra></extra>\", \"legendgroup\": \"\", \"marker\": {\"color\": [1993, 1535, 1467, 1219, 917, 846, 651, 579, 455, 451, 413, 359, 291, 268, 250, 244, 227, 219, 214, 206, 178, 176, 164, 159, 156, 149, 134, 118, 105, 89, 86, 77, 68, 66, 63, 62, 55, 52, 49, 43, 41, 40, 39, 37, 35, 33, 31, 28, 23, 20, 18, 17, 11], \"coloraxis\": \"coloraxis\"}, \"name\": \"\", \"offsetgroup\": \"\", \"orientation\": \"v\", \"showlegend\": false, \"textposition\": \"auto\", \"type\": \"bar\", \"x\": [\"Financial Services\", \"Healthcare\", \"Technology\", \"Industrials\", \"Consumer Cyclical\", \"Real Estate\", \"Basic Materials\", \"Energy\", \"Communication Services\", \"N/A\", \"Consumer Defensive\", \"Utilities\", \"Metals & Mining\", \"Construction\", \"Media\", \"Electrical Equipment\", \"Textiles, Apparel & Luxury Goods\", \"Chemicals\", \"Retail\", \"Machinery\", \"Energy \", \"Food Products\", \"Health Care\", \"Hotels, Restaurants & Leisure\", \"Banking\", \"Pharmaceuticals\", \"Consumer products\", \"Auto Components\", \"Commercial Services & Supplies\", \"Trading Companies & Distributors\", \"Biotechnology\", \"Semiconductors\", \"Insurance\", \"Diversified Consumer Services\", \"Professional Services\", \"Telecommunication\", \"Building\", \"Communications\", \"Packaging\", \"Beverages\", \"Automobiles\", \"Paper & Forest\", \"Transportation Infrastructure\", \"Life Sciences Tools & Services\", \"Logistics & Transportation\", \"Aerospace & Defense\", \"Industrial Conglomerates\", \"Marine\", \"Road & Rail\", \"Distributors\", \"Airlines\", \"Leisure Products\", \"Tobacco\"], \"xaxis\": \"x\", \"y\": [1993, 1535, 1467, 1219, 917, 846, 651, 579, 455, 451, 413, 359, 291, 268, 250, 244, 227, 219, 214, 206, 178, 176, 164, 159, 156, 149, 134, 118, 105, 89, 86, 77, 68, 66, 63, 62, 55, 52, 49, 43, 41, 40, 39, 37, 35, 33, 31, 28, 23, 20, 18, 17, 11], \"yaxis\": \"y\"}],                        {\"barmode\": \"group\", \"coloraxis\": {\"colorbar\": {\"title\": {\"text\": \"Symbols in Sector\"}}, \"colorscale\": [[0.0, \"#0d0887\"], [0.1111111111111111, \"#46039f\"], [0.2222222222222222, \"#7201a8\"], [0.3333333333333333, \"#9c179e\"], [0.4444444444444444, \"#bd3786\"], [0.5555555555555556, \"#d8576b\"], [0.6666666666666666, \"#ed7953\"], [0.7777777777777778, \"#fb9f3a\"], [0.8888888888888888, \"#fdca26\"], [1.0, \"#f0f921\"]]}, \"height\": 600, \"legend\": {\"tracegroupgap\": 0}, \"margin\": {\"t\": 60}, \"template\": {\"data\": {\"bar\": [{\"error_x\": {\"color\": \"#2a3f5f\"}, \"error_y\": {\"color\": \"#2a3f5f\"}, \"marker\": {\"line\": {\"color\": \"#E5ECF6\", \"width\": 0.5}}, \"type\": \"bar\"}], \"barpolar\": [{\"marker\": {\"line\": {\"color\": \"#E5ECF6\", \"width\": 0.5}}, \"type\": \"barpolar\"}], \"carpet\": [{\"aaxis\": {\"endlinecolor\": \"#2a3f5f\", \"gridcolor\": \"white\", \"linecolor\": \"white\", \"minorgridcolor\": \"white\", \"startlinecolor\": \"#2a3f5f\"}, \"baxis\": {\"endlinecolor\": \"#2a3f5f\", \"gridcolor\": \"white\", \"linecolor\": \"white\", \"minorgridcolor\": \"white\", \"startlinecolor\": \"#2a3f5f\"}, \"type\": \"carpet\"}], \"choropleth\": [{\"colorbar\": {\"outlinewidth\": 0, \"ticks\": \"\"}, \"type\": \"choropleth\"}], \"contour\": [{\"colorbar\": {\"outlinewidth\": 0, \"ticks\": \"\"}, \"colorscale\": [[0.0, \"#0d0887\"], [0.1111111111111111, \"#46039f\"], [0.2222222222222222, \"#7201a8\"], [0.3333333333333333, \"#9c179e\"], [0.4444444444444444, \"#bd3786\"], [0.5555555555555556, \"#d8576b\"], [0.6666666666666666, \"#ed7953\"], [0.7777777777777778, \"#fb9f3a\"], [0.8888888888888888, \"#fdca26\"], [1.0, \"#f0f921\"]], \"type\": \"contour\"}], \"contourcarpet\": [{\"colorbar\": {\"outlinewidth\": 0, \"ticks\": \"\"}, \"type\": \"contourcarpet\"}], \"heatmap\": [{\"colorbar\": {\"outlinewidth\": 0, \"ticks\": \"\"}, \"colorscale\": [[0.0, \"#0d0887\"], [0.1111111111111111, \"#46039f\"], [0.2222222222222222, \"#7201a8\"], [0.3333333333333333, \"#9c179e\"], [0.4444444444444444, \"#bd3786\"], [0.5555555555555556, \"#d8576b\"], [0.6666666666666666, \"#ed7953\"], [0.7777777777777778, \"#fb9f3a\"], [0.8888888888888888, \"#fdca26\"], [1.0, \"#f0f921\"]], \"type\": \"heatmap\"}], \"heatmapgl\": [{\"colorbar\": {\"outlinewidth\": 0, \"ticks\": \"\"}, \"colorscale\": [[0.0, \"#0d0887\"], [0.1111111111111111, \"#46039f\"], [0.2222222222222222, \"#7201a8\"], [0.3333333333333333, \"#9c179e\"], [0.4444444444444444, \"#bd3786\"], [0.5555555555555556, \"#d8576b\"], [0.6666666666666666, \"#ed7953\"], [0.7777777777777778, \"#fb9f3a\"], [0.8888888888888888, \"#fdca26\"], [1.0, \"#f0f921\"]], \"type\": \"heatmapgl\"}], \"histogram\": [{\"marker\": {\"colorbar\": {\"outlinewidth\": 0, \"ticks\": \"\"}}, \"type\": \"histogram\"}], \"histogram2d\": [{\"colorbar\": {\"outlinewidth\": 0, \"ticks\": \"\"}, \"colorscale\": [[0.0, \"#0d0887\"], [0.1111111111111111, \"#46039f\"], [0.2222222222222222, \"#7201a8\"], [0.3333333333333333, \"#9c179e\"], [0.4444444444444444, \"#bd3786\"], [0.5555555555555556, \"#d8576b\"], [0.6666666666666666, \"#ed7953\"], [0.7777777777777778, \"#fb9f3a\"], [0.8888888888888888, \"#fdca26\"], [1.0, \"#f0f921\"]], \"type\": \"histogram2d\"}], \"histogram2dcontour\": [{\"colorbar\": {\"outlinewidth\": 0, \"ticks\": \"\"}, \"colorscale\": [[0.0, \"#0d0887\"], [0.1111111111111111, \"#46039f\"], [0.2222222222222222, \"#7201a8\"], [0.3333333333333333, \"#9c179e\"], [0.4444444444444444, \"#bd3786\"], [0.5555555555555556, \"#d8576b\"], [0.6666666666666666, \"#ed7953\"], [0.7777777777777778, \"#fb9f3a\"], [0.8888888888888888, \"#fdca26\"], [1.0, \"#f0f921\"]], \"type\": \"histogram2dcontour\"}], \"mesh3d\": [{\"colorbar\": {\"outlinewidth\": 0, \"ticks\": \"\"}, \"type\": \"mesh3d\"}], \"parcoords\": [{\"line\": {\"colorbar\": {\"outlinewidth\": 0, \"ticks\": \"\"}}, \"type\": \"parcoords\"}], \"pie\": [{\"automargin\": true, \"type\": \"pie\"}], \"scatter\": [{\"marker\": {\"colorbar\": {\"outlinewidth\": 0, \"ticks\": \"\"}}, \"type\": \"scatter\"}], \"scatter3d\": [{\"line\": {\"colorbar\": {\"outlinewidth\": 0, \"ticks\": \"\"}}, \"marker\": {\"colorbar\": {\"outlinewidth\": 0, \"ticks\": \"\"}}, \"type\": \"scatter3d\"}], \"scattercarpet\": [{\"marker\": {\"colorbar\": {\"outlinewidth\": 0, \"ticks\": \"\"}}, \"type\": \"scattercarpet\"}], \"scattergeo\": [{\"marker\": {\"colorbar\": {\"outlinewidth\": 0, \"ticks\": \"\"}}, \"type\": \"scattergeo\"}], \"scattergl\": [{\"marker\": {\"colorbar\": {\"outlinewidth\": 0, \"ticks\": \"\"}}, \"type\": \"scattergl\"}], \"scattermapbox\": [{\"marker\": {\"colorbar\": {\"outlinewidth\": 0, \"ticks\": \"\"}}, \"type\": \"scattermapbox\"}], \"scatterpolar\": [{\"marker\": {\"colorbar\": {\"outlinewidth\": 0, \"ticks\": \"\"}}, \"type\": \"scatterpolar\"}], \"scatterpolargl\": [{\"marker\": {\"colorbar\": {\"outlinewidth\": 0, \"ticks\": \"\"}}, \"type\": \"scatterpolargl\"}], \"scatterternary\": [{\"marker\": {\"colorbar\": {\"outlinewidth\": 0, \"ticks\": \"\"}}, \"type\": \"scatterternary\"}], \"surface\": [{\"colorbar\": {\"outlinewidth\": 0, \"ticks\": \"\"}, \"colorscale\": [[0.0, \"#0d0887\"], [0.1111111111111111, \"#46039f\"], [0.2222222222222222, \"#7201a8\"], [0.3333333333333333, \"#9c179e\"], [0.4444444444444444, \"#bd3786\"], [0.5555555555555556, \"#d8576b\"], [0.6666666666666666, \"#ed7953\"], [0.7777777777777778, \"#fb9f3a\"], [0.8888888888888888, \"#fdca26\"], [1.0, \"#f0f921\"]], \"type\": \"surface\"}], \"table\": [{\"cells\": {\"fill\": {\"color\": \"#EBF0F8\"}, \"line\": {\"color\": \"white\"}}, \"header\": {\"fill\": {\"color\": \"#C8D4E3\"}, \"line\": {\"color\": \"white\"}}, \"type\": \"table\"}]}, \"layout\": {\"annotationdefaults\": {\"arrowcolor\": \"#2a3f5f\", \"arrowhead\": 0, \"arrowwidth\": 1}, \"autotypenumbers\": \"strict\", \"coloraxis\": {\"colorbar\": {\"outlinewidth\": 0, \"ticks\": \"\"}}, \"colorscale\": {\"diverging\": [[0, \"#8e0152\"], [0.1, \"#c51b7d\"], [0.2, \"#de77ae\"], [0.3, \"#f1b6da\"], [0.4, \"#fde0ef\"], [0.5, \"#f7f7f7\"], [0.6, \"#e6f5d0\"], [0.7, \"#b8e186\"], [0.8, \"#7fbc41\"], [0.9, \"#4d9221\"], [1, \"#276419\"]], \"sequential\": [[0.0, \"#0d0887\"], [0.1111111111111111, \"#46039f\"], [0.2222222222222222, \"#7201a8\"], [0.3333333333333333, \"#9c179e\"], [0.4444444444444444, \"#bd3786\"], [0.5555555555555556, \"#d8576b\"], [0.6666666666666666, \"#ed7953\"], [0.7777777777777778, \"#fb9f3a\"], [0.8888888888888888, \"#fdca26\"], [1.0, \"#f0f921\"]], \"sequentialminus\": [[0.0, \"#0d0887\"], [0.1111111111111111, \"#46039f\"], [0.2222222222222222, \"#7201a8\"], [0.3333333333333333, \"#9c179e\"], [0.4444444444444444, \"#bd3786\"], [0.5555555555555556, \"#d8576b\"], [0.6666666666666666, \"#ed7953\"], [0.7777777777777778, \"#fb9f3a\"], [0.8888888888888888, \"#fdca26\"], [1.0, \"#f0f921\"]]}, \"colorway\": [\"#636efa\", \"#EF553B\", \"#00cc96\", \"#ab63fa\", \"#FFA15A\", \"#19d3f3\", \"#FF6692\", \"#B6E880\", \"#FF97FF\", \"#FECB52\"], \"font\": {\"color\": \"#2a3f5f\"}, \"geo\": {\"bgcolor\": \"white\", \"lakecolor\": \"white\", \"landcolor\": \"#E5ECF6\", \"showlakes\": true, \"showland\": true, \"subunitcolor\": \"white\"}, \"hoverlabel\": {\"align\": \"left\"}, \"hovermode\": \"closest\", \"mapbox\": {\"style\": \"light\"}, \"paper_bgcolor\": \"white\", \"plot_bgcolor\": \"#E5ECF6\", \"polar\": {\"angularaxis\": {\"gridcolor\": \"white\", \"linecolor\": \"white\", \"ticks\": \"\"}, \"bgcolor\": \"#E5ECF6\", \"radialaxis\": {\"gridcolor\": \"white\", \"linecolor\": \"white\", \"ticks\": \"\"}}, \"scene\": {\"xaxis\": {\"backgroundcolor\": \"#E5ECF6\", \"gridcolor\": \"white\", \"gridwidth\": 2, \"linecolor\": \"white\", \"showbackground\": true, \"ticks\": \"\", \"zerolinecolor\": \"white\"}, \"yaxis\": {\"backgroundcolor\": \"#E5ECF6\", \"gridcolor\": \"white\", \"gridwidth\": 2, \"linecolor\": \"white\", \"showbackground\": true, \"ticks\": \"\", \"zerolinecolor\": \"white\"}, \"zaxis\": {\"backgroundcolor\": \"#E5ECF6\", \"gridcolor\": \"white\", \"gridwidth\": 2, \"linecolor\": \"white\", \"showbackground\": true, \"ticks\": \"\", \"zerolinecolor\": \"white\"}}, \"shapedefaults\": {\"line\": {\"color\": \"#2a3f5f\"}}, \"ternary\": {\"aaxis\": {\"gridcolor\": \"white\", \"linecolor\": \"white\", \"ticks\": \"\"}, \"baxis\": {\"gridcolor\": \"white\", \"linecolor\": \"white\", \"ticks\": \"\"}, \"bgcolor\": \"#E5ECF6\", \"caxis\": {\"gridcolor\": \"white\", \"linecolor\": \"white\", \"ticks\": \"\"}}, \"title\": {\"x\": 0.05}, \"xaxis\": {\"automargin\": true, \"gridcolor\": \"white\", \"linecolor\": \"white\", \"ticks\": \"\", \"title\": {\"standoff\": 15}, \"zerolinecolor\": \"white\", \"zerolinewidth\": 2}, \"yaxis\": {\"automargin\": true, \"gridcolor\": \"white\", \"linecolor\": \"white\", \"ticks\": \"\", \"title\": {\"standoff\": 15}, \"zerolinecolor\": \"white\", \"zerolinewidth\": 2}}}, \"xaxis\": {\"anchor\": \"y\", \"domain\": [0.0, 1.0], \"tickangle\": 30, \"title\": {\"text\": \"sector\"}}, \"yaxis\": {\"anchor\": \"x\", \"domain\": [0.0, 1.0], \"title\": {\"text\": \"Symbols in Sector\"}}},                        {\"responsive\": true}                    ).then(function(){\n",
       "                            \n",
       "var gd = document.getElementById('113c198f-5605-46e6-a7d7-71204dc25767');\n",
       "var x = new MutationObserver(function (mutations, observer) {{\n",
       "        var display = window.getComputedStyle(gd).display;\n",
       "        if (!display || display === 'none') {{\n",
       "            console.log([gd, 'removed!']);\n",
       "            Plotly.purge(gd);\n",
       "            observer.disconnect();\n",
       "        }}\n",
       "}});\n",
       "\n",
       "// Listen for the removal of the full notebook cells\n",
       "var notebookContainer = gd.closest('#notebook-container');\n",
       "if (notebookContainer) {{\n",
       "    x.observe(notebookContainer, {childList: true});\n",
       "}}\n",
       "\n",
       "// Listen for the clearing of the current output cell\n",
       "var outputEl = gd.closest('.output');\n",
       "if (outputEl) {{\n",
       "    x.observe(outputEl, {childList: true});\n",
       "}}\n",
       "\n",
       "                        })                };                });            </script>        </div>"
      ]
     },
     "metadata": {},
     "output_type": "display_data"
    }
   ],
   "source": [
    "fig = px.bar(sector_count, x='sector', y='sector_count',\n",
    "             hover_data=['sector', 'sector_count'], color='sector_count',\n",
    "             labels={'sector_count':'Symbols in Sector'}, height=600)\n",
    "fig.update_layout(barmode='group', xaxis_tickangle=30)\n",
    "fig.show()"
   ]
  },
  {
   "cell_type": "code",
   "execution_count": 8,
   "metadata": {},
   "outputs": [
    {
     "name": "stdout",
     "output_type": "stream",
     "text": [
      "# unique sectors 58 \n",
      " unique sectors: \n",
      " ['Financial Services' 'Basic Materials' 'Industrials' 'Real Estate'\n",
      " 'Beverages' 'Marine' 'Electrical Equipment' 'Media' 'Consumer Cyclical'\n",
      " 'Utilities' 'Logistics & Transportation' 'N/A' 'Pharmaceuticals'\n",
      " 'Technology' 'Retail' 'Healthcare' 'Construction' 'Food Products'\n",
      " 'Trading Companies & Distributors' 'Commercial Services & Supplies'\n",
      " 'Machinery' 'Distributors' 'Communication Services'\n",
      " 'Hotels, Restaurants & Leisure' 'Chemicals' 'Auto Components'\n",
      " 'Biotechnology' 'Metals & Mining' 'Energy' 'Semiconductors'\n",
      " 'Telecommunication' 'Consumer Defensive' 'Consumer products' 'Banking'\n",
      " 'Paper & Forest' '' 'Professional Services' 'Health Care' 'Energy '\n",
      " 'Packaging' 'Airlines' 'Road & Rail' 'Communications'\n",
      " 'Diversified Consumer Services' 'Insurance'\n",
      " 'Textiles, Apparel & Luxury Goods' 'Transportation Infrastructure'\n",
      " 'Industrial Conglomerates' 'Aerospace & Defense' 'Automobiles' 'Building'\n",
      " 'Leisure Products' 'Life Sciences Tools & Services' 'Tobacco'\n",
      " 'Consumer Goods' 'Financial' 'Industrial Goods' 'Conglomerates']\n",
      "\n",
      "\n",
      "# unique industries 227 \n",
      " unique industries: \n",
      " ['Diversified Financials' 'Gold' 'Aerospace & Defense' 'REIT'\n",
      " 'Food, Beverage & Tobacco' 'Transportation'\n",
      " 'Technology Hardware & Equipment' 'Airports & Air Services'\n",
      " 'Media & Entertainment' 'Residential Construction' 'Auto Parts'\n",
      " 'Utilities Renewable' 'N/A' 'Banks Regional' 'Asset Management'\n",
      " 'Pharmaceuticals, Biotechnology & Life Sciences' 'Electronic Components'\n",
      " 'Food & Staples Retailing' 'Drug Manufacturers' 'Capital Goods'\n",
      " 'Other Industrial Metals & Mining' 'Software'\n",
      " 'Furnishings, Fixtures & Appliances' 'Drug Manufacturers General'\n",
      " 'Commercial  & Professional Services' 'Medical Care Facilities'\n",
      " 'Real Estate Development' 'Real Estate' 'Retailing'\n",
      " 'Electronic Gaming & Multimedia' 'Telecom Services' 'Consumer Services'\n",
      " 'Pharmaceutical Retailers' 'Materials' 'Information Technology Services'\n",
      " None 'Broadcasting' 'Automobiles & Components'\n",
      " 'Utilities Regulated Electric' 'Agricultural Inputs'\n",
      " 'Software & Services' 'Railroads' 'Apparel Retail' 'Biotechnology'\n",
      " 'Oil & Gas Equipment & Services' 'Internet Content & Information'\n",
      " 'Semiconductors & Semiconductor Equipment' 'Telecommunication Services'\n",
      " 'Engineering & Construction' 'Oil & Gas Midstream' 'Packaged Foods'\n",
      " 'Utilities' 'Consumer Durables & Apparel' 'Banks' 'Specialty Chemicals'\n",
      " 'Oil & Gas E&P' 'Insurance Diversified' 'Energy' 'Diagnostics & Research'\n",
      " 'Specialty Industrial Machinery' 'Transportation & Logistics'\n",
      " 'Insurance Brokers' 'Education & Training Services' 'REIT Office'\n",
      " 'Electrical Equipment & Parts' 'Waste Management'\n",
      " 'Health Care Equipment & Services' 'Real Estate Services'\n",
      " 'Medical Instruments & Supplies' 'Shell Companies' 'Credit Services' ''\n",
      " 'Computer Hardware' 'Software Application' 'Software Infrastructure'\n",
      " 'Specialty Retail' 'Apparel Manufacturing' 'Medical Devices'\n",
      " 'Restaurants' 'Communication Services' 'Oil & Gas Services'\n",
      " 'Semiconductor Equipment & Materials' 'Beverages' 'Semiconductors'\n",
      " 'Insurance Specialty' 'Health Information Services'\n",
      " 'Insurance Property & Casualty' 'Farm Products' 'Capital Markets'\n",
      " 'Infrastructure Operations' 'Food Distribution'\n",
      " 'Pollution & Treatment Controls' 'Tobacco'\n",
      " 'Security & Protection Services' 'Metal Fabrication' 'Confectioners'\n",
      " 'Uranium' 'Scientific & Technical Instruments'\n",
      " 'Farm & Heavy Construction Machinery' 'Communication Equipment'\n",
      " 'Coking Coal' 'Publishing' 'Household & Personal Products'\n",
      " 'REIT Diversified' 'Insurance Life' 'Marine Shipping' 'Insurance'\n",
      " 'Airlines' 'Steel' 'Staffing & Employment Services'\n",
      " 'Rental & Leasing Services' 'Building Materials'\n",
      " 'Consumer Packaged Goods' 'Entertainment' 'Resorts & Casinos'\n",
      " 'Integrated Freight & Logistics' 'Metals & Mining' 'REIT Retail'\n",
      " 'Other Precious Metals & Mining' 'Health Care Providers'\n",
      " 'Advertising Agencies' 'Consulting Services' 'Oil & Gas Drilling'\n",
      " 'Utilities Diversified' 'Packaging & Containers'\n",
      " 'Specialty Business Services' 'Business Equipment & Supplies'\n",
      " 'Conglomerates' 'Auto & Truck Dealerships' 'Leisure' 'Gambling'\n",
      " 'Mortgage Finance' 'Beverages Wineries & Distilleries'\n",
      " 'Building Products & Equipment' 'Recreational Vehicles' 'Luxury Goods'\n",
      " 'Electronics & Computer Distribution' 'Department Stores' 'Copper'\n",
      " 'REIT Residential' 'Solar' 'Industrial Distribution' 'REITs'\n",
      " 'Consumer Electronics' 'Online Media' 'Trucking' 'Autos'\n",
      " 'Drug Manufacturer' 'REIT Hotel & Motel' 'Internet Retail'\n",
      " 'REIT—Diversified' 'Grocery Stores' 'Oil & Gas Integrated'\n",
      " 'Retail Apparel & Specialty' 'REIT—Retail' 'Industrial Products'\n",
      " 'Personal Services' 'REIT Specialty' 'Silver'\n",
      " 'Industrial Metals & Minerals' 'Insurance Reinsurance'\n",
      " 'Tools & Accessories' 'Auto Manufacturers' 'Utilities Regulated'\n",
      " 'REIT Industrial' 'Medical Distribution' 'Health Care Plans' 'Chemicals'\n",
      " 'REIT Mortgage' 'Travel Services' 'Consulting & Outsourcing'\n",
      " 'Drug Manufacturers General Specialty & Generic' 'Discount Stores'\n",
      " 'Oil & Gas Refining & Marketing' 'Home Improvement Retail'\n",
      " 'Paper & Paper Products' 'Drug Manufacturers—Specialty & Generic'\n",
      " 'Beverages Non-Alcoholic' 'Lumber & Wood Production' 'Education'\n",
      " 'Real Estate—Development' 'Thermal Coal' 'Utilities Regulated Gas' 'Coal'\n",
      " 'Financial Data & Stock Exchanges' 'Banks Diversified'\n",
      " 'Beverages Alcoholic' 'Real Estate Diversified'\n",
      " 'Homebuilding & Construction' 'REIT Healthcare Facilities'\n",
      " 'Medical Instruments & Equipment' 'Lodging' 'Textile Manufacturing'\n",
      " 'Business Services' 'Aluminum' 'Utilities Independent Power Producers'\n",
      " 'Footwear & Accessories' 'Banks—Regional' 'Travel & Leisure'\n",
      " 'Manufacturing Apparel & Furniture' 'Electronic Equipment'\n",
      " 'Medical Diagnostics & Research' 'Software—Application'\n",
      " 'Farm & Construction Machinery' 'Utilities—Regulated Gas'\n",
      " 'Brokers & Exchanges' 'Financial Conglomerates' 'Utilities—Diversified'\n",
      " 'Beverages Brewers' 'Utilities Regulated Water' 'Real Estate—Diversified'\n",
      " 'Beverages—Wineries & Distilleries' 'Property Management'\n",
      " 'Industrial Electrical Equipment' 'Retail Defensive'\n",
      " 'Utilitiesâ€”Regulated Water' 'Software—Infrastructure' 'REIT—Office'\n",
      " 'Utilities—Independent Power Producers' 'Independent Oil & Gas'\n",
      " 'Agriculture' 'REIT—Healthcare Facilities' 'Forest Products'\n",
      " 'Utilities—Regulated Water' 'Healthcare Plans' 'Closed-End Fund Debt'\n",
      " 'Employment Services']\n"
     ]
    }
   ],
   "source": [
    "#sectors\n",
    "print('# unique sectors', len(df['sector'].unique()), '\\n unique sectors: \\n', df['sector'].unique())\n",
    "\n",
    "# industries\n",
    "print('\\n\\n# unique industries', len(df['industry'].unique()), '\\n unique industries: \\n', df['industry'].unique())\n",
    "\n",
    "\n"
   ]
  },
  {
   "cell_type": "code",
   "execution_count": 3,
   "metadata": {},
   "outputs": [
    {
     "data": {
      "text/plain": [
       "array(['Diversified Financials', 'Gold', 'Aerospace & Defense', 'REIT',\n",
       "       'Food, Beverage & Tobacco', 'Transportation',\n",
       "       'Technology Hardware & Equipment', 'Airports & Air Services',\n",
       "       'Media & Entertainment', 'Residential Construction', 'Auto Parts',\n",
       "       'Utilities Renewable', 'N/A', 'Banks Regional', 'Asset Management',\n",
       "       'Pharmaceuticals, Biotechnology & Life Sciences',\n",
       "       'Electronic Components', 'Food & Staples Retailing',\n",
       "       'Drug Manufacturers', 'Capital Goods',\n",
       "       'Other Industrial Metals & Mining', 'Software',\n",
       "       'Furnishings, Fixtures & Appliances', 'Drug Manufacturers General',\n",
       "       'Commercial  & Professional Services', 'Medical Care Facilities',\n",
       "       'Real Estate Development', 'Real Estate', 'Retailing',\n",
       "       'Electronic Gaming & Multimedia', 'Telecom Services',\n",
       "       'Consumer Services', 'Pharmaceutical Retailers', 'Materials',\n",
       "       'Information Technology Services', None, 'Broadcasting',\n",
       "       'Automobiles & Components', 'Utilities Regulated Electric',\n",
       "       'Agricultural Inputs', 'Software & Services', 'Railroads',\n",
       "       'Apparel Retail', 'Biotechnology',\n",
       "       'Oil & Gas Equipment & Services', 'Internet Content & Information',\n",
       "       'Semiconductors & Semiconductor Equipment',\n",
       "       'Telecommunication Services', 'Engineering & Construction',\n",
       "       'Oil & Gas Midstream', 'Packaged Foods', 'Utilities',\n",
       "       'Consumer Durables & Apparel', 'Banks', 'Specialty Chemicals',\n",
       "       'Oil & Gas E&P', 'Insurance Diversified', 'Energy',\n",
       "       'Diagnostics & Research', 'Specialty Industrial Machinery',\n",
       "       'Transportation & Logistics', 'Insurance Brokers',\n",
       "       'Education & Training Services', 'REIT Office',\n",
       "       'Electrical Equipment & Parts', 'Waste Management',\n",
       "       'Health Care Equipment & Services', 'Real Estate Services',\n",
       "       'Medical Instruments & Supplies', 'Shell Companies',\n",
       "       'Credit Services', '', 'Computer Hardware', 'Software Application',\n",
       "       'Software Infrastructure', 'Specialty Retail',\n",
       "       'Apparel Manufacturing', 'Medical Devices', 'Restaurants',\n",
       "       'Communication Services', 'Oil & Gas Services',\n",
       "       'Semiconductor Equipment & Materials', 'Beverages',\n",
       "       'Semiconductors', 'Insurance Specialty',\n",
       "       'Health Information Services', 'Insurance Property & Casualty',\n",
       "       'Farm Products', 'Capital Markets', 'Infrastructure Operations',\n",
       "       'Food Distribution', 'Pollution & Treatment Controls', 'Tobacco',\n",
       "       'Security & Protection Services', 'Metal Fabrication',\n",
       "       'Confectioners', 'Uranium', 'Scientific & Technical Instruments',\n",
       "       'Farm & Heavy Construction Machinery', 'Communication Equipment',\n",
       "       'Coking Coal', 'Publishing', 'Household & Personal Products',\n",
       "       'REIT Diversified', 'Insurance Life', 'Marine Shipping',\n",
       "       'Insurance', 'Airlines', 'Steel', 'Staffing & Employment Services',\n",
       "       'Rental & Leasing Services', 'Building Materials',\n",
       "       'Consumer Packaged Goods', 'Entertainment', 'Resorts & Casinos',\n",
       "       'Integrated Freight & Logistics', 'Metals & Mining', 'REIT Retail',\n",
       "       'Other Precious Metals & Mining', 'Health Care Providers',\n",
       "       'Advertising Agencies', 'Consulting Services',\n",
       "       'Oil & Gas Drilling', 'Utilities Diversified',\n",
       "       'Packaging & Containers', 'Specialty Business Services',\n",
       "       'Business Equipment & Supplies', 'Conglomerates',\n",
       "       'Auto & Truck Dealerships', 'Leisure', 'Gambling',\n",
       "       'Mortgage Finance', 'Beverages Wineries & Distilleries',\n",
       "       'Building Products & Equipment', 'Recreational Vehicles',\n",
       "       'Luxury Goods', 'Electronics & Computer Distribution',\n",
       "       'Department Stores', 'Copper', 'REIT Residential', 'Solar',\n",
       "       'Industrial Distribution', 'REITs', 'Consumer Electronics',\n",
       "       'Online Media', 'Trucking', 'Autos', 'Drug Manufacturer',\n",
       "       'REIT Hotel & Motel', 'Internet Retail', 'REIT—Diversified',\n",
       "       'Grocery Stores', 'Oil & Gas Integrated',\n",
       "       'Retail Apparel & Specialty', 'REIT—Retail', 'Industrial Products',\n",
       "       'Personal Services', 'REIT Specialty', 'Silver',\n",
       "       'Industrial Metals & Minerals', 'Insurance Reinsurance',\n",
       "       'Tools & Accessories', 'Auto Manufacturers', 'Utilities Regulated',\n",
       "       'REIT Industrial', 'Medical Distribution', 'Health Care Plans',\n",
       "       'Chemicals', 'REIT Mortgage', 'Travel Services',\n",
       "       'Consulting & Outsourcing',\n",
       "       'Drug Manufacturers General Specialty & Generic',\n",
       "       'Discount Stores', 'Oil & Gas Refining & Marketing',\n",
       "       'Home Improvement Retail', 'Paper & Paper Products',\n",
       "       'Drug Manufacturers—Specialty & Generic',\n",
       "       'Beverages Non-Alcoholic', 'Lumber & Wood Production', 'Education',\n",
       "       'Real Estate—Development', 'Thermal Coal',\n",
       "       'Utilities Regulated Gas', 'Coal',\n",
       "       'Financial Data & Stock Exchanges', 'Banks Diversified',\n",
       "       'Beverages Alcoholic', 'Real Estate Diversified',\n",
       "       'Homebuilding & Construction', 'REIT Healthcare Facilities',\n",
       "       'Medical Instruments & Equipment', 'Lodging',\n",
       "       'Textile Manufacturing', 'Business Services', 'Aluminum',\n",
       "       'Utilities Independent Power Producers', 'Footwear & Accessories',\n",
       "       'Banks—Regional', 'Travel & Leisure',\n",
       "       'Manufacturing Apparel & Furniture', 'Electronic Equipment',\n",
       "       'Medical Diagnostics & Research', 'Software—Application',\n",
       "       'Farm & Construction Machinery', 'Utilities—Regulated Gas',\n",
       "       'Brokers & Exchanges', 'Financial Conglomerates',\n",
       "       'Utilities—Diversified', 'Beverages Brewers',\n",
       "       'Utilities Regulated Water', 'Real Estate—Diversified',\n",
       "       'Beverages—Wineries & Distilleries', 'Property Management',\n",
       "       'Industrial Electrical Equipment', 'Retail Defensive',\n",
       "       'Utilitiesâ€”Regulated Water', 'Software—Infrastructure',\n",
       "       'REIT—Office', 'Utilities—Independent Power Producers',\n",
       "       'Independent Oil & Gas', 'Agriculture',\n",
       "       'REIT—Healthcare Facilities', 'Forest Products',\n",
       "       'Utilities—Regulated Water', 'Healthcare Plans',\n",
       "       'Closed-End Fund Debt', 'Employment Services'], dtype=object)"
      ]
     },
     "execution_count": 3,
     "metadata": {},
     "output_type": "execute_result"
    }
   ],
   "source": [
    "df['industry'].unique()"
   ]
  },
  {
   "cell_type": "code",
   "execution_count": null,
   "metadata": {},
   "outputs": [],
   "source": []
  }
 ],
 "metadata": {
  "kernelspec": {
   "display_name": "bluechip",
   "language": "python",
   "name": "bluechip"
  },
  "language_info": {
   "codemirror_mode": {
    "name": "ipython",
    "version": 3
   },
   "file_extension": ".py",
   "mimetype": "text/x-python",
   "name": "python",
   "nbconvert_exporter": "python",
   "pygments_lexer": "ipython3",
   "version": "3.8.5"
  }
 },
 "nbformat": 4,
 "nbformat_minor": 4
}
