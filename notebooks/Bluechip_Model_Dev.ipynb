{
 "cells": [
  {
   "cell_type": "code",
   "execution_count": null,
   "metadata": {},
   "outputs": [],
   "source": []
  },
  {
   "cell_type": "code",
   "execution_count": null,
   "metadata": {},
   "outputs": [],
   "source": [
    "import pprint\n",
    "def scan_bluechip():\n",
    "    def print_stocks(stocks):\n",
    "        for sto in stocks:\n",
    "    #         print(sto.keys())\n",
    "            print(f\"\\n{sto['symbol']}\")\n",
    "    \n",
    "    scan_kwargs = {\n",
    "        'FilterExpression': Key('pk').begins_with('STOCK#') & Key('sk').begins_with('IND#') \n",
    "    }\n",
    "    done = False\n",
    "    start_key = None\n",
    "    save_items = []\n",
    "    while not done:\n",
    "        if start_key:\n",
    "            scan_kwargs['ExclusiveStartKey'] = start_key\n",
    "        response = ddb_table.scan(**scan_kwargs)\n",
    "        print_stocks(response.get('Items', []))\n",
    "        [save_items.append(x) for x in response.get('Items', [])]\n",
    "        start_key = response.get('LastEvaluatedKey', None)\n",
    "        done = start_key is None\n",
    "    return save_items"
   ]
  }
 ],
 "metadata": {
  "kernelspec": {
   "display_name": "bluechip",
   "language": "python",
   "name": "bluechip"
  },
  "language_info": {
   "codemirror_mode": {
    "name": "ipython",
    "version": 3
   },
   "file_extension": ".py",
   "mimetype": "text/x-python",
   "name": "python",
   "nbconvert_exporter": "python",
   "pygments_lexer": "ipython3",
   "version": "3.8.5"
  }
 },
 "nbformat": 4,
 "nbformat_minor": 4
}
