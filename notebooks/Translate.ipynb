{
 "cells": [
  {
   "cell_type": "code",
   "execution_count": 60,
   "metadata": {},
   "outputs": [],
   "source": [
    "from googletrans import Translator\n",
    "import pandas as pd"
   ]
  },
  {
   "cell_type": "code",
   "execution_count": 42,
   "metadata": {},
   "outputs": [],
   "source": [
    "f = open(\"/Users/dschorin/Documents/projects/Dashboard/README.zh-CN.md\", \"r\")\n",
    "translate = boto3.client(service_name='translate')\n",
    "stringlist = f.readlines()\n",
    "f.close()\n",
    "stringlist_translated = [translate.translate_text(Text=x, SourceLanguageCode=\"zh\", TargetLanguageCode=\"en\")['TranslatedText'] for x in stringlist]\n",
    "f = open(\"/Users/dschorin/Documents/projects/Dashboard/README.zh-CN.md\", \"w\")\n",
    "new_file_contents = \"\".join(stringlist_translated)\n",
    "f.write(new_file_contents)\n",
    "f.close()"
   ]
  },
  {
   "cell_type": "code",
   "execution_count": 43,
   "metadata": {},
   "outputs": [
    {
     "data": {
      "text/plain": [
       "['[English] (. /Readme.md) | English\\n',\n",
       " '\\n',\n",
       " '<h1 align=\"center\">Ant Design View Pro</h1>\\n',\n",
       " '<div align=\"center\">\\n',\n",
       " 'An out-of-box UI solution for enterprise applications as a Vue boilerplate. based on <a href=\"https://vuecomponent.github.io/ant-design-vue/docs/vue/introduce-cn/\" target=\"_blank\">Ant Design of Vue</a>\\n',\n",
       " '</div>\\n',\n",
       " '\\n',\n",
       " '<div align=\"center\">\\n',\n",
       " '\\n',\n",
       " '[! [License] (https://img.shields.io/npm/l/package.json.svg?style=flat)] ( https://github.com/vueComponent/ant-design-vue-pro/blob/master/LICENSE)\\n',\n",
       " '[! [Release] (https://img.shields.io/github/release/vueComponent/ant-design-vue-pro.svg?style=flat)] https://github.com/vueComponent/ant-design-vue-pro/releases/latest)\\n',\n",
       " '[! [Travis branch] (https://travis-ci.org/vueComponent/ant-design-vue-pro.svg?branch=master)] ( https://travis-ci.org/vueComponent/ant-design-vue-pro)\\n',\n",
       " '\\n',\n",
       " '</div>\\n',\n",
       " '\\n',\n",
       " '-: https://preview.pro.antdv.com\\n',\n",
       " '- Home: https://pro.antdv.com\\n',\n",
       " '- Literature: https://pro.antdv.com/docs/getting-started\\n',\n",
       " '- Changelog: https://pro.antdv.com/docs/changelog\\n',\n",
       " '- Frequently Asked Questions: https://pro.antdv.com/docs/faq\\n',\n",
       " '\\n',\n",
       " '\\n',\n",
       " 'overviews\\n',\n",
       " '—\\n',\n",
       " '\\n',\n",
       " '[Ant Design of Vue] (https://vuecomponent.github.io/ant-design-vue/docs/vue/introduce-cn/) https://pro.ant.design/) \\n',\n",
       " '\\n',\n",
       " '! [dashboard] (https://static-2.loacg.com/open/static/github/SP1.png)\\n',\n",
       " '\\n',\n",
       " 'Environment and Dependents\\n',\n",
       " '—\\n',\n",
       " '\\n',\n",
       " '- node\\n',\n",
       " '- yarn\\n',\n",
       " '- Webpack\\n',\n",
       " '- eslint\\n',\n",
       " '- @vue /cli ~3\\n',\n",
       " '- [ant-design-vue] (https://github.com/vueComponent/ant-design-vue) - Ant Design Of View\\n',\n",
       " '- [view-cropper] (https://github.com/xyxiao001/vue-cropper)\\n',\n",
       " '- [@antv /g2] (https://antv.alipay.com/zh-cn/index.html) - Alepay AnTV\\n',\n",
       " '- [Aim-View] (https://viserjs.github.io/docs.html#/viser/guide/installation) - antv/g2\\n',\n",
       " '\\n',\n",
       " '> Please note that we strongly recommend this project use the [Yarn] (https://yarnpkg.com/) package management tool, which can be identical to the dependencies (yarn.lock) loaded on the demo site of this project. Since we do not enforce version control of dependencies, when presented with non-yarn package management, problems may be by cause The description of a new version of the library on which Pro depends has been upgraded. The author may have problems with this project as a base project because of time not be resolved in a timely manner.\\n',\n",
       " '\\n',\n",
       " '\\n',\n",
       " '\\n',\n",
       " 'Project download and run\\n',\n",
       " '—\\n',\n",
       " '\\n',\n",
       " '- Pull project code\\n',\n",
       " '``bash\\n',\n",
       " 'git clone https://github.com/vueComponent/ant-design-vue-pro.git\\n',\n",
       " 'cd ant-design-pro\\n',\n",
       " '````\\n',\n",
       " '\\n',\n",
       " '- Installation Dependencies\\n',\n",
       " '````\\n',\n",
       " 'yarn install\\n',\n",
       " '````\\n',\n",
       " '\\n',\n",
       " '- Development mode operation\\n',\n",
       " '````\\n',\n",
       " 'yarn run serve\\n',\n",
       " '````\\n',\n",
       " '\\n',\n",
       " '- Compile the project\\n',\n",
       " '````\\n',\n",
       " 'yarn run build\\n',\n",
       " '````\\n',\n",
       " '\\n',\n",
       " '- Lints and fixes files\\n',\n",
       " '````\\n',\n",
       " 'yarn run lint\\n',\n",
       " '````\\n',\n",
       " '\\n',\n",
       " '\\n',\n",
       " '\\n',\n",
       " 'Other instructions\\n',\n",
       " '—\\n',\n",
       " '\\n',\n",
       " '-**Feedback on Issue (EMIGHT! Important! Important!) Please read this before open*issue*: [Issue/PR Writing Suggestions] (https://github.com/vueComponent/ant-design-vue-pro/issues/90) ** \\n',\n",
       " '\\n',\n",
       " '- The project uses [vue-cli3] (https://cli.vuejs.org/guide/), please make that the vue-cli you are using new and learned the cli official documentation tutorial\\n',\n",
       " '\\n',\n",
       " '- Turn off Eslint (not recommended) Remove the whole node code in package.json`, “lintconfig” value `vue.config.js` change to `false`\\n',\n",
       " '\\n',\n",
       " \"- Components load on demand `/src/main.js` L14 relevant code `import '. /core/lazy_use '/ `import '. /core/use '` \\n\",\n",
       " '\\n',\n",
       " '- [Modify Ant Design color matching (@kokoroli)] ( https://github.com/kokoroli/antd-awesome/blob/master/docs/Ant_Design_%E6%A0%B7%E5%BC%8F%E8%A6%86%E7%9B%96.md)\\n',\n",
       " '\\n',\n",
       " '- I18N: [Reg (@musnow)] (. /src/locales/index.js)\\n',\n",
       " '\\n',\n",
       " '- Production environment does not load `mock` by default, see `src/mock/index.js` for more details\\n',\n",
       " '\\n',\n",
       " '- For production environment, please use the `release` version code, any with the master code need to be solving by yourself**\\n',\n",
       " '\\n',\n",
       " '## Browser Compatible\\n',\n",
       " '\\n',\n",
       " 'Modern browsers and IE10.\\n',\n",
       " '\\n',\n",
       " '| [ <img src=” https://raw.githubusercontent.com/alrra/browser-logos/master/src/edge/edge_48x48.png \"alt=\"IE/Edge” width=\"24px” height=” 24px” /> ] (http://godban.github.io/browsers-support-badges/)</br>IE/Edge | [ <img src=” https://raw.githubusercontent.com/alrra/browser-logos/master/src/firefox/firefox_48x48.png \"alt=\"Firefox” width=\"24px” heig ht=\"24px” /> ] (http://godban.github.io/browsers-support-badges/)</br>Firefox | [ <img src=” https://raw.githubusercontent.com/alrra/browser-logos/master/src/chrome/chrome_48x48.png \"alt=\"Chrome” width=\"24px” height= “24px” /> ] (http://godban.github.io/browsers-support-badges/)</br>Chrome | [ <img src=” https://raw.githubusercontent.com/alrra/browser-logos/master/src/safari/safari_48x48.png \"alt=\"Safari” width=\"24px” height= “24px” /> ] (http://godban.github.io/browsers-support-badges/)</br>Safari | [ <img src=” https://raw.githubusercontent.com/alrra/browser-logos/master/src/opera/opera_48x48.png \"alt=\"Opera” width=\"24px” height=\"24 px” /> ] (http://godban.github.io/browsers-support-badges/)</br>Opera |\\n',\n",
       " '| — | — | — |\\n',\n",
       " '| IE10, Edge | last 2 versions | last 2 versions | last 2 versions | last 2 versions |\\n',\n",
       " '\\n',\n",
       " '\\n',\n",
       " '## Contributors\\n',\n",
       " '\\n',\n",
       " 'This project exists to all the people who Contribute. \\n',\n",
       " '<a href=\"https://github.com/vueComponent/ant-design-vue-pro/graphs/contributors\"> <img src=\"https://opencollective.com/ant-design-pro-vue/contributors.svg?width=890&button=false\" /></a>\\n']"
      ]
     },
     "execution_count": 43,
     "metadata": {},
     "output_type": "execute_result"
    }
   ],
   "source": [
    "stringlist_translated"
   ]
  },
  {
   "cell_type": "code",
   "execution_count": 33,
   "metadata": {},
   "outputs": [],
   "source": [
    "f = open(\"/Users/dschorin/Documents/projects/Dashboard/README.zh-CN.md\", \"r\")\n",
    "translate = boto3.client(service_name='translate')\n",
    "stringlist = f.readlines()\n"
   ]
  },
  {
   "cell_type": "code",
   "execution_count": 83,
   "metadata": {},
   "outputs": [
    {
     "data": {
      "text/plain": [
       "1"
      ]
     },
     "execution_count": 83,
     "metadata": {},
     "output_type": "execute_result"
    }
   ],
   "source": [
    "s = ' '\n",
    "len(s.encode('utf-8'))"
   ]
  },
  {
   "cell_type": "code",
   "execution_count": 84,
   "metadata": {},
   "outputs": [
    {
     "data": {
      "text/plain": [
       "50"
      ]
     },
     "execution_count": 84,
     "metadata": {},
     "output_type": "execute_result"
    }
   ],
   "source": [
    "import sys\n",
    "sys.getsizeof(s)\n"
   ]
  },
  {
   "cell_type": "code",
   "execution_count": 106,
   "metadata": {},
   "outputs": [],
   "source": [
    "def translate_comp(s):\n",
    "    byte = len(s.encode('utf-8'))\n",
    "    if byte > 5000: \n",
    "        split = round(len(p) / 2)\n",
    "        g1 = p[:split]\n",
    "        g2 = p[split:]\n",
    "        gt = [translate.translate_text(Text=x, SourceLanguageCode=\"zh\", TargetLanguageCode=\"en\")['TranslatedText'] for x in (g1, g2)]\n",
    "        joined = \"\".join(gt)\n",
    "        #splits = [translate.translate_text(Text=x, SourceLanguageCode=\"zh\", TargetLanguageCode=\"en\")['TranslatedText'] for x in s.split(' ', 1)]\n",
    "        return joined\n",
    "    else:\n",
    "        return translate.translate_text(Text=s, SourceLanguageCode=\"zh\", TargetLanguageCode=\"en\")['TranslatedText']\n",
    "        \n",
    "        \n",
    "        "
   ]
  },
  {
   "cell_type": "code",
   "execution_count": 107,
   "metadata": {},
   "outputs": [],
   "source": [
    "import glob\n",
    "for name in glob.glob(\"/Users/dschorin/Documents/projects/Dashboard/**/*.**\", recursive=True):\n",
    "    if name[-3:] not in ('png', 'jpg', 'svg'):\n",
    "        f = open(name, \"r\")   \n",
    "        translate = boto3.client(service_name='translate')\n",
    "        stringlist = f.readlines()\n",
    "        f.close()\n",
    "        stringlist_translated = [translate_comp(x) for x in stringlist]\n",
    "#         stringlist_translated = [translate.translate_text(Text=x, SourceLanguageCode=\"zh\", TargetLanguageCode=\"en\")['TranslatedText'] for x in stringlist]\n",
    "        f = open(name, \"w\")\n",
    "        new_file_contents = \"\".join(stringlist_translated)\n",
    "        f.write(new_file_contents)\n",
    "        f.close()"
   ]
  },
  {
   "cell_type": "code",
   "execution_count": 108,
   "metadata": {},
   "outputs": [
    {
     "ename": "NameError",
     "evalue": "name 'd' is not defined",
     "output_type": "error",
     "traceback": [
      "\u001b[0;31m---------------------------------------------------------------------------\u001b[0m",
      "\u001b[0;31mNameError\u001b[0m                                 Traceback (most recent call last)",
      "\u001b[0;32m<ipython-input-108-e983f374794d>\u001b[0m in \u001b[0;36m<module>\u001b[0;34m\u001b[0m\n\u001b[0;32m----> 1\u001b[0;31m \u001b[0md\u001b[0m\u001b[0;34m\u001b[0m\u001b[0;34m\u001b[0m\u001b[0m\n\u001b[0m",
      "\u001b[0;31mNameError\u001b[0m: name 'd' is not defined"
     ]
    }
   ],
   "source": [
    "d"
   ]
  },
  {
   "cell_type": "code",
   "execution_count": 105,
   "metadata": {},
   "outputs": [
    {
     "data": {
      "text/plain": [
       "' return builder ([{\\'value\\': 9, \\'name\\': \\'AnTV\\'}, {\\'value\\': 8, \\'name\\': \\'F2\\'}, {\\'value\\': 8, \\'name\\': \\'G2\\'}, {\\'value\\': 8, \\'name\\': \\'G6 \\'}, {\\' value \\': 8,\\' name \\':\\' DataSet \\'}, {\\' value \\': 8,\\' name \\': \\'Ink Institute\\'}, {\\'value\\': 6, \\'name\\': \\'Analysis\\': 6, \\'name\\': \\' Data Mining\\'}, {\\'value\\': 6, \\'name\\': \\'Data Vis\\'}, {\\'value\\': 6, \\'name\\': \\'Design\\'}, {\\'value\\': 6, \\'name\\': \\'Grammar\\'}, {\\'value\\': 6 , \\'name\\': \\'Graphics\\'}, {\\'value\\': 6, \\'name\\': \\'Graph\\'}, {\\'value\\': 6, \\'name\\': \\'Hierarchy\\'}, {\\'value\\': 6, \\'name\\': \\'Labeling\\'}, {\\' value\\': 6, \\'name\\': \\'Layout\\'}, {\\'value\\': 6, \\'name\\': \\'Quantity\\'}, {\\'value\\': 6, \\'name\\': \\'Relation\\'}, {\\'value\\': 6, \\'name\\': \\' Statistics\\'}, {\\'value\\': 6, \\'name\\': \\'visualization\\'}, {\\'value\\': 6, \\'name\\': \\'data\\'}, {\\'value\\': 6, \\'name\\': \\'data visualization\\'}, {\\'value\\': 4, \\'name\\': \\' Arc Diagram\\'}, {\\'value\\': 4, \\'name\\': \\'Bar Chart\\'}, {\\'value\\': 4, \\'name\\': \\'Canvas\\'}, {\\'value\\': 4, \\'name\\': \\'}, {\\' value \\': 4, \\'name\\': \\'DAG\\'}, {\\'value\\': 4, \\'name\\': \\'DG\\'}, {\\'value\\': 4, \\'name\\': \\'Facet\\'}, {\\'value\\': 4, \\'name\\': \\'geo\\'}, {\\'value\\': 4, \\'name\\': \\'Line\\'}, {\\'value\\': 4, \\'name\\': \\'MindMap\\'}, {\\'value\\': 4, \\'name\\': \\'Pie\\'}, {\\'value\\': 4, \\'name\\': \\'Pizza Chart\\'}, {\\'value\\': 4, \\' name\\': \\'Punch Card\\'}, {\\'value\\': 4, \\'name\\': \\'SVG\\'}, {\\'value\\': 4, \\'name\\': \\'Sunburst\\'}, {\\'value\\': 4, \\'name\\': \\'Tree\\'}, {\\'value\\': 4, \\'name\\': \\'UML\\'}, {\\'value\\': 3, \\'name\\': \\'Chart\\'}, {\\'value\\': 3, \\'name\\': \\'View\\'}, {\\'value\\': 3, \\'value\\': \\'Geom\\'}, {\\'value\\': 3, \\' name\\': \\'Shape\\'}, {\\'value\\': 3, \\'name\\': \\'Scale\\'}, {\\'value\\': 3, \\'name\\': \\'Animate\\'}, {\\'value\\': 3, \\'name\\': \\'Global\\'}, {\\'value\\': 3, \\'name\\': \\'Slider\\'}, {\\'value\\': 3, \\'name\\': \\'Connector\\'}, {\\'value\\': 3, \\'name\\': \\'Transform\\'}, {\\'value\\': 3, \\'name\\': \\'Util\\'}, {\\' value\\': 3, \\'name\\': \\'Domutil\\'}, {\\'value\\': 3, \\'name\\': \\'Matrixutil\\'}, {\\'value\\': 3, \\'name\\': \\'G\\'}, {\\'value\\': \\'G\\'} , {\\'value\\': 3, \\'name\\': \\'2D\\'}, {\\'value\\': 3, \\'name\\': \\'3D\\'}, {\\'value\\': 3, \\'name\\': \\'Line\\'}, {\\'value\\': 3, \\'name\\': \\'Area\\'}, {\\'value\\': \\'Area\\'} value\\': 3, \\'name\\': \\'Interval\\'}, {\\'value\\': 3, \\'name\\': \\'Schema\\'}, {\\'value\\': 3, \\'name\\': \\'Edge\\'}, {\\'value\\': 3, \\'name\\': \\'Polygon\\'}, {\\'value\\': 3, \\'name\\': \\'Heatmap\\'}, {\\'value\\': 3, \\'name\\': \\'Render\\'}, {\\'value\\': 3, \\'name\\': \\'Tooltip\\'}, {\\'value\\': 3, \\'name\\': \\'Axis\\' }, {\\'value\\': 3, \\'name\\': \\'Guide\\'}, {\\'value\\': 3, \\'name\\': \\'Coord\\'}, {\\'value\\': 3, \\'name\\': \\'Legend\\'}, {\\'value\\': 3, \\'name\\': \\'Path\\'} , {\\'value\\': 3, \\'name\\': \\'Helix\\'}, {\\'value\\': 3, \\'name\\': \\'Theta\\'}, {\\'value\\': 3, \\'name\\'}, {\\'value\\': 3, \\'name\\': \\'Polar\\'}, {\\'value\\': 3, \\'name\\': \\'Dsv\\'}, {\\'value\\': 3, \\'name\\': \\'CSV\\'}, {\\'value\\': 3, \\'name\\'}, {\\'value\\': 3, \\'name\\': \\'GeoJSON\\'}, {\\'value\\'} value\\': 3, \\'name\\': \\'TopoJSON\\'}, {\\'value\\': 3, \\'name\\': \\'Filter\\'}, {\\'value\\': 3, \\'name\\': \\'Map\\'}, {\\'value\\': 3, \\'name\\': \\'Pick\\'}, {\\' value\\': 3, \\'name\\': \\'Rename\\'}, {\\'value\\': 3, \\'name\\': \\'Filter\\'}, {\\'value\\': 3, \\'name\\': \\'Map\\'}, {\\'value\\': 3, \\'name\\': \\'Pick\\'}, {\\' value\\': 3, \\'name\\': \\'Rename\\'}, {\\'value\\': 3, \\' name\\': \\'Reverse\\'}, {\\'value\\': 3, \\'name\\': \\'sort\\'}, {\\'value\\': 3, \\'name\\': \\'Subset\\'}, {\\'value\\': 3, \\'name\\': \\'Partition\\'}, {\\'value\\': 3, \\'name\\': \\'Imputation\\'}, {\\'value\\': 3, \\'name\\': \\'Fold\\'}, {\\'value\\': 3, \\'name\\': \\'Aggregate\\'}, {\\'value\\': 3, \\'name\\': \\'proportion\\'}, {\\'value\\': 3, \\'name\\': \\'Histogram\\'}, {\\'value\\': 3, \\'name\\': \\'Quantile\\'}, {\\'value\\': 3, \\'name\\': \\'Treemap\\'}, {\\'value\\': 3, \\'name\\': \\' Hexagon \\'}, {\\' value \\': 3,\\' name \\':\\' Binning \\'}, {\\' value \\': 3,\\' name \\':\\' kernel \\'}, {\\' value \\': 3,\\' name \\':\\' Regression \\'}, {\\' value \\': 3, \\'name\\': \\'Density\\'}, {\\'value\\': 3, \\'name\\': \\'Sankey\\'}, {\\'value\\': 3, \\'name\\': \\'Voronoi\\'}, {\\'value\\': 3, \\'name\\': \\'Projection\\'}, {\\'value\\' value\\': 3, \\'name\\': \\'Centreroid\\'}, {\\'value\\': 3, \\'name\\': \\'H5\\'}, {\\'value\\': 3, \\'name\\': \\'Mobile\\'}, {\\'value\\': 3, \\'name\\': \\'K linegraph \\'}, {\\' value\\': 3, \\'name\\': \\'diagram\\'}, {\\'value\\': 3, \\'name\\': \\'candlestick\\'}, {\\'value\\': 3, \\'name\\': \\'stock chart\\'}, {\\'value\\': 3, \\'name\\': \\'histogram\\'}, {\\'value\\': 3 , \\'name\\': \\'pyramids\\'}, {\\'value\\': 3, \\'name\\': \\'facet\\'}, {\\'value\\': 3, \\'name\\': \\'Nightingale Rose Chart\\'}, {\\'value\\': 3, \\'name\\': \\'pie chart\\'}, {\\'value\\': 3, \\'value\\': 3, \\' name\\': \\'line graph\\'}, {\\'value\\': 3, \\'name\\': \\'dotplot\\'}, {\\'value\\': 3, \\'name\\': \\'scatter plot\\'}, {\\'value\\': \\'bullet chart\\'}, {\\'value\\': 3, \\'name\\': \\'histogram \\'}, {\\' value \\': 3,\\' name \\':\\' Dashboard \\'}, {\\' value \\': 3,\\' name \\':\\' bubble chart \\'}, {\\' value \\': 3,\\' name \\':\\' funnel \\'}, {\\' value \\': 3,\\' name \\':\\' heat map \\'}, {\\' value\\': 3, \\'name\\': \\'jade map\\'}, {\\'value\\': 3, \\'name\\': \\'histogram\\'}, {\\'value\\': 3, \\'name\\': \\'rectangular tree\\'}, {\\'value\\': \\'box chart\\'}, {\\'value\\': 3, \\'name\\': \\'color block plot\\'}, {\\'value\\': 3, \\'name\\': \\'helix \\'}, {\\' value \\': 3,\\' name \\':\\' word cloud \\'}, {\\' value \\': 3,\\' name \\':\\' word cloud map \\'}, {\\' value \\': 3,\\' name \\': \\'Radar Diagram \\'}, {\\' value \\': 3,\\' name \\': \\'Area plot\\'}, {\\' value \\': 3,\\' name \\':\\' mosaic chart \\'}, {\\' value \\': 3,\\' name \\': \\'Axis\\'}, {\\'value\\': \\'name\\'}, {\\'value\\': 3, \\'name\\': \"}, {\\'value\\': 3, \\'name\\': \\'Jacques Bertin\\'}, {\\'value\\': 3, \\'name\\': \\'Leland Wilkinson\\'}, {\\'value\\': 3, \\'name \\': \\'William Playfair\\'}, {\\' value \\': 3,\\' name \\':\\' association \\'}, {\\' value \\': 3,\\' name \\':\\' distribution \\'}, {\\' value \\': 3,\\' name \\':\\' interval \\'}, {\\' value \\': 3,\\' value \\': 3 name\\': \\'proportion\\'}, {\\'value\\': 3, \\'name\\': \\'map\\'}, {\\'value\\': 3, \\'name\\': \\'time\\'}, {\\'value\\': 3, \\'name\\': \\'flow\\'}, {\\'value\\': \\'name\\': \\'flow\\'} , {\\'value\\': 3, \\'name\\': \\'trend\\'}, {\\'value\\': 2, \\'name\\': \\'also leaf\\'}, {\\'value\\': 2, \\'name\\': \\'fly again\\'}, {\\'value\\': \\'white\\'}, {\\'value\\': 2, \\'name\\': \\'Bass\\'}, {\\'value\\': 2, \\'name\\': \\'Zhang Chu Dust \\'}, {\\' value \\': 2,\\' name \\':\\' Yu Yu \\'}, {\\' value \\': 2,\\' name \\':\\' Arita \\'}, {\\' value \\': 2,\\' name \\':\\' name \\':\\' sunk fish \\'}, {\\' value \\': 2,\\' name \\':\\' jade \\'}, {\\' value \\': 2,\\' name \\':\\' draw con\\'}, {\\'value\\': 2, \\'name\\': \\'jenyi\\'}, {\\'value\\': 2, \\'name\\': \\'supercloud\\'}, {\\' value\\': 2, \\'name\\': \\'Luoxian\\'}, {\\'value\\': 2, \\'name\\': \\'Xiao Qing\\'}, {\\'value\\': 2, \\'name\\': \\'Dong Shanshan\\'}, {\\'value\\': 2, \\'value\\': 2, \\'value\\': 2 name\\': \\'Gu\\'}, {\\'value\\': 2, \\'name\\': \\'Domo\\'}, {\\'value\\': 2, \\'name\\': \\'GPL\\'}, {\\'value\\': \\'GPL\\'}, {\\'value\\': \\'PAI\\'}, {\\'value\\': 2, \\'name\\': \\'name\\': \\' SPSSS}, {\\'value\\': 2, \\'name\\': \\'SYSTAT\\'}, {\\'value\\': 2, \\'name\\': \\'Tableau\\'}, {\\'value\\': 2, \\'name\\': \\'D3\\'}, {\\'value\\': 2, \\'name\\': \\'name\\': \\' Vega \\'}, {\\' value \\': 2,\\' name \\': \\'Statistical chart\\'}])\\n'"
      ]
     },
     "execution_count": 105,
     "metadata": {},
     "output_type": "execute_result"
    }
   ],
   "source": [
    "split = round(len(p) / 2)\n",
    "g1 = p[:split]\n",
    "g2 = p[split:]\n",
    "gt = [translate.translate_text(Text=x, SourceLanguageCode=\"zh\", TargetLanguageCode=\"en\")['TranslatedText'] for x in (g1, g2)]\n",
    "joined = \" \".join(gt)\n",
    "joined\n"
   ]
  },
  {
   "cell_type": "code",
   "execution_count": null,
   "metadata": {},
   "outputs": [],
   "source": []
  },
  {
   "cell_type": "code",
   "execution_count": 103,
   "metadata": {},
   "outputs": [
    {
     "name": "stdout",
     "output_type": "stream",
     "text": [
      "5907 \n",
      "g1:  2954 \n",
      "g2:  2953 \n",
      "comb:  5907\n"
     ]
    }
   ],
   "source": [
    "print(len(p), '\\ng1: ', len(g1), '\\ng2: ', len(g2), '\\ncomb: ', len(g1)+len(g2))"
   ]
  },
  {
   "cell_type": "code",
   "execution_count": 94,
   "metadata": {},
   "outputs": [
    {
     "data": {
      "text/plain": [
       "['',\n",
       " \"return builder([{ 'value': 9, 'name': 'AntV' }, { 'value': 8, 'name': 'F2' }, { 'value': 8, 'name': 'G2' }, { 'value': 8, 'name': 'G6' }, { 'value': 8, 'name': 'DataSet' }, { 'value': 8, 'name': '墨者学院' }, { 'value': 6, 'name': 'Analysis' }, { 'value': 6, 'name': 'Data Mining' }, { 'value': 6, 'name': 'Data Vis' }, { 'value': 6, 'name': 'Design' }, { 'value': 6, 'name': 'Grammar' }, { 'value': 6, 'name': 'Graphics' }, { 'value': 6, 'name': 'Graph' }, { 'value': 6, 'name': 'Hierarchy' }, { 'value': 6, 'name': 'Labeling' }, { 'value': 6, 'name': 'Layout' }, { 'value': 6, 'name': 'Quantitative' }, { 'value': 6, 'name': 'Relation' }, { 'value': 6, 'name': 'Statistics' }, { 'value': 6, 'name': '可视化' }, { 'value': 6, 'name': '数据' }, { 'value': 6, 'name': '数据可视化' }, { 'value': 4, 'name': 'Arc Diagram' }, { 'value': 4, 'name': 'Bar Chart' }, { 'value': 4, 'name': 'Canvas' }, { 'value': 4, 'name': 'Chart' }, { 'value': 4, 'name': 'DAG' }, { 'value': 4, 'name': 'DG' }, { 'value': 4, 'name': 'Facet' }, { 'value': 4, 'name': 'Geo' }, { 'value': 4, 'name': 'Line' }, { 'value': 4, 'name': 'MindMap' }, { 'value': 4, 'name': 'Pie' }, { 'value': 4, 'name': 'Pizza Chart' }, { 'value': 4, 'name': 'Punch Card' }, { 'value': 4, 'name': 'SVG' }, { 'value': 4, 'name': 'Sunburst' }, { 'value': 4, 'name': 'Tree' }, { 'value': 4, 'name': 'UML' }, { 'value': 3, 'name': 'Chart' }, { 'value': 3, 'name': 'View' }, { 'value': 3, 'name': 'Geom' }, { 'value': 3, 'name': 'Shape' }, { 'value': 3, 'name': 'Scale' }, { 'value': 3, 'name': 'Animate' }, { 'value': 3, 'name': 'Global' }, { 'value': 3, 'name': 'Slider' }, { 'value': 3, 'name': 'Connector' }, { 'value': 3, 'name': 'Transform' }, { 'value': 3, 'name': 'Util' }, { 'value': 3, 'name': 'DomUtil' }, { 'value': 3, 'name': 'MatrixUtil' }, { 'value': 3, 'name': 'PathUtil' }, { 'value': 3, 'name': 'G' }, { 'value': 3, 'name': '2D' }, { 'value': 3, 'name': '3D' }, { 'value': 3, 'name': 'Line' }, { 'value': 3, 'name': 'Area' }, { 'value': 3, 'name': 'Interval' }, { 'value': 3, 'name': 'Schema' }, { 'value': 3, 'name': 'Edge' }, { 'value': 3, 'name': 'Polygon' }, { 'value': 3, 'name': 'Heatmap' }, { 'value': 3, 'name': 'Render' }, { 'value': 3, 'name': 'Tooltip' }, { 'value': 3, 'name': 'Axis' }, { 'value': 3, 'name': 'Guide' }, { 'value': 3, 'name': 'Coord' }, { 'value': 3, 'name': 'Legend' }, { 'value': 3, 'name': 'Path' }, { 'value': 3, 'name': 'Helix' }, { 'value': 3, 'name': 'Theta' }, { 'value': 3, 'name': 'Rect' }, { 'value': 3, 'name': 'Polar' }, { 'value': 3, 'name': 'Dsv' }, { 'value': 3, 'name': 'Csv' }, { 'value': 3, 'name': 'Tsv' }, { 'value': 3, 'name': 'GeoJSON' }, { 'value': 3, 'name': 'TopoJSON' }, { 'value': 3, 'name': 'Filter' }, { 'value': 3, 'name': 'Map' }, { 'value': 3, 'name': 'Pick' }, { 'value': 3, 'name': 'Rename' }, { 'value': 3, 'name': 'Filter' }, { 'value': 3, 'name': 'Map' }, { 'value': 3, 'name': 'Pick' }, { 'value': 3, 'name': 'Rename' }, { 'value': 3, 'name': 'Reverse' }, { 'value': 3, 'name': 'sort' }, { 'value': 3, 'name': 'Subset' }, { 'value': 3, 'name': 'Partition' }, { 'value': 3, 'name': 'Imputation' }, { 'value': 3, 'name': 'Fold' }, { 'value': 3, 'name': 'Aggregate' }, { 'value': 3, 'name': 'Proportion' }, { 'value': 3, 'name': 'Histogram' }, { 'value': 3, 'name': 'Quantile' }, { 'value': 3, 'name': 'Treemap' }, { 'value': 3, 'name': 'Hexagon' }, { 'value': 3, 'name': 'Binning' }, { 'value': 3, 'name': 'kernel' }, { 'value': 3, 'name': 'Regression' }, { 'value': 3, 'name': 'Density' }, { 'value': 3, 'name': 'Sankey' }, { 'value': 3, 'name': 'Voronoi' }, { 'value': 3, 'name': 'Projection' }, { 'value': 3, 'name': 'Centroid' }, { 'value': 3, 'name': 'H5' }, { 'value': 3, 'name': 'Mobile' }, { 'value': 3, 'name': 'K线图' }, { 'value': 3, 'name': '关系图' }, { 'value': 3, 'name': '烛形图' }, { 'value': 3, 'name': '股票图' }, { 'value': 3, 'name': '直方图' }, { 'value': 3, 'name': '金字塔图' }, { 'value': 3, 'name': '分面' }, { 'value': 3, 'name': '南丁格尔玫瑰图' }, { 'value': 3, 'name': '饼图' }, { 'value': 3, 'name': '线图' }, { 'value': 3, 'name': '点图' }, { 'value': 3, 'name': '散点图' }, { 'value': 3, 'name': '子弹图' }, { 'value': 3, 'name': '柱状图' }, { 'value': 3, 'name': '仪表盘' }, { 'value': 3, 'name': '气泡图' }, { 'value': 3, 'name': '漏斗图' }, { 'value': 3, 'name': '热力图' }, { 'value': 3, 'name': '玉玦图' }, { 'value': 3, 'name': '直方图' }, { 'value': 3, 'name': '矩形树图' }, { 'value': 3, 'name': '箱形图' }, { 'value': 3, 'name': '色块图' }, { 'value': 3, 'name': '螺旋图' }, { 'value': 3, 'name': '词云' }, { 'value': 3, 'name': '词云图' }, { 'value': 3, 'name': '雷达图' }, { 'value': 3, 'name': '面积图' }, { 'value': 3, 'name': '马赛克图' }, { 'value': 3, 'name': '盒须图' }, { 'value': 3, 'name': '坐标轴' }, { 'value': 3, 'name': '' }, { 'value': 3, 'name': 'Jacques Bertin' }, { 'value': 3, 'name': 'Leland Wilkinson' }, { 'value': 3, 'name': 'William Playfair' }, { 'value': 3, 'name': '关联' }, { 'value': 3, 'name': '分布' }, { 'value': 3, 'name': '区间' }, { 'value': 3, 'name': '占比' }, { 'value': 3, 'name': '地图' }, { 'value': 3, 'name': '时间' }, { 'value': 3, 'name': '比较' }, { 'value': 3, 'name': '流程' }, { 'value': 3, 'name': '趋势' }, { 'value': 2, 'name': '亦叶' }, { 'value': 2, 'name': '再飞' }, { 'value': 2, 'name': '完白' }, { 'value': 2, 'name': '巴思' }, { 'value': 2, 'name': '张初尘' }, { 'value': 2, 'name': '御术' }, { 'value': 2, 'name': '有田' }, { 'value': 2, 'name': '沉鱼' }, { 'value': 2, 'name': '玉伯' }, { 'value': 2, 'name': '画康' }, { 'value': 2, 'name': '祯逸' }, { 'value': 2, 'name': '绝云' }, { 'value': 2, 'name': '罗宪' }, { 'value': 2, 'name': '萧庆' }, { 'value': 2, 'name': '董珊珊' }, { 'value': 2, 'name': '陆沉' }, { 'value': 2, 'name': '顾倾' }, { 'value': 2, 'name': 'Domo' }, { 'value': 2, 'name': 'GPL' }, { 'value': 2, 'name': 'PAI' }, { 'value': 2, 'name': 'SPSS' }, { 'value': 2, 'name': 'SYSTAT' }, { 'value': 2, 'name': 'Tableau' }, { 'value': 2, 'name': 'D3' }, { 'value': 2, 'name': 'Vega' }, { 'value': 2, 'name': '统计图表' }])\\n\"]"
      ]
     },
     "execution_count": 94,
     "metadata": {},
     "output_type": "execute_result"
    }
   ],
   "source": [
    "p.split(' ', 1)"
   ]
  },
  {
   "cell_type": "code",
   "execution_count": 92,
   "metadata": {},
   "outputs": [
    {
     "data": {
      "text/plain": [
       "[['',\n",
       "  \"return builder([{ 'value': 9, 'name': 'AntV' }, { 'value': 8, 'name': 'F2' }, { 'value': 8, 'name': 'G2' }, { 'value': 8, 'name': 'G6' }, { 'value': 8, 'name': 'DataSet' }, { 'value': 8, 'name': '墨者学院' }, { 'value': 6, 'name': 'Analysis' }, { 'value': 6, 'name': 'Data Mining' }, { 'value': 6, 'name': 'Data Vis' }, { 'value': 6, 'name': 'Design' }, { 'value': 6, 'name': 'Grammar' }, { 'value': 6, 'name': 'Graphics' }, { 'value': 6, 'name': 'Graph' }, { 'value': 6, 'name': 'Hierarchy' }, { 'value': 6, 'name': 'Labeling' }, { 'value': 6, 'name': 'Layout' }, { 'value': 6, 'name': 'Quantitative' }, { 'value': 6, 'name': 'Relation' }, { 'value': 6, 'name': 'Statistics' }, { 'value': 6, 'name': '可视化' }, { 'value': 6, 'name': '数据' }, { 'value': 6, 'name': '数据可视化' }, { 'value': 4, 'name': 'Arc Diagram' }, { 'value': 4, 'name': 'Bar Chart' }, { 'value': 4, 'name': 'Canvas' }, { 'value': 4, 'name': 'Chart' }, { 'value': 4, 'name': 'DAG' }, { 'value': 4, 'name': 'DG' }, { 'value': 4, 'name': 'Facet' }, { 'value': 4, 'name': 'Geo' }, { 'value': 4, 'name': 'Line' }, { 'value': 4, 'name': 'MindMap' }, { 'value': 4, 'name': 'Pie' }, { 'value': 4, 'name': 'Pizza Chart' }, { 'value': 4, 'name': 'Punch Card' }, { 'value': 4, 'name': 'SVG' }, { 'value': 4, 'name': 'Sunburst' }, { 'value': 4, 'name': 'Tree' }, { 'value': 4, 'name': 'UML' }, { 'value': 3, 'name': 'Chart' }, { 'value': 3, 'name': 'View' }, { 'value': 3, 'name': 'Geom' }, { 'value': 3, 'name': 'Shape' }, { 'value': 3, 'name': 'Scale' }, { 'value': 3, 'name': 'Animate' }, { 'value': 3, 'name': 'Global' }, { 'value': 3, 'name': 'Slider' }, { 'value': 3, 'name': 'Connector' }, { 'value': 3, 'name': 'Transform' }, { 'value': 3, 'name': 'Util' }, { 'value': 3, 'name': 'DomUtil' }, { 'value': 3, 'name': 'MatrixUtil' }, { 'value': 3, 'name': 'PathUtil' }, { 'value': 3, 'name': 'G' }, { 'value': 3, 'name': '2D' }, { 'value': 3, 'name': '3D' }, { 'value': 3, 'name': 'Line' }, { 'value': 3, 'name': 'Area' }, { 'value': 3, 'name': 'Interval' }, { 'value': 3, 'name': 'Schema' }, { 'value': 3, 'name': 'Edge' }, { 'value': 3, 'name': 'Polygon' }, { 'value': 3, 'name': 'Heatmap' }, { 'value': 3, 'name': 'Render' }, { 'value': 3, 'name': 'Tooltip' }, { 'value': 3, 'name': 'Axis' }, { 'value': 3, 'name': 'Guide' }, { 'value': 3, 'name': 'Coord' }, { 'value': 3, 'name': 'Legend' }, { 'value': 3, 'name': 'Path' }, { 'value': 3, 'name': 'Helix' }, { 'value': 3, 'name': 'Theta' }, { 'value': 3, 'name': 'Rect' }, { 'value': 3, 'name': 'Polar' }, { 'value': 3, 'name': 'Dsv' }, { 'value': 3, 'name': 'Csv' }, { 'value': 3, 'name': 'Tsv' }, { 'value': 3, 'name': 'GeoJSON' }, { 'value': 3, 'name': 'TopoJSON' }, { 'value': 3, 'name': 'Filter' }, { 'value': 3, 'name': 'Map' }, { 'value': 3, 'name': 'Pick' }, { 'value': 3, 'name': 'Rename' }, { 'value': 3, 'name': 'Filter' }, { 'value': 3, 'name': 'Map' }, { 'value': 3, 'name': 'Pick' }, { 'value': 3, 'name': 'Rename' }, { 'value': 3, 'name': 'Reverse' }, { 'value': 3, 'name': 'sort' }, { 'value': 3, 'name': 'Subset' }, { 'value': 3, 'name': 'Partition' }, { 'value': 3, 'name': 'Imputation' }, { 'value': 3, 'name': 'Fold' }, { 'value': 3, 'name': 'Aggregate' }, { 'value': 3, 'name': 'Proportion' }, { 'value': 3, 'name': 'Histogram' }, { 'value': 3, 'name': 'Quantile' }, { 'value': 3, 'name': 'Treemap' }, { 'value': 3, 'name': 'Hexagon' }, { 'value': 3, 'name': 'Binning' }, { 'value': 3, 'name': 'kernel' }, { 'value': 3, 'name': 'Regression' }, { 'value': 3, 'name': 'Density' }, { 'value': 3, 'name': 'Sankey' }, { 'value': 3, 'name': 'Voronoi' }, { 'value': 3, 'name': 'Projection' }, { 'value': 3, 'name': 'Centroid' }, { 'value': 3, 'name': 'H5' }, { 'value': 3, 'name': 'Mobile' }, { 'value': 3, 'name': 'K线图' }, { 'value': 3, 'name': '关系图' }, { 'value': 3, 'name': '烛形图' }, { 'value': 3, 'name': '股票图' }, { 'value': 3, 'name': '直方图' }, { 'value': 3, 'name': '金字塔图' }, { 'value': 3, 'name': '分面' }, { 'value': 3, 'name': '南丁格尔玫瑰图' }, { 'value': 3, 'name': '饼图' }, { 'value': 3, 'name': '线图' }, { 'value': 3, 'name': '点图' }, { 'value': 3, 'name': '散点图' }, { 'value': 3, 'name': '子弹图' }, { 'value': 3, 'name': '柱状图' }, { 'value': 3, 'name': '仪表盘' }, { 'value': 3, 'name': '气泡图' }, { 'value': 3, 'name': '漏斗图' }, { 'value': 3, 'name': '热力图' }, { 'value': 3, 'name': '玉玦图' }, { 'value': 3, 'name': '直方图' }, { 'value': 3, 'name': '矩形树图' }, { 'value': 3, 'name': '箱形图' }, { 'value': 3, 'name': '色块图' }, { 'value': 3, 'name': '螺旋图' }, { 'value': 3, 'name': '词云' }, { 'value': 3, 'name': '词云图' }, { 'value': 3, 'name': '雷达图' }, { 'value': 3, 'name': '面积图' }, { 'value': 3, 'name': '马赛克图' }, { 'value': 3, 'name': '盒须图' }, { 'value': 3, 'name': '坐标轴' }, { 'value': 3, 'name': '' }, { 'value': 3, 'name': 'Jacques Bertin' }, { 'value': 3, 'name': 'Leland Wilkinson' }, { 'value': 3, 'name': 'William Playfair' }, { 'value': 3, 'name': '关联' }, { 'value': 3, 'name': '分布' }, { 'value': 3, 'name': '区间' }, { 'value': 3, 'name': '占比' }, { 'value': 3, 'name': '地图' }, { 'value': 3, 'name': '时间' }, { 'value': 3, 'name': '比较' }, { 'value': 3, 'name': '流程' }, { 'value': 3, 'name': '趋势' }, { 'value': 2, 'name': '亦叶' }, { 'value': 2, 'name': '再飞' }, { 'value': 2, 'name': '完白' }, { 'value': 2, 'name': '巴思' }, { 'value': 2, 'name': '张初尘' }, { 'value': 2, 'name': '御术' }, { 'value': 2, 'name': '有田' }, { 'value': 2, 'name': '沉鱼' }, { 'value': 2, 'name': '玉伯' }, { 'value': 2, 'name': '画康' }, { 'value': 2, 'name': '祯逸' }, { 'value': 2, 'name': '绝云' }, { 'value': 2, 'name': '罗宪' }, { 'value': 2, 'name': '萧庆' }, { 'value': 2, 'name': '董珊珊' }, { 'value': 2, 'name': '陆沉' }, { 'value': 2, 'name': '顾倾' }, { 'value': 2, 'name': 'Domo' }, { 'value': 2, 'name': 'GPL' }, { 'value': 2, 'name': 'PAI' }, { 'value': 2, 'name': 'SPSS' }, { 'value': 2, 'name': 'SYSTAT' }, { 'value': 2, 'name': 'Tableau' }, { 'value': 2, 'name': 'D3' }, { 'value': 2, 'name': 'Vega' }, { 'value': 2, 'name': '统计图表' }])\\n\"]]"
      ]
     },
     "execution_count": 92,
     "metadata": {},
     "output_type": "execute_result"
    }
   ],
   "source": [
    "[x for x in [p.split(' ', 1)]]"
   ]
  },
  {
   "cell_type": "code",
   "execution_count": 91,
   "metadata": {},
   "outputs": [
    {
     "ename": "ParamValidationError",
     "evalue": "Parameter validation failed:\nInvalid type for parameter Text, value: ['', \"return builder([{ 'value': 9, 'name': 'AntV' }, { 'value': 8, 'name': 'F2' }, { 'value': 8, 'name': 'G2' }, { 'value': 8, 'name': 'G6' }, { 'value': 8, 'name': 'DataSet' }, { 'value': 8, 'name': '墨者学院' }, { 'value': 6, 'name': 'Analysis' }, { 'value': 6, 'name': 'Data Mining' }, { 'value': 6, 'name': 'Data Vis' }, { 'value': 6, 'name': 'Design' }, { 'value': 6, 'name': 'Grammar' }, { 'value': 6, 'name': 'Graphics' }, { 'value': 6, 'name': 'Graph' }, { 'value': 6, 'name': 'Hierarchy' }, { 'value': 6, 'name': 'Labeling' }, { 'value': 6, 'name': 'Layout' }, { 'value': 6, 'name': 'Quantitative' }, { 'value': 6, 'name': 'Relation' }, { 'value': 6, 'name': 'Statistics' }, { 'value': 6, 'name': '可视化' }, { 'value': 6, 'name': '数据' }, { 'value': 6, 'name': '数据可视化' }, { 'value': 4, 'name': 'Arc Diagram' }, { 'value': 4, 'name': 'Bar Chart' }, { 'value': 4, 'name': 'Canvas' }, { 'value': 4, 'name': 'Chart' }, { 'value': 4, 'name': 'DAG' }, { 'value': 4, 'name': 'DG' }, { 'value': 4, 'name': 'Facet' }, { 'value': 4, 'name': 'Geo' }, { 'value': 4, 'name': 'Line' }, { 'value': 4, 'name': 'MindMap' }, { 'value': 4, 'name': 'Pie' }, { 'value': 4, 'name': 'Pizza Chart' }, { 'value': 4, 'name': 'Punch Card' }, { 'value': 4, 'name': 'SVG' }, { 'value': 4, 'name': 'Sunburst' }, { 'value': 4, 'name': 'Tree' }, { 'value': 4, 'name': 'UML' }, { 'value': 3, 'name': 'Chart' }, { 'value': 3, 'name': 'View' }, { 'value': 3, 'name': 'Geom' }, { 'value': 3, 'name': 'Shape' }, { 'value': 3, 'name': 'Scale' }, { 'value': 3, 'name': 'Animate' }, { 'value': 3, 'name': 'Global' }, { 'value': 3, 'name': 'Slider' }, { 'value': 3, 'name': 'Connector' }, { 'value': 3, 'name': 'Transform' }, { 'value': 3, 'name': 'Util' }, { 'value': 3, 'name': 'DomUtil' }, { 'value': 3, 'name': 'MatrixUtil' }, { 'value': 3, 'name': 'PathUtil' }, { 'value': 3, 'name': 'G' }, { 'value': 3, 'name': '2D' }, { 'value': 3, 'name': '3D' }, { 'value': 3, 'name': 'Line' }, { 'value': 3, 'name': 'Area' }, { 'value': 3, 'name': 'Interval' }, { 'value': 3, 'name': 'Schema' }, { 'value': 3, 'name': 'Edge' }, { 'value': 3, 'name': 'Polygon' }, { 'value': 3, 'name': 'Heatmap' }, { 'value': 3, 'name': 'Render' }, { 'value': 3, 'name': 'Tooltip' }, { 'value': 3, 'name': 'Axis' }, { 'value': 3, 'name': 'Guide' }, { 'value': 3, 'name': 'Coord' }, { 'value': 3, 'name': 'Legend' }, { 'value': 3, 'name': 'Path' }, { 'value': 3, 'name': 'Helix' }, { 'value': 3, 'name': 'Theta' }, { 'value': 3, 'name': 'Rect' }, { 'value': 3, 'name': 'Polar' }, { 'value': 3, 'name': 'Dsv' }, { 'value': 3, 'name': 'Csv' }, { 'value': 3, 'name': 'Tsv' }, { 'value': 3, 'name': 'GeoJSON' }, { 'value': 3, 'name': 'TopoJSON' }, { 'value': 3, 'name': 'Filter' }, { 'value': 3, 'name': 'Map' }, { 'value': 3, 'name': 'Pick' }, { 'value': 3, 'name': 'Rename' }, { 'value': 3, 'name': 'Filter' }, { 'value': 3, 'name': 'Map' }, { 'value': 3, 'name': 'Pick' }, { 'value': 3, 'name': 'Rename' }, { 'value': 3, 'name': 'Reverse' }, { 'value': 3, 'name': 'sort' }, { 'value': 3, 'name': 'Subset' }, { 'value': 3, 'name': 'Partition' }, { 'value': 3, 'name': 'Imputation' }, { 'value': 3, 'name': 'Fold' }, { 'value': 3, 'name': 'Aggregate' }, { 'value': 3, 'name': 'Proportion' }, { 'value': 3, 'name': 'Histogram' }, { 'value': 3, 'name': 'Quantile' }, { 'value': 3, 'name': 'Treemap' }, { 'value': 3, 'name': 'Hexagon' }, { 'value': 3, 'name': 'Binning' }, { 'value': 3, 'name': 'kernel' }, { 'value': 3, 'name': 'Regression' }, { 'value': 3, 'name': 'Density' }, { 'value': 3, 'name': 'Sankey' }, { 'value': 3, 'name': 'Voronoi' }, { 'value': 3, 'name': 'Projection' }, { 'value': 3, 'name': 'Centroid' }, { 'value': 3, 'name': 'H5' }, { 'value': 3, 'name': 'Mobile' }, { 'value': 3, 'name': 'K线图' }, { 'value': 3, 'name': '关系图' }, { 'value': 3, 'name': '烛形图' }, { 'value': 3, 'name': '股票图' }, { 'value': 3, 'name': '直方图' }, { 'value': 3, 'name': '金字塔图' }, { 'value': 3, 'name': '分面' }, { 'value': 3, 'name': '南丁格尔玫瑰图' }, { 'value': 3, 'name': '饼图' }, { 'value': 3, 'name': '线图' }, { 'value': 3, 'name': '点图' }, { 'value': 3, 'name': '散点图' }, { 'value': 3, 'name': '子弹图' }, { 'value': 3, 'name': '柱状图' }, { 'value': 3, 'name': '仪表盘' }, { 'value': 3, 'name': '气泡图' }, { 'value': 3, 'name': '漏斗图' }, { 'value': 3, 'name': '热力图' }, { 'value': 3, 'name': '玉玦图' }, { 'value': 3, 'name': '直方图' }, { 'value': 3, 'name': '矩形树图' }, { 'value': 3, 'name': '箱形图' }, { 'value': 3, 'name': '色块图' }, { 'value': 3, 'name': '螺旋图' }, { 'value': 3, 'name': '词云' }, { 'value': 3, 'name': '词云图' }, { 'value': 3, 'name': '雷达图' }, { 'value': 3, 'name': '面积图' }, { 'value': 3, 'name': '马赛克图' }, { 'value': 3, 'name': '盒须图' }, { 'value': 3, 'name': '坐标轴' }, { 'value': 3, 'name': '' }, { 'value': 3, 'name': 'Jacques Bertin' }, { 'value': 3, 'name': 'Leland Wilkinson' }, { 'value': 3, 'name': 'William Playfair' }, { 'value': 3, 'name': '关联' }, { 'value': 3, 'name': '分布' }, { 'value': 3, 'name': '区间' }, { 'value': 3, 'name': '占比' }, { 'value': 3, 'name': '地图' }, { 'value': 3, 'name': '时间' }, { 'value': 3, 'name': '比较' }, { 'value': 3, 'name': '流程' }, { 'value': 3, 'name': '趋势' }, { 'value': 2, 'name': '亦叶' }, { 'value': 2, 'name': '再飞' }, { 'value': 2, 'name': '完白' }, { 'value': 2, 'name': '巴思' }, { 'value': 2, 'name': '张初尘' }, { 'value': 2, 'name': '御术' }, { 'value': 2, 'name': '有田' }, { 'value': 2, 'name': '沉鱼' }, { 'value': 2, 'name': '玉伯' }, { 'value': 2, 'name': '画康' }, { 'value': 2, 'name': '祯逸' }, { 'value': 2, 'name': '绝云' }, { 'value': 2, 'name': '罗宪' }, { 'value': 2, 'name': '萧庆' }, { 'value': 2, 'name': '董珊珊' }, { 'value': 2, 'name': '陆沉' }, { 'value': 2, 'name': '顾倾' }, { 'value': 2, 'name': 'Domo' }, { 'value': 2, 'name': 'GPL' }, { 'value': 2, 'name': 'PAI' }, { 'value': 2, 'name': 'SPSS' }, { 'value': 2, 'name': 'SYSTAT' }, { 'value': 2, 'name': 'Tableau' }, { 'value': 2, 'name': 'D3' }, { 'value': 2, 'name': 'Vega' }, { 'value': 2, 'name': '统计图表' }])\\n\"], type: <class 'list'>, valid types: <class 'str'>",
     "output_type": "error",
     "traceback": [
      "\u001b[0;31m---------------------------------------------------------------------------\u001b[0m",
      "\u001b[0;31mParamValidationError\u001b[0m                      Traceback (most recent call last)",
      "\u001b[0;32m<ipython-input-91-01cd4aa26f9d>\u001b[0m in \u001b[0;36m<module>\u001b[0;34m\u001b[0m\n\u001b[1;32m      1\u001b[0m \u001b[0mp\u001b[0m \u001b[0;34m=\u001b[0m \u001b[0;34m\" return builder([{ 'value': 9, 'name': 'AntV' }, { 'value': 8, 'name': 'F2' }, { 'value': 8, 'name': 'G2' }, { 'value': 8, 'name': 'G6' }, { 'value': 8, 'name': 'DataSet' }, { 'value': 8, 'name': '墨者学院' }, { 'value': 6, 'name': 'Analysis' }, { 'value': 6, 'name': 'Data Mining' }, { 'value': 6, 'name': 'Data Vis' }, { 'value': 6, 'name': 'Design' }, { 'value': 6, 'name': 'Grammar' }, { 'value': 6, 'name': 'Graphics' }, { 'value': 6, 'name': 'Graph' }, { 'value': 6, 'name': 'Hierarchy' }, { 'value': 6, 'name': 'Labeling' }, { 'value': 6, 'name': 'Layout' }, { 'value': 6, 'name': 'Quantitative' }, { 'value': 6, 'name': 'Relation' }, { 'value': 6, 'name': 'Statistics' }, { 'value': 6, 'name': '可视化' }, { 'value': 6, 'name': '数据' }, { 'value': 6, 'name': '数据可视化' }, { 'value': 4, 'name': 'Arc Diagram' }, { 'value': 4, 'name': 'Bar Chart' }, { 'value': 4, 'name': 'Canvas' }, { 'value': 4, 'name': 'Chart' }, { 'value': 4, 'name': 'DAG' }, { 'value': 4, 'name': 'DG' }, { 'value': 4, 'name': 'Facet' }, { 'value': 4, 'name': 'Geo' }, { 'value': 4, 'name': 'Line' }, { 'value': 4, 'name': 'MindMap' }, { 'value': 4, 'name': 'Pie' }, { 'value': 4, 'name': 'Pizza Chart' }, { 'value': 4, 'name': 'Punch Card' }, { 'value': 4, 'name': 'SVG' }, { 'value': 4, 'name': 'Sunburst' }, { 'value': 4, 'name': 'Tree' }, { 'value': 4, 'name': 'UML' }, { 'value': 3, 'name': 'Chart' }, { 'value': 3, 'name': 'View' }, { 'value': 3, 'name': 'Geom' }, { 'value': 3, 'name': 'Shape' }, { 'value': 3, 'name': 'Scale' }, { 'value': 3, 'name': 'Animate' }, { 'value': 3, 'name': 'Global' }, { 'value': 3, 'name': 'Slider' }, { 'value': 3, 'name': 'Connector' }, { 'value': 3, 'name': 'Transform' }, { 'value': 3, 'name': 'Util' }, { 'value': 3, 'name': 'DomUtil' }, { 'value': 3, 'name': 'MatrixUtil' }, { 'value': 3, 'name': 'PathUtil' }, { 'value': 3, 'name': 'G' }, { 'value': 3, 'name': '2D' }, { 'value': 3, 'name': '3D' }, { 'value': 3, 'name': 'Line' }, { 'value': 3, 'name': 'Area' }, { 'value': 3, 'name': 'Interval' }, { 'value': 3, 'name': 'Schema' }, { 'value': 3, 'name': 'Edge' }, { 'value': 3, 'name': 'Polygon' }, { 'value': 3, 'name': 'Heatmap' }, { 'value': 3, 'name': 'Render' }, { 'value': 3, 'name': 'Tooltip' }, { 'value': 3, 'name': 'Axis' }, { 'value': 3, 'name': 'Guide' }, { 'value': 3, 'name': 'Coord' }, { 'value': 3, 'name': 'Legend' }, { 'value': 3, 'name': 'Path' }, { 'value': 3, 'name': 'Helix' }, { 'value': 3, 'name': 'Theta' }, { 'value': 3, 'name': 'Rect' }, { 'value': 3, 'name': 'Polar' }, { 'value': 3, 'name': 'Dsv' }, { 'value': 3, 'name': 'Csv' }, { 'value': 3, 'name': 'Tsv' }, { 'value': 3, 'name': 'GeoJSON' }, { 'value': 3, 'name': 'TopoJSON' }, { 'value': 3, 'name': 'Filter' }, { 'value': 3, 'name': 'Map' }, { 'value': 3, 'name': 'Pick' }, { 'value': 3, 'name': 'Rename' }, { 'value': 3, 'name': 'Filter' }, { 'value': 3, 'name': 'Map' }, { 'value': 3, 'name': 'Pick' }, { 'value': 3, 'name': 'Rename' }, { 'value': 3, 'name': 'Reverse' }, { 'value': 3, 'name': 'sort' }, { 'value': 3, 'name': 'Subset' }, { 'value': 3, 'name': 'Partition' }, { 'value': 3, 'name': 'Imputation' }, { 'value': 3, 'name': 'Fold' }, { 'value': 3, 'name': 'Aggregate' }, { 'value': 3, 'name': 'Proportion' }, { 'value': 3, 'name': 'Histogram' }, { 'value': 3, 'name': 'Quantile' }, { 'value': 3, 'name': 'Treemap' }, { 'value': 3, 'name': 'Hexagon' }, { 'value': 3, 'name': 'Binning' }, { 'value': 3, 'name': 'kernel' }, { 'value': 3, 'name': 'Regression' }, { 'value': 3, 'name': 'Density' }, { 'value': 3, 'name': 'Sankey' }, { 'value': 3, 'name': 'Voronoi' }, { 'value': 3, 'name': 'Projection' }, { 'value': 3, 'name': 'Centroid' }, { 'value': 3, 'name': 'H5' }, { 'value': 3, 'name': 'Mobile' }, { 'value': 3, 'name': 'K线图' }, { 'value': 3, 'name': '关系图' }, { 'value': 3, 'name': '烛形图' }, { 'value': 3, 'name': '股票图' }, { 'value': 3, 'name': '直方图' }, { 'value': 3, 'name': '金字塔图' }, { 'value': 3, 'name': '分面' }, { 'value': 3, 'name': '南丁格尔玫瑰图' }, { 'value': 3, 'name': '饼图' }, { 'value': 3, 'name': '线图' }, { 'value': 3, 'name': '点图' }, { 'value': 3, 'name': '散点图' }, { 'value': 3, 'name': '子弹图' }, { 'value': 3, 'name': '柱状图' }, { 'value': 3, 'name': '仪表盘' }, { 'value': 3, 'name': '气泡图' }, { 'value': 3, 'name': '漏斗图' }, { 'value': 3, 'name': '热力图' }, { 'value': 3, 'name': '玉玦图' }, { 'value': 3, 'name': '直方图' }, { 'value': 3, 'name': '矩形树图' }, { 'value': 3, 'name': '箱形图' }, { 'value': 3, 'name': '色块图' }, { 'value': 3, 'name': '螺旋图' }, { 'value': 3, 'name': '词云' }, { 'value': 3, 'name': '词云图' }, { 'value': 3, 'name': '雷达图' }, { 'value': 3, 'name': '面积图' }, { 'value': 3, 'name': '马赛克图' }, { 'value': 3, 'name': '盒须图' }, { 'value': 3, 'name': '坐标轴' }, { 'value': 3, 'name': '' }, { 'value': 3, 'name': 'Jacques Bertin' }, { 'value': 3, 'name': 'Leland Wilkinson' }, { 'value': 3, 'name': 'William Playfair' }, { 'value': 3, 'name': '关联' }, { 'value': 3, 'name': '分布' }, { 'value': 3, 'name': '区间' }, { 'value': 3, 'name': '占比' }, { 'value': 3, 'name': '地图' }, { 'value': 3, 'name': '时间' }, { 'value': 3, 'name': '比较' }, { 'value': 3, 'name': '流程' }, { 'value': 3, 'name': '趋势' }, { 'value': 2, 'name': '亦叶' }, { 'value': 2, 'name': '再飞' }, { 'value': 2, 'name': '完白' }, { 'value': 2, 'name': '巴思' }, { 'value': 2, 'name': '张初尘' }, { 'value': 2, 'name': '御术' }, { 'value': 2, 'name': '有田' }, { 'value': 2, 'name': '沉鱼' }, { 'value': 2, 'name': '玉伯' }, { 'value': 2, 'name': '画康' }, { 'value': 2, 'name': '祯逸' }, { 'value': 2, 'name': '绝云' }, { 'value': 2, 'name': '罗宪' }, { 'value': 2, 'name': '萧庆' }, { 'value': 2, 'name': '董珊珊' }, { 'value': 2, 'name': '陆沉' }, { 'value': 2, 'name': '顾倾' }, { 'value': 2, 'name': 'Domo' }, { 'value': 2, 'name': 'GPL' }, { 'value': 2, 'name': 'PAI' }, { 'value': 2, 'name': 'SPSS' }, { 'value': 2, 'name': 'SYSTAT' }, { 'value': 2, 'name': 'Tableau' }, { 'value': 2, 'name': 'D3' }, { 'value': 2, 'name': 'Vega' }, { 'value': 2, 'name': '统计图表' }])\\n\"\u001b[0m\u001b[0;34m\u001b[0m\u001b[0;34m\u001b[0m\u001b[0m\n\u001b[0;32m----> 2\u001b[0;31m \u001b[0msplits\u001b[0m \u001b[0;34m=\u001b[0m \u001b[0;34m[\u001b[0m\u001b[0mtranslate\u001b[0m\u001b[0;34m.\u001b[0m\u001b[0mtranslate_text\u001b[0m\u001b[0;34m(\u001b[0m\u001b[0mText\u001b[0m\u001b[0;34m=\u001b[0m\u001b[0mx\u001b[0m\u001b[0;34m,\u001b[0m \u001b[0mSourceLanguageCode\u001b[0m\u001b[0;34m=\u001b[0m\u001b[0;34m\"zh\"\u001b[0m\u001b[0;34m,\u001b[0m \u001b[0mTargetLanguageCode\u001b[0m\u001b[0;34m=\u001b[0m\u001b[0;34m\"en\"\u001b[0m\u001b[0;34m)\u001b[0m\u001b[0;34m[\u001b[0m\u001b[0;34m'TranslatedText'\u001b[0m\u001b[0;34m]\u001b[0m \u001b[0;32mfor\u001b[0m \u001b[0mx\u001b[0m \u001b[0;32min\u001b[0m \u001b[0;34m[\u001b[0m\u001b[0mp\u001b[0m\u001b[0;34m.\u001b[0m\u001b[0msplit\u001b[0m\u001b[0;34m(\u001b[0m\u001b[0;34m' '\u001b[0m\u001b[0;34m,\u001b[0m \u001b[0;36m1\u001b[0m\u001b[0;34m)\u001b[0m\u001b[0;34m]\u001b[0m\u001b[0;34m]\u001b[0m\u001b[0;34m\u001b[0m\u001b[0;34m\u001b[0m\u001b[0m\n\u001b[0m\u001b[1;32m      3\u001b[0m \u001b[0;34m\u001b[0m\u001b[0m\n\u001b[1;32m      4\u001b[0m \u001b[0;34m\u001b[0m\u001b[0m\n\u001b[1;32m      5\u001b[0m \u001b[0;34m\u001b[0m\u001b[0m\n",
      "\u001b[0;32m<ipython-input-91-01cd4aa26f9d>\u001b[0m in \u001b[0;36m<listcomp>\u001b[0;34m(.0)\u001b[0m\n\u001b[1;32m      1\u001b[0m \u001b[0mp\u001b[0m \u001b[0;34m=\u001b[0m \u001b[0;34m\" return builder([{ 'value': 9, 'name': 'AntV' }, { 'value': 8, 'name': 'F2' }, { 'value': 8, 'name': 'G2' }, { 'value': 8, 'name': 'G6' }, { 'value': 8, 'name': 'DataSet' }, { 'value': 8, 'name': '墨者学院' }, { 'value': 6, 'name': 'Analysis' }, { 'value': 6, 'name': 'Data Mining' }, { 'value': 6, 'name': 'Data Vis' }, { 'value': 6, 'name': 'Design' }, { 'value': 6, 'name': 'Grammar' }, { 'value': 6, 'name': 'Graphics' }, { 'value': 6, 'name': 'Graph' }, { 'value': 6, 'name': 'Hierarchy' }, { 'value': 6, 'name': 'Labeling' }, { 'value': 6, 'name': 'Layout' }, { 'value': 6, 'name': 'Quantitative' }, { 'value': 6, 'name': 'Relation' }, { 'value': 6, 'name': 'Statistics' }, { 'value': 6, 'name': '可视化' }, { 'value': 6, 'name': '数据' }, { 'value': 6, 'name': '数据可视化' }, { 'value': 4, 'name': 'Arc Diagram' }, { 'value': 4, 'name': 'Bar Chart' }, { 'value': 4, 'name': 'Canvas' }, { 'value': 4, 'name': 'Chart' }, { 'value': 4, 'name': 'DAG' }, { 'value': 4, 'name': 'DG' }, { 'value': 4, 'name': 'Facet' }, { 'value': 4, 'name': 'Geo' }, { 'value': 4, 'name': 'Line' }, { 'value': 4, 'name': 'MindMap' }, { 'value': 4, 'name': 'Pie' }, { 'value': 4, 'name': 'Pizza Chart' }, { 'value': 4, 'name': 'Punch Card' }, { 'value': 4, 'name': 'SVG' }, { 'value': 4, 'name': 'Sunburst' }, { 'value': 4, 'name': 'Tree' }, { 'value': 4, 'name': 'UML' }, { 'value': 3, 'name': 'Chart' }, { 'value': 3, 'name': 'View' }, { 'value': 3, 'name': 'Geom' }, { 'value': 3, 'name': 'Shape' }, { 'value': 3, 'name': 'Scale' }, { 'value': 3, 'name': 'Animate' }, { 'value': 3, 'name': 'Global' }, { 'value': 3, 'name': 'Slider' }, { 'value': 3, 'name': 'Connector' }, { 'value': 3, 'name': 'Transform' }, { 'value': 3, 'name': 'Util' }, { 'value': 3, 'name': 'DomUtil' }, { 'value': 3, 'name': 'MatrixUtil' }, { 'value': 3, 'name': 'PathUtil' }, { 'value': 3, 'name': 'G' }, { 'value': 3, 'name': '2D' }, { 'value': 3, 'name': '3D' }, { 'value': 3, 'name': 'Line' }, { 'value': 3, 'name': 'Area' }, { 'value': 3, 'name': 'Interval' }, { 'value': 3, 'name': 'Schema' }, { 'value': 3, 'name': 'Edge' }, { 'value': 3, 'name': 'Polygon' }, { 'value': 3, 'name': 'Heatmap' }, { 'value': 3, 'name': 'Render' }, { 'value': 3, 'name': 'Tooltip' }, { 'value': 3, 'name': 'Axis' }, { 'value': 3, 'name': 'Guide' }, { 'value': 3, 'name': 'Coord' }, { 'value': 3, 'name': 'Legend' }, { 'value': 3, 'name': 'Path' }, { 'value': 3, 'name': 'Helix' }, { 'value': 3, 'name': 'Theta' }, { 'value': 3, 'name': 'Rect' }, { 'value': 3, 'name': 'Polar' }, { 'value': 3, 'name': 'Dsv' }, { 'value': 3, 'name': 'Csv' }, { 'value': 3, 'name': 'Tsv' }, { 'value': 3, 'name': 'GeoJSON' }, { 'value': 3, 'name': 'TopoJSON' }, { 'value': 3, 'name': 'Filter' }, { 'value': 3, 'name': 'Map' }, { 'value': 3, 'name': 'Pick' }, { 'value': 3, 'name': 'Rename' }, { 'value': 3, 'name': 'Filter' }, { 'value': 3, 'name': 'Map' }, { 'value': 3, 'name': 'Pick' }, { 'value': 3, 'name': 'Rename' }, { 'value': 3, 'name': 'Reverse' }, { 'value': 3, 'name': 'sort' }, { 'value': 3, 'name': 'Subset' }, { 'value': 3, 'name': 'Partition' }, { 'value': 3, 'name': 'Imputation' }, { 'value': 3, 'name': 'Fold' }, { 'value': 3, 'name': 'Aggregate' }, { 'value': 3, 'name': 'Proportion' }, { 'value': 3, 'name': 'Histogram' }, { 'value': 3, 'name': 'Quantile' }, { 'value': 3, 'name': 'Treemap' }, { 'value': 3, 'name': 'Hexagon' }, { 'value': 3, 'name': 'Binning' }, { 'value': 3, 'name': 'kernel' }, { 'value': 3, 'name': 'Regression' }, { 'value': 3, 'name': 'Density' }, { 'value': 3, 'name': 'Sankey' }, { 'value': 3, 'name': 'Voronoi' }, { 'value': 3, 'name': 'Projection' }, { 'value': 3, 'name': 'Centroid' }, { 'value': 3, 'name': 'H5' }, { 'value': 3, 'name': 'Mobile' }, { 'value': 3, 'name': 'K线图' }, { 'value': 3, 'name': '关系图' }, { 'value': 3, 'name': '烛形图' }, { 'value': 3, 'name': '股票图' }, { 'value': 3, 'name': '直方图' }, { 'value': 3, 'name': '金字塔图' }, { 'value': 3, 'name': '分面' }, { 'value': 3, 'name': '南丁格尔玫瑰图' }, { 'value': 3, 'name': '饼图' }, { 'value': 3, 'name': '线图' }, { 'value': 3, 'name': '点图' }, { 'value': 3, 'name': '散点图' }, { 'value': 3, 'name': '子弹图' }, { 'value': 3, 'name': '柱状图' }, { 'value': 3, 'name': '仪表盘' }, { 'value': 3, 'name': '气泡图' }, { 'value': 3, 'name': '漏斗图' }, { 'value': 3, 'name': '热力图' }, { 'value': 3, 'name': '玉玦图' }, { 'value': 3, 'name': '直方图' }, { 'value': 3, 'name': '矩形树图' }, { 'value': 3, 'name': '箱形图' }, { 'value': 3, 'name': '色块图' }, { 'value': 3, 'name': '螺旋图' }, { 'value': 3, 'name': '词云' }, { 'value': 3, 'name': '词云图' }, { 'value': 3, 'name': '雷达图' }, { 'value': 3, 'name': '面积图' }, { 'value': 3, 'name': '马赛克图' }, { 'value': 3, 'name': '盒须图' }, { 'value': 3, 'name': '坐标轴' }, { 'value': 3, 'name': '' }, { 'value': 3, 'name': 'Jacques Bertin' }, { 'value': 3, 'name': 'Leland Wilkinson' }, { 'value': 3, 'name': 'William Playfair' }, { 'value': 3, 'name': '关联' }, { 'value': 3, 'name': '分布' }, { 'value': 3, 'name': '区间' }, { 'value': 3, 'name': '占比' }, { 'value': 3, 'name': '地图' }, { 'value': 3, 'name': '时间' }, { 'value': 3, 'name': '比较' }, { 'value': 3, 'name': '流程' }, { 'value': 3, 'name': '趋势' }, { 'value': 2, 'name': '亦叶' }, { 'value': 2, 'name': '再飞' }, { 'value': 2, 'name': '完白' }, { 'value': 2, 'name': '巴思' }, { 'value': 2, 'name': '张初尘' }, { 'value': 2, 'name': '御术' }, { 'value': 2, 'name': '有田' }, { 'value': 2, 'name': '沉鱼' }, { 'value': 2, 'name': '玉伯' }, { 'value': 2, 'name': '画康' }, { 'value': 2, 'name': '祯逸' }, { 'value': 2, 'name': '绝云' }, { 'value': 2, 'name': '罗宪' }, { 'value': 2, 'name': '萧庆' }, { 'value': 2, 'name': '董珊珊' }, { 'value': 2, 'name': '陆沉' }, { 'value': 2, 'name': '顾倾' }, { 'value': 2, 'name': 'Domo' }, { 'value': 2, 'name': 'GPL' }, { 'value': 2, 'name': 'PAI' }, { 'value': 2, 'name': 'SPSS' }, { 'value': 2, 'name': 'SYSTAT' }, { 'value': 2, 'name': 'Tableau' }, { 'value': 2, 'name': 'D3' }, { 'value': 2, 'name': 'Vega' }, { 'value': 2, 'name': '统计图表' }])\\n\"\u001b[0m\u001b[0;34m\u001b[0m\u001b[0;34m\u001b[0m\u001b[0m\n\u001b[0;32m----> 2\u001b[0;31m \u001b[0msplits\u001b[0m \u001b[0;34m=\u001b[0m \u001b[0;34m[\u001b[0m\u001b[0mtranslate\u001b[0m\u001b[0;34m.\u001b[0m\u001b[0mtranslate_text\u001b[0m\u001b[0;34m(\u001b[0m\u001b[0mText\u001b[0m\u001b[0;34m=\u001b[0m\u001b[0mx\u001b[0m\u001b[0;34m,\u001b[0m \u001b[0mSourceLanguageCode\u001b[0m\u001b[0;34m=\u001b[0m\u001b[0;34m\"zh\"\u001b[0m\u001b[0;34m,\u001b[0m \u001b[0mTargetLanguageCode\u001b[0m\u001b[0;34m=\u001b[0m\u001b[0;34m\"en\"\u001b[0m\u001b[0;34m)\u001b[0m\u001b[0;34m[\u001b[0m\u001b[0;34m'TranslatedText'\u001b[0m\u001b[0;34m]\u001b[0m \u001b[0;32mfor\u001b[0m \u001b[0mx\u001b[0m \u001b[0;32min\u001b[0m \u001b[0;34m[\u001b[0m\u001b[0mp\u001b[0m\u001b[0;34m.\u001b[0m\u001b[0msplit\u001b[0m\u001b[0;34m(\u001b[0m\u001b[0;34m' '\u001b[0m\u001b[0;34m,\u001b[0m \u001b[0;36m1\u001b[0m\u001b[0;34m)\u001b[0m\u001b[0;34m]\u001b[0m\u001b[0;34m]\u001b[0m\u001b[0;34m\u001b[0m\u001b[0;34m\u001b[0m\u001b[0m\n\u001b[0m\u001b[1;32m      3\u001b[0m \u001b[0;34m\u001b[0m\u001b[0m\n\u001b[1;32m      4\u001b[0m \u001b[0;34m\u001b[0m\u001b[0m\n\u001b[1;32m      5\u001b[0m \u001b[0;34m\u001b[0m\u001b[0m\n",
      "\u001b[0;32m~/miniconda3/envs/bluechip/lib/python3.8/site-packages/botocore/client.py\u001b[0m in \u001b[0;36m_api_call\u001b[0;34m(self, *args, **kwargs)\u001b[0m\n\u001b[1;32m    335\u001b[0m                     \"%s() only accepts keyword arguments.\" % py_operation_name)\n\u001b[1;32m    336\u001b[0m             \u001b[0;31m# The \"self\" in this scope is referring to the BaseClient.\u001b[0m\u001b[0;34m\u001b[0m\u001b[0;34m\u001b[0m\u001b[0;34m\u001b[0m\u001b[0m\n\u001b[0;32m--> 337\u001b[0;31m             \u001b[0;32mreturn\u001b[0m \u001b[0mself\u001b[0m\u001b[0;34m.\u001b[0m\u001b[0m_make_api_call\u001b[0m\u001b[0;34m(\u001b[0m\u001b[0moperation_name\u001b[0m\u001b[0;34m,\u001b[0m \u001b[0mkwargs\u001b[0m\u001b[0;34m)\u001b[0m\u001b[0;34m\u001b[0m\u001b[0;34m\u001b[0m\u001b[0m\n\u001b[0m\u001b[1;32m    338\u001b[0m \u001b[0;34m\u001b[0m\u001b[0m\n\u001b[1;32m    339\u001b[0m         \u001b[0m_api_call\u001b[0m\u001b[0;34m.\u001b[0m\u001b[0m__name__\u001b[0m \u001b[0;34m=\u001b[0m \u001b[0mstr\u001b[0m\u001b[0;34m(\u001b[0m\u001b[0mpy_operation_name\u001b[0m\u001b[0;34m)\u001b[0m\u001b[0;34m\u001b[0m\u001b[0;34m\u001b[0m\u001b[0m\n",
      "\u001b[0;32m~/miniconda3/envs/bluechip/lib/python3.8/site-packages/botocore/client.py\u001b[0m in \u001b[0;36m_make_api_call\u001b[0;34m(self, operation_name, api_params)\u001b[0m\n\u001b[1;32m    626\u001b[0m             \u001b[0;34m'auth_type'\u001b[0m\u001b[0;34m:\u001b[0m \u001b[0moperation_model\u001b[0m\u001b[0;34m.\u001b[0m\u001b[0mauth_type\u001b[0m\u001b[0;34m,\u001b[0m\u001b[0;34m\u001b[0m\u001b[0;34m\u001b[0m\u001b[0m\n\u001b[1;32m    627\u001b[0m         }\n\u001b[0;32m--> 628\u001b[0;31m         request_dict = self._convert_to_request_dict(\n\u001b[0m\u001b[1;32m    629\u001b[0m             api_params, operation_model, context=request_context)\n\u001b[1;32m    630\u001b[0m \u001b[0;34m\u001b[0m\u001b[0m\n",
      "\u001b[0;32m~/miniconda3/envs/bluechip/lib/python3.8/site-packages/botocore/client.py\u001b[0m in \u001b[0;36m_convert_to_request_dict\u001b[0;34m(self, api_params, operation_model, context)\u001b[0m\n\u001b[1;32m    674\u001b[0m         api_params = self._emit_api_params(\n\u001b[1;32m    675\u001b[0m             api_params, operation_model, context)\n\u001b[0;32m--> 676\u001b[0;31m         request_dict = self._serializer.serialize_to_request(\n\u001b[0m\u001b[1;32m    677\u001b[0m             api_params, operation_model)\n\u001b[1;32m    678\u001b[0m         \u001b[0;32mif\u001b[0m \u001b[0;32mnot\u001b[0m \u001b[0mself\u001b[0m\u001b[0;34m.\u001b[0m\u001b[0m_client_config\u001b[0m\u001b[0;34m.\u001b[0m\u001b[0minject_host_prefix\u001b[0m\u001b[0;34m:\u001b[0m\u001b[0;34m\u001b[0m\u001b[0;34m\u001b[0m\u001b[0m\n",
      "\u001b[0;32m~/miniconda3/envs/bluechip/lib/python3.8/site-packages/botocore/validate.py\u001b[0m in \u001b[0;36mserialize_to_request\u001b[0;34m(self, parameters, operation_model)\u001b[0m\n\u001b[1;32m    295\u001b[0m                                                     operation_model.input_shape)\n\u001b[1;32m    296\u001b[0m             \u001b[0;32mif\u001b[0m \u001b[0mreport\u001b[0m\u001b[0;34m.\u001b[0m\u001b[0mhas_errors\u001b[0m\u001b[0;34m(\u001b[0m\u001b[0;34m)\u001b[0m\u001b[0;34m:\u001b[0m\u001b[0;34m\u001b[0m\u001b[0;34m\u001b[0m\u001b[0m\n\u001b[0;32m--> 297\u001b[0;31m                 \u001b[0;32mraise\u001b[0m \u001b[0mParamValidationError\u001b[0m\u001b[0;34m(\u001b[0m\u001b[0mreport\u001b[0m\u001b[0;34m=\u001b[0m\u001b[0mreport\u001b[0m\u001b[0;34m.\u001b[0m\u001b[0mgenerate_report\u001b[0m\u001b[0;34m(\u001b[0m\u001b[0;34m)\u001b[0m\u001b[0;34m)\u001b[0m\u001b[0;34m\u001b[0m\u001b[0;34m\u001b[0m\u001b[0m\n\u001b[0m\u001b[1;32m    298\u001b[0m         return self._serializer.serialize_to_request(parameters,\n\u001b[1;32m    299\u001b[0m                                                      operation_model)\n",
      "\u001b[0;31mParamValidationError\u001b[0m: Parameter validation failed:\nInvalid type for parameter Text, value: ['', \"return builder([{ 'value': 9, 'name': 'AntV' }, { 'value': 8, 'name': 'F2' }, { 'value': 8, 'name': 'G2' }, { 'value': 8, 'name': 'G6' }, { 'value': 8, 'name': 'DataSet' }, { 'value': 8, 'name': '墨者学院' }, { 'value': 6, 'name': 'Analysis' }, { 'value': 6, 'name': 'Data Mining' }, { 'value': 6, 'name': 'Data Vis' }, { 'value': 6, 'name': 'Design' }, { 'value': 6, 'name': 'Grammar' }, { 'value': 6, 'name': 'Graphics' }, { 'value': 6, 'name': 'Graph' }, { 'value': 6, 'name': 'Hierarchy' }, { 'value': 6, 'name': 'Labeling' }, { 'value': 6, 'name': 'Layout' }, { 'value': 6, 'name': 'Quantitative' }, { 'value': 6, 'name': 'Relation' }, { 'value': 6, 'name': 'Statistics' }, { 'value': 6, 'name': '可视化' }, { 'value': 6, 'name': '数据' }, { 'value': 6, 'name': '数据可视化' }, { 'value': 4, 'name': 'Arc Diagram' }, { 'value': 4, 'name': 'Bar Chart' }, { 'value': 4, 'name': 'Canvas' }, { 'value': 4, 'name': 'Chart' }, { 'value': 4, 'name': 'DAG' }, { 'value': 4, 'name': 'DG' }, { 'value': 4, 'name': 'Facet' }, { 'value': 4, 'name': 'Geo' }, { 'value': 4, 'name': 'Line' }, { 'value': 4, 'name': 'MindMap' }, { 'value': 4, 'name': 'Pie' }, { 'value': 4, 'name': 'Pizza Chart' }, { 'value': 4, 'name': 'Punch Card' }, { 'value': 4, 'name': 'SVG' }, { 'value': 4, 'name': 'Sunburst' }, { 'value': 4, 'name': 'Tree' }, { 'value': 4, 'name': 'UML' }, { 'value': 3, 'name': 'Chart' }, { 'value': 3, 'name': 'View' }, { 'value': 3, 'name': 'Geom' }, { 'value': 3, 'name': 'Shape' }, { 'value': 3, 'name': 'Scale' }, { 'value': 3, 'name': 'Animate' }, { 'value': 3, 'name': 'Global' }, { 'value': 3, 'name': 'Slider' }, { 'value': 3, 'name': 'Connector' }, { 'value': 3, 'name': 'Transform' }, { 'value': 3, 'name': 'Util' }, { 'value': 3, 'name': 'DomUtil' }, { 'value': 3, 'name': 'MatrixUtil' }, { 'value': 3, 'name': 'PathUtil' }, { 'value': 3, 'name': 'G' }, { 'value': 3, 'name': '2D' }, { 'value': 3, 'name': '3D' }, { 'value': 3, 'name': 'Line' }, { 'value': 3, 'name': 'Area' }, { 'value': 3, 'name': 'Interval' }, { 'value': 3, 'name': 'Schema' }, { 'value': 3, 'name': 'Edge' }, { 'value': 3, 'name': 'Polygon' }, { 'value': 3, 'name': 'Heatmap' }, { 'value': 3, 'name': 'Render' }, { 'value': 3, 'name': 'Tooltip' }, { 'value': 3, 'name': 'Axis' }, { 'value': 3, 'name': 'Guide' }, { 'value': 3, 'name': 'Coord' }, { 'value': 3, 'name': 'Legend' }, { 'value': 3, 'name': 'Path' }, { 'value': 3, 'name': 'Helix' }, { 'value': 3, 'name': 'Theta' }, { 'value': 3, 'name': 'Rect' }, { 'value': 3, 'name': 'Polar' }, { 'value': 3, 'name': 'Dsv' }, { 'value': 3, 'name': 'Csv' }, { 'value': 3, 'name': 'Tsv' }, { 'value': 3, 'name': 'GeoJSON' }, { 'value': 3, 'name': 'TopoJSON' }, { 'value': 3, 'name': 'Filter' }, { 'value': 3, 'name': 'Map' }, { 'value': 3, 'name': 'Pick' }, { 'value': 3, 'name': 'Rename' }, { 'value': 3, 'name': 'Filter' }, { 'value': 3, 'name': 'Map' }, { 'value': 3, 'name': 'Pick' }, { 'value': 3, 'name': 'Rename' }, { 'value': 3, 'name': 'Reverse' }, { 'value': 3, 'name': 'sort' }, { 'value': 3, 'name': 'Subset' }, { 'value': 3, 'name': 'Partition' }, { 'value': 3, 'name': 'Imputation' }, { 'value': 3, 'name': 'Fold' }, { 'value': 3, 'name': 'Aggregate' }, { 'value': 3, 'name': 'Proportion' }, { 'value': 3, 'name': 'Histogram' }, { 'value': 3, 'name': 'Quantile' }, { 'value': 3, 'name': 'Treemap' }, { 'value': 3, 'name': 'Hexagon' }, { 'value': 3, 'name': 'Binning' }, { 'value': 3, 'name': 'kernel' }, { 'value': 3, 'name': 'Regression' }, { 'value': 3, 'name': 'Density' }, { 'value': 3, 'name': 'Sankey' }, { 'value': 3, 'name': 'Voronoi' }, { 'value': 3, 'name': 'Projection' }, { 'value': 3, 'name': 'Centroid' }, { 'value': 3, 'name': 'H5' }, { 'value': 3, 'name': 'Mobile' }, { 'value': 3, 'name': 'K线图' }, { 'value': 3, 'name': '关系图' }, { 'value': 3, 'name': '烛形图' }, { 'value': 3, 'name': '股票图' }, { 'value': 3, 'name': '直方图' }, { 'value': 3, 'name': '金字塔图' }, { 'value': 3, 'name': '分面' }, { 'value': 3, 'name': '南丁格尔玫瑰图' }, { 'value': 3, 'name': '饼图' }, { 'value': 3, 'name': '线图' }, { 'value': 3, 'name': '点图' }, { 'value': 3, 'name': '散点图' }, { 'value': 3, 'name': '子弹图' }, { 'value': 3, 'name': '柱状图' }, { 'value': 3, 'name': '仪表盘' }, { 'value': 3, 'name': '气泡图' }, { 'value': 3, 'name': '漏斗图' }, { 'value': 3, 'name': '热力图' }, { 'value': 3, 'name': '玉玦图' }, { 'value': 3, 'name': '直方图' }, { 'value': 3, 'name': '矩形树图' }, { 'value': 3, 'name': '箱形图' }, { 'value': 3, 'name': '色块图' }, { 'value': 3, 'name': '螺旋图' }, { 'value': 3, 'name': '词云' }, { 'value': 3, 'name': '词云图' }, { 'value': 3, 'name': '雷达图' }, { 'value': 3, 'name': '面积图' }, { 'value': 3, 'name': '马赛克图' }, { 'value': 3, 'name': '盒须图' }, { 'value': 3, 'name': '坐标轴' }, { 'value': 3, 'name': '' }, { 'value': 3, 'name': 'Jacques Bertin' }, { 'value': 3, 'name': 'Leland Wilkinson' }, { 'value': 3, 'name': 'William Playfair' }, { 'value': 3, 'name': '关联' }, { 'value': 3, 'name': '分布' }, { 'value': 3, 'name': '区间' }, { 'value': 3, 'name': '占比' }, { 'value': 3, 'name': '地图' }, { 'value': 3, 'name': '时间' }, { 'value': 3, 'name': '比较' }, { 'value': 3, 'name': '流程' }, { 'value': 3, 'name': '趋势' }, { 'value': 2, 'name': '亦叶' }, { 'value': 2, 'name': '再飞' }, { 'value': 2, 'name': '完白' }, { 'value': 2, 'name': '巴思' }, { 'value': 2, 'name': '张初尘' }, { 'value': 2, 'name': '御术' }, { 'value': 2, 'name': '有田' }, { 'value': 2, 'name': '沉鱼' }, { 'value': 2, 'name': '玉伯' }, { 'value': 2, 'name': '画康' }, { 'value': 2, 'name': '祯逸' }, { 'value': 2, 'name': '绝云' }, { 'value': 2, 'name': '罗宪' }, { 'value': 2, 'name': '萧庆' }, { 'value': 2, 'name': '董珊珊' }, { 'value': 2, 'name': '陆沉' }, { 'value': 2, 'name': '顾倾' }, { 'value': 2, 'name': 'Domo' }, { 'value': 2, 'name': 'GPL' }, { 'value': 2, 'name': 'PAI' }, { 'value': 2, 'name': 'SPSS' }, { 'value': 2, 'name': 'SYSTAT' }, { 'value': 2, 'name': 'Tableau' }, { 'value': 2, 'name': 'D3' }, { 'value': 2, 'name': 'Vega' }, { 'value': 2, 'name': '统计图表' }])\\n\"], type: <class 'list'>, valid types: <class 'str'>"
     ]
    }
   ],
   "source": [
    "p = \" return builder([{ 'value': 9, 'name': 'AntV' }, { 'value': 8, 'name': 'F2' }, { 'value': 8, 'name': 'G2' }, { 'value': 8, 'name': 'G6' }, { 'value': 8, 'name': 'DataSet' }, { 'value': 8, 'name': '墨者学院' }, { 'value': 6, 'name': 'Analysis' }, { 'value': 6, 'name': 'Data Mining' }, { 'value': 6, 'name': 'Data Vis' }, { 'value': 6, 'name': 'Design' }, { 'value': 6, 'name': 'Grammar' }, { 'value': 6, 'name': 'Graphics' }, { 'value': 6, 'name': 'Graph' }, { 'value': 6, 'name': 'Hierarchy' }, { 'value': 6, 'name': 'Labeling' }, { 'value': 6, 'name': 'Layout' }, { 'value': 6, 'name': 'Quantitative' }, { 'value': 6, 'name': 'Relation' }, { 'value': 6, 'name': 'Statistics' }, { 'value': 6, 'name': '可视化' }, { 'value': 6, 'name': '数据' }, { 'value': 6, 'name': '数据可视化' }, { 'value': 4, 'name': 'Arc Diagram' }, { 'value': 4, 'name': 'Bar Chart' }, { 'value': 4, 'name': 'Canvas' }, { 'value': 4, 'name': 'Chart' }, { 'value': 4, 'name': 'DAG' }, { 'value': 4, 'name': 'DG' }, { 'value': 4, 'name': 'Facet' }, { 'value': 4, 'name': 'Geo' }, { 'value': 4, 'name': 'Line' }, { 'value': 4, 'name': 'MindMap' }, { 'value': 4, 'name': 'Pie' }, { 'value': 4, 'name': 'Pizza Chart' }, { 'value': 4, 'name': 'Punch Card' }, { 'value': 4, 'name': 'SVG' }, { 'value': 4, 'name': 'Sunburst' }, { 'value': 4, 'name': 'Tree' }, { 'value': 4, 'name': 'UML' }, { 'value': 3, 'name': 'Chart' }, { 'value': 3, 'name': 'View' }, { 'value': 3, 'name': 'Geom' }, { 'value': 3, 'name': 'Shape' }, { 'value': 3, 'name': 'Scale' }, { 'value': 3, 'name': 'Animate' }, { 'value': 3, 'name': 'Global' }, { 'value': 3, 'name': 'Slider' }, { 'value': 3, 'name': 'Connector' }, { 'value': 3, 'name': 'Transform' }, { 'value': 3, 'name': 'Util' }, { 'value': 3, 'name': 'DomUtil' }, { 'value': 3, 'name': 'MatrixUtil' }, { 'value': 3, 'name': 'PathUtil' }, { 'value': 3, 'name': 'G' }, { 'value': 3, 'name': '2D' }, { 'value': 3, 'name': '3D' }, { 'value': 3, 'name': 'Line' }, { 'value': 3, 'name': 'Area' }, { 'value': 3, 'name': 'Interval' }, { 'value': 3, 'name': 'Schema' }, { 'value': 3, 'name': 'Edge' }, { 'value': 3, 'name': 'Polygon' }, { 'value': 3, 'name': 'Heatmap' }, { 'value': 3, 'name': 'Render' }, { 'value': 3, 'name': 'Tooltip' }, { 'value': 3, 'name': 'Axis' }, { 'value': 3, 'name': 'Guide' }, { 'value': 3, 'name': 'Coord' }, { 'value': 3, 'name': 'Legend' }, { 'value': 3, 'name': 'Path' }, { 'value': 3, 'name': 'Helix' }, { 'value': 3, 'name': 'Theta' }, { 'value': 3, 'name': 'Rect' }, { 'value': 3, 'name': 'Polar' }, { 'value': 3, 'name': 'Dsv' }, { 'value': 3, 'name': 'Csv' }, { 'value': 3, 'name': 'Tsv' }, { 'value': 3, 'name': 'GeoJSON' }, { 'value': 3, 'name': 'TopoJSON' }, { 'value': 3, 'name': 'Filter' }, { 'value': 3, 'name': 'Map' }, { 'value': 3, 'name': 'Pick' }, { 'value': 3, 'name': 'Rename' }, { 'value': 3, 'name': 'Filter' }, { 'value': 3, 'name': 'Map' }, { 'value': 3, 'name': 'Pick' }, { 'value': 3, 'name': 'Rename' }, { 'value': 3, 'name': 'Reverse' }, { 'value': 3, 'name': 'sort' }, { 'value': 3, 'name': 'Subset' }, { 'value': 3, 'name': 'Partition' }, { 'value': 3, 'name': 'Imputation' }, { 'value': 3, 'name': 'Fold' }, { 'value': 3, 'name': 'Aggregate' }, { 'value': 3, 'name': 'Proportion' }, { 'value': 3, 'name': 'Histogram' }, { 'value': 3, 'name': 'Quantile' }, { 'value': 3, 'name': 'Treemap' }, { 'value': 3, 'name': 'Hexagon' }, { 'value': 3, 'name': 'Binning' }, { 'value': 3, 'name': 'kernel' }, { 'value': 3, 'name': 'Regression' }, { 'value': 3, 'name': 'Density' }, { 'value': 3, 'name': 'Sankey' }, { 'value': 3, 'name': 'Voronoi' }, { 'value': 3, 'name': 'Projection' }, { 'value': 3, 'name': 'Centroid' }, { 'value': 3, 'name': 'H5' }, { 'value': 3, 'name': 'Mobile' }, { 'value': 3, 'name': 'K线图' }, { 'value': 3, 'name': '关系图' }, { 'value': 3, 'name': '烛形图' }, { 'value': 3, 'name': '股票图' }, { 'value': 3, 'name': '直方图' }, { 'value': 3, 'name': '金字塔图' }, { 'value': 3, 'name': '分面' }, { 'value': 3, 'name': '南丁格尔玫瑰图' }, { 'value': 3, 'name': '饼图' }, { 'value': 3, 'name': '线图' }, { 'value': 3, 'name': '点图' }, { 'value': 3, 'name': '散点图' }, { 'value': 3, 'name': '子弹图' }, { 'value': 3, 'name': '柱状图' }, { 'value': 3, 'name': '仪表盘' }, { 'value': 3, 'name': '气泡图' }, { 'value': 3, 'name': '漏斗图' }, { 'value': 3, 'name': '热力图' }, { 'value': 3, 'name': '玉玦图' }, { 'value': 3, 'name': '直方图' }, { 'value': 3, 'name': '矩形树图' }, { 'value': 3, 'name': '箱形图' }, { 'value': 3, 'name': '色块图' }, { 'value': 3, 'name': '螺旋图' }, { 'value': 3, 'name': '词云' }, { 'value': 3, 'name': '词云图' }, { 'value': 3, 'name': '雷达图' }, { 'value': 3, 'name': '面积图' }, { 'value': 3, 'name': '马赛克图' }, { 'value': 3, 'name': '盒须图' }, { 'value': 3, 'name': '坐标轴' }, { 'value': 3, 'name': '' }, { 'value': 3, 'name': 'Jacques Bertin' }, { 'value': 3, 'name': 'Leland Wilkinson' }, { 'value': 3, 'name': 'William Playfair' }, { 'value': 3, 'name': '关联' }, { 'value': 3, 'name': '分布' }, { 'value': 3, 'name': '区间' }, { 'value': 3, 'name': '占比' }, { 'value': 3, 'name': '地图' }, { 'value': 3, 'name': '时间' }, { 'value': 3, 'name': '比较' }, { 'value': 3, 'name': '流程' }, { 'value': 3, 'name': '趋势' }, { 'value': 2, 'name': '亦叶' }, { 'value': 2, 'name': '再飞' }, { 'value': 2, 'name': '完白' }, { 'value': 2, 'name': '巴思' }, { 'value': 2, 'name': '张初尘' }, { 'value': 2, 'name': '御术' }, { 'value': 2, 'name': '有田' }, { 'value': 2, 'name': '沉鱼' }, { 'value': 2, 'name': '玉伯' }, { 'value': 2, 'name': '画康' }, { 'value': 2, 'name': '祯逸' }, { 'value': 2, 'name': '绝云' }, { 'value': 2, 'name': '罗宪' }, { 'value': 2, 'name': '萧庆' }, { 'value': 2, 'name': '董珊珊' }, { 'value': 2, 'name': '陆沉' }, { 'value': 2, 'name': '顾倾' }, { 'value': 2, 'name': 'Domo' }, { 'value': 2, 'name': 'GPL' }, { 'value': 2, 'name': 'PAI' }, { 'value': 2, 'name': 'SPSS' }, { 'value': 2, 'name': 'SYSTAT' }, { 'value': 2, 'name': 'Tableau' }, { 'value': 2, 'name': 'D3' }, { 'value': 2, 'name': 'Vega' }, { 'value': 2, 'name': '统计图表' }])\\n\"\n",
    "splits = [translate.translate_text(Text=x, SourceLanguageCode=\"zh\", TargetLanguageCode=\"en\")['TranslatedText'] for x in [p.split(' ', 1)]]\n",
    "\n",
    "\n",
    "\n"
   ]
  },
  {
   "cell_type": "code",
   "execution_count": 64,
   "metadata": {},
   "outputs": [
    {
     "data": {
      "text/plain": [
       "array(['son', '.js', '.md', 'ock', 'tml', 'png', 'jpg', 'vue', 'ess',\n",
       "       'jsx', 'svg'], dtype=object)"
      ]
     },
     "execution_count": 64,
     "metadata": {},
     "output_type": "execute_result"
    }
   ],
   "source": [
    "pd.Series(data=[x[-3:] for x in glob.glob(\"/Users/dschorin/Documents/projects/Dashboard/**/*.**\", recursive=True)]).unique()"
   ]
  },
  {
   "cell_type": "code",
   "execution_count": 71,
   "metadata": {},
   "outputs": [
    {
     "name": "stdout",
     "output_type": "stream",
     "text": [
      "/Users/dschorin/Documents/projects/Dashboard/jsconfig.json\n",
      "/Users/dschorin/Documents/projects/Dashboard/webstorm.config.js\n",
      "/Users/dschorin/Documents/projects/Dashboard/jest.config.js\n",
      "/Users/dschorin/Documents/projects/Dashboard/README.md\n",
      "/Users/dschorin/Documents/projects/Dashboard/yarn.lock\n",
      "/Users/dschorin/Documents/projects/Dashboard/babel.config.js\n",
      "/Users/dschorin/Documents/projects/Dashboard/package.json\n",
      "/Users/dschorin/Documents/projects/Dashboard/vue.config.js\n",
      "/Users/dschorin/Documents/projects/Dashboard/README.zh-CN.md\n",
      "/Users/dschorin/Documents/projects/Dashboard/postcss.config.js\n",
      "/Users/dschorin/Documents/projects/Dashboard/config/plugin.config.js\n",
      "/Users/dschorin/Documents/projects/Dashboard/config/themePluginConfig.js\n",
      "/Users/dschorin/Documents/projects/Dashboard/docs/add-page-loading-animate.md\n",
      "/Users/dschorin/Documents/projects/Dashboard/docs/webpack-bundle-analyzer.md\n",
      "/Users/dschorin/Documents/projects/Dashboard/public/index.html\n",
      "/Users/dschorin/Documents/projects/Dashboard/public/logo.png\n",
      "/Users/dschorin/Documents/projects/Dashboard/public/avatar2.jpg\n",
      "/Users/dschorin/Documents/projects/Dashboard/src/App.vue\n",
      "/Users/dschorin/Documents/projects/Dashboard/src/global.less\n",
      "/Users/dschorin/Documents/projects/Dashboard/src/permission.js\n",
      "/Users/dschorin/Documents/projects/Dashboard/src/main.js\n",
      "/Users/dschorin/Documents/projects/Dashboard/src/locales/index.js\n",
      "/Users/dschorin/Documents/projects/Dashboard/src/locales/lang/en-US.js\n",
      "/Users/dschorin/Documents/projects/Dashboard/src/locales/lang/zh-CN.js\n",
      "/Users/dschorin/Documents/projects/Dashboard/src/locales/lang/zh-CN/setting.js\n",
      "/Users/dschorin/Documents/projects/Dashboard/src/locales/lang/zh-CN/user.js\n",
      "/Users/dschorin/Documents/projects/Dashboard/src/locales/lang/zh-CN/global.js\n",
      "/Users/dschorin/Documents/projects/Dashboard/src/locales/lang/zh-CN/account.js\n",
      "/Users/dschorin/Documents/projects/Dashboard/src/locales/lang/zh-CN/form.js\n",
      "/Users/dschorin/Documents/projects/Dashboard/src/locales/lang/zh-CN/menu.js\n",
      "/Users/dschorin/Documents/projects/Dashboard/src/locales/lang/zh-CN/result.js\n",
      "/Users/dschorin/Documents/projects/Dashboard/src/locales/lang/zh-CN/dashboard.js\n",
      "/Users/dschorin/Documents/projects/Dashboard/src/locales/lang/zh-CN/form/basicForm.js\n",
      "/Users/dschorin/Documents/projects/Dashboard/src/locales/lang/zh-CN/result/success.js\n",
      "/Users/dschorin/Documents/projects/Dashboard/src/locales/lang/zh-CN/result/fail.js\n",
      "/Users/dschorin/Documents/projects/Dashboard/src/locales/lang/zh-CN/dashboard/analysis.js\n",
      "/Users/dschorin/Documents/projects/Dashboard/src/locales/lang/zh-CN/account/settings.js\n",
      "/Users/dschorin/Documents/projects/Dashboard/src/locales/lang/en-US/setting.js\n",
      "/Users/dschorin/Documents/projects/Dashboard/src/locales/lang/en-US/user.js\n",
      "/Users/dschorin/Documents/projects/Dashboard/src/locales/lang/en-US/global.js\n",
      "/Users/dschorin/Documents/projects/Dashboard/src/locales/lang/en-US/account.js\n",
      "/Users/dschorin/Documents/projects/Dashboard/src/locales/lang/en-US/form.js\n",
      "/Users/dschorin/Documents/projects/Dashboard/src/locales/lang/en-US/menu.js\n",
      "/Users/dschorin/Documents/projects/Dashboard/src/locales/lang/en-US/result.js\n",
      "/Users/dschorin/Documents/projects/Dashboard/src/locales/lang/en-US/dashboard.js\n",
      "/Users/dschorin/Documents/projects/Dashboard/src/locales/lang/en-US/form/basicForm.js\n",
      "/Users/dschorin/Documents/projects/Dashboard/src/locales/lang/en-US/result/success.js\n",
      "/Users/dschorin/Documents/projects/Dashboard/src/locales/lang/en-US/result/fail.js\n",
      "/Users/dschorin/Documents/projects/Dashboard/src/locales/lang/en-US/dashboard/analysis.js\n",
      "/Users/dschorin/Documents/projects/Dashboard/src/locales/lang/en-US/account/settings.js\n",
      "/Users/dschorin/Documents/projects/Dashboard/src/core/icons.js\n",
      "/Users/dschorin/Documents/projects/Dashboard/src/core/bootstrap.js\n",
      "/Users/dschorin/Documents/projects/Dashboard/src/core/lazy_use.js\n",
      "/Users/dschorin/Documents/projects/Dashboard/src/core/use.js\n",
      "/Users/dschorin/Documents/projects/Dashboard/src/core/directives/action.js\n",
      "/Users/dschorin/Documents/projects/Dashboard/src/core/permission/permission.js\n",
      "/Users/dschorin/Documents/projects/Dashboard/src/config/router.config.js\n",
      "/Users/dschorin/Documents/projects/Dashboard/src/config/defaultSettings.js\n",
      "/Users/dschorin/Documents/projects/Dashboard/src/mock/util.js\n",
      "/Users/dschorin/Documents/projects/Dashboard/src/mock/index.js\n",
      "/Users/dschorin/Documents/projects/Dashboard/src/mock/services/other.js\n",
      "/Users/dschorin/Documents/projects/Dashboard/src/mock/services/user.js\n",
      "/Users/dschorin/Documents/projects/Dashboard/src/mock/services/auth.js\n",
      "/Users/dschorin/Documents/projects/Dashboard/src/mock/services/tagCloud.js\n",
      "/Users/dschorin/Documents/projects/Dashboard/src/mock/services/manage.js\n",
      "/Users/dschorin/Documents/projects/Dashboard/src/mock/services/article.js\n",
      "/Users/dschorin/Documents/projects/Dashboard/src/utils/util.js\n",
      "/Users/dschorin/Documents/projects/Dashboard/src/utils/axios.js\n",
      "/Users/dschorin/Documents/projects/Dashboard/src/utils/utils.less\n",
      "/Users/dschorin/Documents/projects/Dashboard/src/utils/request.js\n",
      "/Users/dschorin/Documents/projects/Dashboard/src/utils/routeConvert.js\n",
      "/Users/dschorin/Documents/projects/Dashboard/src/utils/screenLog.js\n",
      "/Users/dschorin/Documents/projects/Dashboard/src/utils/filter.js\n",
      "/Users/dschorin/Documents/projects/Dashboard/src/utils/domUtil.js\n",
      "/Users/dschorin/Documents/projects/Dashboard/src/components/Dialog.js\n",
      "/Users/dschorin/Documents/projects/Dashboard/src/components/index.js\n",
      "/Users/dschorin/Documents/projects/Dashboard/src/components/index.less\n",
      "/Users/dschorin/Documents/projects/Dashboard/src/components/Tree/Tree.jsx\n",
      "/Users/dschorin/Documents/projects/Dashboard/src/components/SelectLang/index.less\n",
      "/Users/dschorin/Documents/projects/Dashboard/src/components/SelectLang/index.jsx\n",
      "/Users/dschorin/Documents/projects/Dashboard/src/components/PageLoading/index.jsx\n",
      "/Users/dschorin/Documents/projects/Dashboard/src/components/tools/TwoStepCaptcha.vue\n",
      "/Users/dschorin/Documents/projects/Dashboard/src/components/_util/util.js\n",
      "/Users/dschorin/Documents/projects/Dashboard/src/components/StandardFormRow/StandardFormRow.vue\n",
      "/Users/dschorin/Documents/projects/Dashboard/src/components/StandardFormRow/index.js\n",
      "/Users/dschorin/Documents/projects/Dashboard/src/components/ArticleListContent/index.js\n",
      "/Users/dschorin/Documents/projects/Dashboard/src/components/ArticleListContent/ArticleListContent.vue\n",
      "/Users/dschorin/Documents/projects/Dashboard/src/components/IconSelector/icons.js\n",
      "/Users/dschorin/Documents/projects/Dashboard/src/components/IconSelector/index.js\n",
      "/Users/dschorin/Documents/projects/Dashboard/src/components/IconSelector/README.md\n",
      "/Users/dschorin/Documents/projects/Dashboard/src/components/IconSelector/IconSelector.vue\n",
      "/Users/dschorin/Documents/projects/Dashboard/src/components/MultiTab/events.js\n",
      "/Users/dschorin/Documents/projects/Dashboard/src/components/MultiTab/index.js\n",
      "/Users/dschorin/Documents/projects/Dashboard/src/components/MultiTab/index.less\n",
      "/Users/dschorin/Documents/projects/Dashboard/src/components/MultiTab/MultiTab.vue\n",
      "/Users/dschorin/Documents/projects/Dashboard/src/components/Trend/index.js\n",
      "/Users/dschorin/Documents/projects/Dashboard/src/components/Trend/index.less\n",
      "/Users/dschorin/Documents/projects/Dashboard/src/components/Trend/index.md\n",
      "/Users/dschorin/Documents/projects/Dashboard/src/components/Trend/Trend.vue\n",
      "/Users/dschorin/Documents/projects/Dashboard/src/components/SettingDrawer/themeColor.js\n",
      "/Users/dschorin/Documents/projects/Dashboard/src/components/SettingDrawer/SettingItem.vue\n",
      "/Users/dschorin/Documents/projects/Dashboard/src/components/SettingDrawer/index.js\n",
      "/Users/dschorin/Documents/projects/Dashboard/src/components/SettingDrawer/SettingDrawer.vue\n",
      "/Users/dschorin/Documents/projects/Dashboard/src/components/SettingDrawer/settingConfig.js\n",
      "/Users/dschorin/Documents/projects/Dashboard/src/components/NoticeIcon/NoticeIcon.vue\n",
      "/Users/dschorin/Documents/projects/Dashboard/src/components/NoticeIcon/index.js\n",
      "/Users/dschorin/Documents/projects/Dashboard/src/components/Other/CarbonAds.vue\n",
      "/Users/dschorin/Documents/projects/Dashboard/src/components/Charts/TransferBar.vue\n",
      "/Users/dschorin/Documents/projects/Dashboard/src/components/Charts/Liquid.vue\n",
      "/Users/dschorin/Documents/projects/Dashboard/src/components/Charts/RankList.vue\n",
      "/Users/dschorin/Documents/projects/Dashboard/src/components/Charts/TagCloud.vue\n",
      "/Users/dschorin/Documents/projects/Dashboard/src/components/Charts/MiniProgress.vue\n",
      "/Users/dschorin/Documents/projects/Dashboard/src/components/Charts/Radar.vue\n",
      "/Users/dschorin/Documents/projects/Dashboard/src/components/Charts/MiniArea.vue\n",
      "/Users/dschorin/Documents/projects/Dashboard/src/components/Charts/ChartCard.vue\n",
      "/Users/dschorin/Documents/projects/Dashboard/src/components/Charts/Trend.vue\n",
      "/Users/dschorin/Documents/projects/Dashboard/src/components/Charts/MiniBar.vue\n",
      "/Users/dschorin/Documents/projects/Dashboard/src/components/Charts/Bar.vue\n",
      "/Users/dschorin/Documents/projects/Dashboard/src/components/Charts/chart.less\n",
      "/Users/dschorin/Documents/projects/Dashboard/src/components/Charts/smooth.area.less\n",
      "/Users/dschorin/Documents/projects/Dashboard/src/components/Charts/MiniSmoothArea.vue\n",
      "/Users/dschorin/Documents/projects/Dashboard/src/components/GlobalFooter/index.vue\n",
      "/Users/dschorin/Documents/projects/Dashboard/src/components/NProgress/nprogress.less\n",
      "/Users/dschorin/Documents/projects/Dashboard/src/components/TagSelect/TagSelectOption.jsx\n",
      "/Users/dschorin/Documents/projects/Dashboard/src/components/TagSelect/index.jsx\n",
      "/Users/dschorin/Documents/projects/Dashboard/src/components/AvatarList/Item.jsx\n",
      "/Users/dschorin/Documents/projects/Dashboard/src/components/AvatarList/index.js\n",
      "/Users/dschorin/Documents/projects/Dashboard/src/components/AvatarList/index.less\n",
      "/Users/dschorin/Documents/projects/Dashboard/src/components/AvatarList/index.md\n",
      "/Users/dschorin/Documents/projects/Dashboard/src/components/AvatarList/List.jsx\n",
      "/Users/dschorin/Documents/projects/Dashboard/src/components/Search/GlobalSearch.jsx\n",
      "/Users/dschorin/Documents/projects/Dashboard/src/components/Search/index.less\n",
      "/Users/dschorin/Documents/projects/Dashboard/src/components/TextArea/index.jsx\n",
      "/Users/dschorin/Documents/projects/Dashboard/src/components/TextArea/style.less\n",
      "/Users/dschorin/Documents/projects/Dashboard/src/components/GlobalHeader/RightContent.vue\n",
      "/Users/dschorin/Documents/projects/Dashboard/src/components/GlobalHeader/AvatarDropdown.vue\n",
      "/Users/dschorin/Documents/projects/Dashboard/src/components/Table/index.js\n",
      "/Users/dschorin/Documents/projects/Dashboard/src/components/Table/README.md\n",
      "/Users/dschorin/Documents/projects/Dashboard/src/components/FooterToolbar/FooterToolBar.vue\n",
      "/Users/dschorin/Documents/projects/Dashboard/src/components/FooterToolbar/index.js\n",
      "/Users/dschorin/Documents/projects/Dashboard/src/components/FooterToolbar/index.less\n",
      "/Users/dschorin/Documents/projects/Dashboard/src/components/FooterToolbar/index.md\n",
      "/Users/dschorin/Documents/projects/Dashboard/src/components/Ellipsis/index.js\n",
      "/Users/dschorin/Documents/projects/Dashboard/src/components/Ellipsis/Ellipsis.vue\n",
      "/Users/dschorin/Documents/projects/Dashboard/src/components/Ellipsis/index.md\n",
      "/Users/dschorin/Documents/projects/Dashboard/src/components/Editor/QuillEditor.vue\n",
      "/Users/dschorin/Documents/projects/Dashboard/src/components/Editor/WangEditor.vue\n",
      "/Users/dschorin/Documents/projects/Dashboard/src/components/NumberInfo/NumberInfo.vue\n",
      "/Users/dschorin/Documents/projects/Dashboard/src/components/NumberInfo/index.js\n",
      "/Users/dschorin/Documents/projects/Dashboard/src/components/NumberInfo/index.less\n",
      "/Users/dschorin/Documents/projects/Dashboard/src/components/NumberInfo/index.md\n",
      "/Users/dschorin/Documents/projects/Dashboard/src/layouts/BasicLayout.less\n",
      "/Users/dschorin/Documents/projects/Dashboard/src/layouts/RouteView.vue\n",
      "/Users/dschorin/Documents/projects/Dashboard/src/layouts/index.js\n",
      "/Users/dschorin/Documents/projects/Dashboard/src/layouts/PageView.vue\n",
      "/Users/dschorin/Documents/projects/Dashboard/src/layouts/BlankLayout.vue\n",
      "/Users/dschorin/Documents/projects/Dashboard/src/layouts/UserLayout.vue\n",
      "/Users/dschorin/Documents/projects/Dashboard/src/layouts/BasicLayout.vue\n",
      "/Users/dschorin/Documents/projects/Dashboard/src/api/login.js\n",
      "/Users/dschorin/Documents/projects/Dashboard/src/api/manage.js\n",
      "/Users/dschorin/Documents/projects/Dashboard/src/views/404.vue\n",
      "/Users/dschorin/Documents/projects/Dashboard/src/views/form/stepForm/Step2.vue\n",
      "/Users/dschorin/Documents/projects/Dashboard/src/views/form/stepForm/Step3.vue\n",
      "/Users/dschorin/Documents/projects/Dashboard/src/views/form/stepForm/Step1.vue\n",
      "/Users/dschorin/Documents/projects/Dashboard/src/views/form/stepForm/StepForm.vue\n",
      "/Users/dschorin/Documents/projects/Dashboard/src/views/form/advancedForm/AdvancedForm.vue\n",
      "/Users/dschorin/Documents/projects/Dashboard/src/views/form/advancedForm/RepositoryForm.vue\n",
      "/Users/dschorin/Documents/projects/Dashboard/src/views/form/advancedForm/TaskForm.vue\n",
      "/Users/dschorin/Documents/projects/Dashboard/src/views/form/basicForm/index.vue\n",
      "/Users/dschorin/Documents/projects/Dashboard/src/views/role/RoleList.vue\n",
      "/Users/dschorin/Documents/projects/Dashboard/src/views/result/Success.vue\n",
      "/Users/dschorin/Documents/projects/Dashboard/src/views/result/Error.vue\n",
      "/Users/dschorin/Documents/projects/Dashboard/src/views/other/PermissionList.vue\n",
      "/Users/dschorin/Documents/projects/Dashboard/src/views/other/TreeList.vue\n",
      "/Users/dschorin/Documents/projects/Dashboard/src/views/other/IconSelectorView.vue\n",
      "/Users/dschorin/Documents/projects/Dashboard/src/views/other/BigForm.vue\n",
      "/Users/dschorin/Documents/projects/Dashboard/src/views/other/UserList.vue\n",
      "/Users/dschorin/Documents/projects/Dashboard/src/views/other/RoleList.vue\n",
      "/Users/dschorin/Documents/projects/Dashboard/src/views/other/TableInnerEditList.vue\n",
      "/Users/dschorin/Documents/projects/Dashboard/src/views/other/modules/OrgModal.vue\n",
      "/Users/dschorin/Documents/projects/Dashboard/src/views/other/modules/RoleModal.vue\n",
      "/Users/dschorin/Documents/projects/Dashboard/src/views/user/Login.vue\n",
      "/Users/dschorin/Documents/projects/Dashboard/src/views/user/Register.vue\n",
      "/Users/dschorin/Documents/projects/Dashboard/src/views/user/RegisterResult.vue\n",
      "/Users/dschorin/Documents/projects/Dashboard/src/views/dashboard/Workplace.less\n",
      "/Users/dschorin/Documents/projects/Dashboard/src/views/dashboard/Monitor.vue\n",
      "/Users/dschorin/Documents/projects/Dashboard/src/views/dashboard/Workplace.vue\n",
      "/Users/dschorin/Documents/projects/Dashboard/src/views/dashboard/Analysis.vue\n",
      "/Users/dschorin/Documents/projects/Dashboard/src/views/dashboard/TestWork.vue\n",
      "/Users/dschorin/Documents/projects/Dashboard/src/views/profile/advanced/Advanced.vue\n",
      "/Users/dschorin/Documents/projects/Dashboard/src/views/profile/basic/index.vue\n",
      "/Users/dschorin/Documents/projects/Dashboard/src/views/list/BasicList.vue\n",
      "/Users/dschorin/Documents/projects/Dashboard/src/views/list/CardList.vue\n",
      "/Users/dschorin/Documents/projects/Dashboard/src/views/list/QueryList.vue\n",
      "/Users/dschorin/Documents/projects/Dashboard/src/views/list/TableList.vue\n",
      "/Users/dschorin/Documents/projects/Dashboard/src/views/list/search/Projects.vue\n",
      "/Users/dschorin/Documents/projects/Dashboard/src/views/list/search/SearchLayout.vue\n",
      "/Users/dschorin/Documents/projects/Dashboard/src/views/list/search/Article.vue\n",
      "/Users/dschorin/Documents/projects/Dashboard/src/views/list/search/Applications.vue\n",
      "/Users/dschorin/Documents/projects/Dashboard/src/views/list/search/components/CardInfo.vue\n",
      "/Users/dschorin/Documents/projects/Dashboard/src/views/list/search/components/IconText.vue\n",
      "/Users/dschorin/Documents/projects/Dashboard/src/views/list/components/Info.vue\n",
      "/Users/dschorin/Documents/projects/Dashboard/src/views/list/table/List.vue\n",
      "/Users/dschorin/Documents/projects/Dashboard/src/views/list/table/Edit.vue\n",
      "/Users/dschorin/Documents/projects/Dashboard/src/views/list/modules/CreateForm.vue\n",
      "/Users/dschorin/Documents/projects/Dashboard/src/views/list/modules/StepByStepModal.vue\n",
      "/Users/dschorin/Documents/projects/Dashboard/src/views/list/modules/TaskForm.vue\n",
      "/Users/dschorin/Documents/projects/Dashboard/src/views/account/settings/Custom.vue\n",
      "/Users/dschorin/Documents/projects/Dashboard/src/views/account/settings/Index.vue\n",
      "/Users/dschorin/Documents/projects/Dashboard/src/views/account/settings/AvatarModal.vue\n",
      "/Users/dschorin/Documents/projects/Dashboard/src/views/account/settings/Binding.vue\n",
      "/Users/dschorin/Documents/projects/Dashboard/src/views/account/settings/Notification.vue\n",
      "/Users/dschorin/Documents/projects/Dashboard/src/views/account/settings/BasicSetting.vue\n",
      "/Users/dschorin/Documents/projects/Dashboard/src/views/account/settings/Security.vue\n",
      "/Users/dschorin/Documents/projects/Dashboard/src/views/account/center/index.vue\n",
      "/Users/dschorin/Documents/projects/Dashboard/src/views/account/center/page/App.vue\n",
      "/Users/dschorin/Documents/projects/Dashboard/src/views/account/center/page/index.js\n",
      "/Users/dschorin/Documents/projects/Dashboard/src/views/account/center/page/Project.vue\n",
      "/Users/dschorin/Documents/projects/Dashboard/src/views/account/center/page/Article.vue\n",
      "/Users/dschorin/Documents/projects/Dashboard/src/views/exception/403.vue\n",
      "/Users/dschorin/Documents/projects/Dashboard/src/views/exception/404.vue\n",
      "/Users/dschorin/Documents/projects/Dashboard/src/views/exception/500.vue\n",
      "/Users/dschorin/Documents/projects/Dashboard/src/assets/background.svg\n",
      "/Users/dschorin/Documents/projects/Dashboard/src/assets/logo.png\n",
      "/Users/dschorin/Documents/projects/Dashboard/src/assets/logo.svg\n",
      "/Users/dschorin/Documents/projects/Dashboard/src/assets/icons/bx-analyse.svg\n",
      "/Users/dschorin/Documents/projects/Dashboard/src/store/getters.js\n",
      "/Users/dschorin/Documents/projects/Dashboard/src/store/index.js\n",
      "/Users/dschorin/Documents/projects/Dashboard/src/store/mutation-types.js\n",
      "/Users/dschorin/Documents/projects/Dashboard/src/store/device-mixin.js\n",
      "/Users/dschorin/Documents/projects/Dashboard/src/store/i18n-mixin.js\n",
      "/Users/dschorin/Documents/projects/Dashboard/src/store/app-mixin.js\n",
      "/Users/dschorin/Documents/projects/Dashboard/src/store/modules/async-router.js\n",
      "/Users/dschorin/Documents/projects/Dashboard/src/store/modules/user.js\n",
      "/Users/dschorin/Documents/projects/Dashboard/src/store/modules/permission.js\n",
      "/Users/dschorin/Documents/projects/Dashboard/src/store/modules/app.js\n",
      "/Users/dschorin/Documents/projects/Dashboard/src/router/index.js\n",
      "/Users/dschorin/Documents/projects/Dashboard/src/router/README.md\n",
      "/Users/dschorin/Documents/projects/Dashboard/src/router/generator-routers.js\n"
     ]
    }
   ],
   "source": [
    "for name in glob.glob(\"/Users/dschorin/Documents/projects/Dashboard/**/*.**\", recursive=True):\n",
    "    print(name)"
   ]
  },
  {
   "cell_type": "code",
   "execution_count": 36,
   "metadata": {},
   "outputs": [
    {
     "data": {
      "text/plain": [
       "['[English] (. /Readme.md) | English\\n',\n",
       " '\\n',\n",
       " '<h1 align=\"center\">Ant Design View Pro</h1>\\n',\n",
       " '<div align=\"center\">\\n',\n",
       " 'An out-of-box UI solution for enterprise applications as a Vue boilerplate. based on <a href=\"https://vuecomponent.github.io/ant-design-vue/docs/vue/introduce-cn/\" target=\"_blank\">Ant Design of Vue</a>\\n',\n",
       " '</div>\\n',\n",
       " '\\n',\n",
       " '<div align=\"center\">\\n',\n",
       " '\\n',\n",
       " '[![License](https://img.shields.io/npm/l/package.json.svg?style=flat)](https://github.com/vueComponent/ant-design-vue-pro/blob/master/LICENSE)\\n',\n",
       " '[![Release](https://img.shields.io/github/release/vueComponent/ant-design-vue-pro.svg?style=flat)](https://github.com/vueComponent/ant-design-vue-pro/releases/latest)\\n',\n",
       " '[! [Travis branch] (https://travis-ci.org/vueComponent/ant-design-vue-pro.svg?branch=master)](https://travis-ci.org/vueComponent/ant-design-vue-pro)\\n',\n",
       " '\\n',\n",
       " '</div>\\n',\n",
       " '\\n',\n",
       " '-: https://preview.pro.antdv.com\\n',\n",
       " '- Home: https://pro.antdv.com\\n',\n",
       " '- Literature: https://pro.antdv.com/docs/getting-started\\n',\n",
       " '- Changelog: https://pro.antdv.com/docs/changelog\\n',\n",
       " '- Frequently Asked Questions: https://pro.antdv.com/docs/faq\\n',\n",
       " '\\n',\n",
       " '\\n',\n",
       " 'Overview\\n',\n",
       " '----\\n',\n",
       " '\\n',\n",
       " '基于 [Ant Design of Vue](https://vuecomponent.github.io/ant-design-vue/docs/vue/introduce-cn/) 实现的 [Ant Design Pro](https://pro.ant.design/) \\n',\n",
       " '\\n',\n",
       " '![dashboard](https://static-2.loacg.com/open/static/github/SP1.png)\\n',\n",
       " '\\n',\n",
       " 'Environment and Dependencies\\n',\n",
       " '----\\n',\n",
       " '\\n',\n",
       " '- node\\n',\n",
       " '- yarn\\n',\n",
       " '- webpack\\n',\n",
       " '- eslint\\n',\n",
       " '- @vue /cli ~3\\n',\n",
       " '- [ant-design-vue] (https://github.com/vueComponent/ant-design-vue) - Ant Design Of View\\n',\n",
       " '- [view-cropper] (https://github.com/xyxiao001/vue-cropper)\\n',\n",
       " '- [@antv /g2] (https://antv.alipay.com/zh-cn/index.html) - Alipay AnTV\\n',\n",
       " '- [Aim-view] (https://viserjs.github.io/docs.html#/viser/guide/installation) - antv/g2\\n',\n",
       " '\\n',\n",
       " '> Please note that we strongly recommend that this project use the [Yarn] (https://yarnpkg.com/) package management tool, which can be identical to the dependencies (yarn.lock) loaded on the demo site of this project. Since we do not enforce version control of dependencies, when introduced with non-yarn package management, problems may be caused by the introduction of a new version of the library on which Pro depends has been upgraded. The author may have problems with using this project as a base project because time issues cannot be resolved in a timely manner.\\n',\n",
       " '\\n',\n",
       " '\\n',\n",
       " '\\n',\n",
       " 'Project download and run\\n',\n",
       " '----\\n',\n",
       " '\\n',\n",
       " '- Pull project code\\n',\n",
       " '``bash\\n',\n",
       " 'git clone https://github.com/vueComponent/ant-design-vue-pro.git\\n',\n",
       " 'cd ant-design-pro\\n',\n",
       " '```\\n',\n",
       " '\\n',\n",
       " '- Installation Dependencies\\n',\n",
       " '```\\n',\n",
       " 'yarn install\\n',\n",
       " '```\\n',\n",
       " '\\n',\n",
       " '- Development mode operation\\n',\n",
       " '```\\n',\n",
       " 'yarn run serve\\n',\n",
       " '```\\n',\n",
       " '\\n',\n",
       " '- Compile the project\\n',\n",
       " '```\\n',\n",
       " 'yarn run build\\n',\n",
       " '```\\n',\n",
       " '\\n',\n",
       " '- Lints and fixes files\\n',\n",
       " '```\\n',\n",
       " 'yarn run lint\\n',\n",
       " '```\\n',\n",
       " '\\n',\n",
       " '\\n',\n",
       " '\\n',\n",
       " 'Other instructions\\n',\n",
       " '----\\n',\n",
       " '\\n',\n",
       " '-**Feedback on Issue (IMPORTANT! Important! Important!) Please read this before open*issue*: [Issue/PR Writing Suggestions] (https://github.com/vueComponent/ant-design-vue-pro/issues/90) ** \\n',\n",
       " '\\n',\n",
       " '- The project uses [vue-cli3] (https://cli.vuejs.org/guide/), please make sure that the vue-cli you are using is new and have learned the cli official documentation tutorial\\n',\n",
       " '\\n',\n",
       " '- Turn off Eslint (not recommended) Remove the entire node code in package.json`, “lintconfig” value under `vue.config.js` change to `false`\\n',\n",
       " '\\n',\n",
       " \"- 组件按需加载 `/src/main.js` L14 相关代码 `import './core/lazy_use'` / `import './core/use'` \\n\",\n",
       " '\\n',\n",
       " '- [修改 Ant Design 配色 (@kokoroli)](https://github.com/kokoroli/antd-awesome/blob/master/docs/Ant_Design_%E6%A0%B7%E5%BC%8F%E8%A6%86%E7%9B%96.md)\\n',\n",
       " '\\n',\n",
       " '- I18N: [Reg (@musnow)] (. /src/locales/index.js)\\n',\n",
       " '\\n',\n",
       " '- Production environment does not load `mock` by default, see `src/mock/index.js` for more details\\n',\n",
       " '\\n',\n",
       " '- **For production environment, please use the `release` version code, any problems with the master code need to be solved by yourself**\\n',\n",
       " '\\n',\n",
       " '## Browser Compatible\\n',\n",
       " '\\n',\n",
       " 'Modern browsers and IE10.\\n',\n",
       " '\\n',\n",
       " '| [<img src=\"https://raw.githubusercontent.com/alrra/browser-logos/master/src/edge/edge_48x48.png\" alt=\"IE / Edge\" width=\"24px\" height=\"24px\" />](http://godban.github.io/browsers-support-badges/)</br>IE / Edge | [<img src=\"https://raw.githubusercontent.com/alrra/browser-logos/master/src/firefox/firefox_48x48.png\" alt=\"Firefox\" width=\"24px\" height=\"24px\" />](http://godban.github.io/browsers-support-badges/)</br>Firefox | [<img src=\"https://raw.githubusercontent.com/alrra/browser-logos/master/src/chrome/chrome_48x48.png\" alt=\"Chrome\" width=\"24px\" height=\"24px\" />](http://godban.github.io/browsers-support-badges/)</br>Chrome | [<img src=\"https://raw.githubusercontent.com/alrra/browser-logos/master/src/safari/safari_48x48.png\" alt=\"Safari\" width=\"24px\" height=\"24px\" />](http://godban.github.io/browsers-support-badges/)</br>Safari | [<img src=\"https://raw.githubusercontent.com/alrra/browser-logos/master/src/opera/opera_48x48.png\" alt=\"Opera\" width=\"24px\" height=\"24px\" />](http://godban.github.io/browsers-support-badges/)</br>Opera |\\n',\n",
       " '| --- | --- | --- | --- | --- |\\n',\n",
       " '| IE10, Edge | last 2 versions | last 2 versions | last 2 versions | last 2 versions |\\n',\n",
       " '\\n',\n",
       " '\\n',\n",
       " '## Contributors\\n',\n",
       " '\\n',\n",
       " 'This project exists thanks to all the people who contribute. \\n',\n",
       " '<a href=\"https://github.com/vueComponent/ant-design-vue-pro/graphs/contributors\"><img src=\"https://opencollective.com/ant-design-pro-vue/contributors.svg?width=890&button=false\" /></a>\\n']"
      ]
     },
     "execution_count": 36,
     "metadata": {},
     "output_type": "execute_result"
    }
   ],
   "source": [
    "stringlist_translated = [translate.translate_text(Text=x, SourceLanguageCode=\"auto\", TargetLanguageCode=\"en\") for x in stringlist]\n",
    "[x['TranslatedText'] for x in stringlist_translated]\n"
   ]
  },
  {
   "cell_type": "code",
   "execution_count": 13,
   "metadata": {},
   "outputs": [],
   "source": [
    "# translator = Translator()\n",
    "# translator.translate(stringlist[0].encode('utf-8'))\n"
   ]
  },
  {
   "cell_type": "code",
   "execution_count": 23,
   "metadata": {},
   "outputs": [],
   "source": [
    "import boto3\n",
    "translate = boto3.client(service_name='translate')\n",
    "response = translate.translate_text(Text=stringlist[0], SourceLanguageCode=\"auto\", TargetLanguageCode=\"en\")\n"
   ]
  },
  {
   "cell_type": "code",
   "execution_count": 24,
   "metadata": {},
   "outputs": [
    {
     "data": {
      "text/plain": [
       "'[English](./README.md) | 简体中文\\n'"
      ]
     },
     "execution_count": 24,
     "metadata": {},
     "output_type": "execute_result"
    }
   ],
   "source": [
    "stringlist[0]"
   ]
  },
  {
   "cell_type": "code",
   "execution_count": 41,
   "metadata": {},
   "outputs": [
    {
     "data": {
      "text/plain": [
       "{'TranslatedText': '[English] (. /Readme.md) | English\\n',\n",
       " 'SourceLanguageCode': 'zh',\n",
       " 'TargetLanguageCode': 'en',\n",
       " 'ResponseMetadata': {'RequestId': 'e88912ec-78ac-4676-8a95-8377f1ae91b6',\n",
       "  'HTTPStatusCode': 200,\n",
       "  'HTTPHeaders': {'x-amzn-requestid': 'e88912ec-78ac-4676-8a95-8377f1ae91b6',\n",
       "   'cache-control': 'no-cache',\n",
       "   'content-type': 'application/x-amz-json-1.1',\n",
       "   'content-length': '109',\n",
       "   'date': 'Fri, 09 Apr 2021 15:46:46 GMT'},\n",
       "  'RetryAttempts': 0}}"
      ]
     },
     "execution_count": 41,
     "metadata": {},
     "output_type": "execute_result"
    }
   ],
   "source": [
    "response"
   ]
  },
  {
   "cell_type": "code",
   "execution_count": null,
   "metadata": {},
   "outputs": [],
   "source": []
  },
  {
   "cell_type": "code",
   "execution_count": null,
   "metadata": {},
   "outputs": [],
   "source": [
    "#!/usr/bin/env python\n",
    "# -*- coding: utf-8 -*-\n",
    "\n",
    "import boto3\n",
    "\n",
    "translate = boto3.client(service_name='translate')\n",
    "response = translate.translate_text(Text=\"Amazon Family\", SourceLanguageCode=\"en\", TargetLanguageCode=\"fr\")\n",
    "\n",
    "# The terminology file 'my-first-terminology.csv' has the following contents:\n",
    "'''\n",
    "en,fr\n",
    "Amazon Family,Amazon Famille\n",
    "'''\n",
    "\n",
    "# Read the terminology from a local file\n",
    "with open(\"/Users/dschorin/Documents/projects/Dashboard/README.zh-CN.md\", 'rb') as f:\n",
    "    data = f.read()\n",
    "\n",
    "file_data = bytearray(data)\n",
    "\n",
    "print(\"Importing the terminology into Amazon Translate...\")\n",
    "response = translate.import_terminology(Name='my-first-terminology', MergeStrategy='OVERWRITE', TerminologyData={\"File\": file_data, \"Format\": 'CSV'})\n",
    "print(\"Terminology imported: \"),\n",
    "print(response.get('TerminologyProperties'))\n",
    "print(\"\\n\")\n",
    "\n",
    "print(\"Getting the imported terminology...\")\n",
    "response = translate.get_terminology(Name='my-first-terminology', TerminologyDataFormat='CSV')\n",
    "print(\"Received terminology: \"),\n",
    "print(response.get('TerminologyProperties'))\n",
    "print(\"The terminology data file can be downloaded here: \" + response.get('TerminologyDataLocation').get('Location'))\n",
    "print(\"\\n\")\n",
    "\n",
    "print(\"Listing the first 10 terminologies for the account...\")\n",
    "response = translate.list_terminologies(MaxResults=10)\n",
    "print(\"Received terminologies: \"),\n",
    "print(response.get('TerminologyPropertiesList'))\n",
    "print(\"\\n\")\n",
    "\n",
    "print(\"Translating 'Amazon Family' from English to French with no terminology...\")\n",
    "response = translate.translate_text(Text=\"Amazon Family\", SourceLanguageCode=\"en\", TargetLanguageCode=\"fr\")\n",
    "print(\"Translated text: \" + response.get('TranslatedText'))\n",
    "print(\"\\n\")\n",
    "\n",
    "print(\"Translating 'Amazon Family' from English to French with the 'my-first-terminology' terminology...\")\n",
    "response = translate.translate_text(Text=\"Amazon Family\", TerminologyNames=[\"my-first-terminology\"], SourceLanguageCode=\"en\", TargetLanguageCode=\"fr\")\n",
    "print(\"Translated text: \" + response.get('TranslatedText'))\n",
    "print(\"\\n\")\n",
    "\n",
    "# The terminology file 'my-updated-terminology.csv' has the following contents:\n",
    "'''\n",
    "en,fr\n",
    "Amazon Family,Amazon Famille\n",
    "Prime Video, Prime Video\n",
    "'''\n",
    "\n",
    "# Read the terminology from a local file\n",
    "with open('/tmp/my-updated-terminology.csv', 'rb') as f:\n",
    "    data = f.read()\n",
    "\n",
    "file_data = bytearray(data)\n",
    "\n",
    "print(\"Updating the imported terminology in Amazon Translate...\")\n",
    "response = translate.import_terminology(Name='my-first-terminology', MergeStrategy='OVERWRITE', TerminologyData={\"File\": file_data, \"Format\": 'CSV'})\n",
    "print(\"Terminology updated: \"),\n",
    "print(response.get('TerminologyProperties'))\n",
    "print(\"\\n\")\n",
    "\n",
    "print(\"Translating 'Prime Video' from English to French with no terminology...\")\n",
    "response = translate.translate_text(Text=\"Prime Video\", SourceLanguageCode=\"en\", TargetLanguageCode=\"fr\")\n",
    "print(\"Translated text: \" + response.get('TranslatedText'))\n",
    "print(\"\\n\")\n",
    "\n",
    "print(\"Translating 'Prime Video' from English to French with the 'my-first-terminology' terminology...\")\n",
    "response = translate.translate_text(Text=\"Prime Video\", TerminologyNames=[\"my-first-terminology\"], SourceLanguageCode=\"en\", TargetLanguageCode=\"fr\")\n",
    "print(\"Translated text: \" + response.get('TranslatedText'))\n",
    "print(\"\\n\")\n",
    "\n",
    "print(\"Cleaning up by deleting 'my-first-terminology'...\")\n",
    "translate.delete_terminology(Name=\"my-first-terminology\")\n",
    "print(\"Terminology deleted.\")"
   ]
  },
  {
   "cell_type": "code",
   "execution_count": 1,
   "metadata": {},
   "outputs": [],
   "source": [
    "string = '''\n",
    "[English](./README.md) | 简体中文\n",
    "\n",
    "<h1 align=\"center\">Ant Design Vue Pro</h1>\n",
    "<div align=\"center\">\n",
    "An out-of-box UI solution for enterprise applications as a Vue boilerplate. based on  <a href=\"https://vuecomponent.github.io/ant-design-vue/docs/vue/introduce-cn/\" target=\"_blank\">Ant Design of Vue</a>\n",
    "</div>\n",
    "\n",
    "<div align=\"center\">\n",
    "\n",
    "[![License](https://img.shields.io/npm/l/package.json.svg?style=flat)](https://github.com/vueComponent/ant-design-vue-pro/blob/master/LICENSE)\n",
    "[![Release](https://img.shields.io/github/release/vueComponent/ant-design-vue-pro.svg?style=flat)](https://github.com/vueComponent/ant-design-vue-pro/releases/latest)\n",
    "[![Travis branch](https://travis-ci.org/vueComponent/ant-design-vue-pro.svg?branch=master)](https://travis-ci.org/vueComponent/ant-design-vue-pro)\n",
    "\n",
    "</div>\n",
    "\n",
    "- 预览: https://preview.pro.antdv.com\n",
    "- 首页: https://pro.antdv.com\n",
    "- 文档: https://pro.antdv.com/docs/getting-started\n",
    "- 更新日志: https://pro.antdv.com/docs/changelog\n",
    "- 常见问题: https://pro.antdv.com/docs/faq\n",
    "'''"
   ]
  },
  {
   "cell_type": "code",
   "execution_count": null,
   "metadata": {},
   "outputs": [],
   "source": []
  }
 ],
 "metadata": {
  "kernelspec": {
   "display_name": "bluechip",
   "language": "python",
   "name": "bluechip"
  },
  "language_info": {
   "codemirror_mode": {
    "name": "ipython",
    "version": 3
   },
   "file_extension": ".py",
   "mimetype": "text/x-python",
   "name": "python",
   "nbconvert_exporter": "python",
   "pygments_lexer": "ipython3",
   "version": "3.8.5"
  }
 },
 "nbformat": 4,
 "nbformat_minor": 4
}
